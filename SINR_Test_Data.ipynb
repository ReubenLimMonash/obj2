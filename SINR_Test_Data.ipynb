{
 "cells": [
  {
   "attachments": {},
   "cell_type": "markdown",
   "metadata": {},
   "source": [
    "# SINR Harbanero"
   ]
  },
  {
   "cell_type": "code",
   "execution_count": 21,
   "metadata": {},
   "outputs": [],
   "source": [
    "import pandas as pd\n",
    "import matplotlib.pyplot as plt\n",
    "import math\n",
    "import numpy as np\n",
    "from scipy import special\n",
    "\n",
    "def q_func(x):\n",
    "    q = 0.5 - 0.5*special.erf(x / np.sqrt(2))\n",
    "    return q\n",
    "\n",
    "def friis_calc(P,freq,dist,ple):\n",
    "    '''\n",
    "    Friis path loss equation\n",
    "    P = Tx transmit power\n",
    "    freq = Signal frequency\n",
    "    dist = Transmission distance\n",
    "    ple = Path loss exponent\n",
    "    '''\n",
    "    propagation_speed = 299792458\n",
    "    l = propagation_speed / freq\n",
    "    h_pl = P * l**2 / (16*math.pi**2)\n",
    "    P_Rx = h_pl * dist**(-ple)\n",
    "    return P_Rx\n",
    "\n",
    "def plos_calc(h_dist, height_tx, height_rx, env='suburban'):\n",
    "    '''\n",
    "    % This function implements the LoS probability model from the paper\n",
    "    % \"Blockage Modeling for Inter-layer UAVs Communications in Urban\n",
    "    % Environments\" \n",
    "    % param h_dist    : horizontal distance between Tx and Rx (m)\n",
    "    % param height_tx : height of Tx\n",
    "    % param height_rx : height of Rx\n",
    "    '''\n",
    "    if env == 'suburban':\n",
    "        a1 = 0.1\n",
    "        a2 = 7.5e-4\n",
    "        a3 = 8\n",
    "    \n",
    "    delta_h = height_tx - height_rx\n",
    "    # pow_factor = 2 * h_dist * math.sqrt(a1*a2/math.pi) + a1 # NOTE: Use this pow_factor if assuming PPP building dist.\n",
    "    pow_factor = h_dist * math.sqrt(a1*a2) # NOTE: Use this pow_factor if assuming ITU-R assumptions.\n",
    "    if delta_h == 0:\n",
    "        p = (1 - math.exp((-(height_tx)**2) / (2*a3**2))) ** pow_factor\n",
    "    else:\n",
    "        if delta_h < 0:\n",
    "            h1 = height_rx\n",
    "            h2 = height_tx\n",
    "        else:\n",
    "            h1 = height_tx\n",
    "            h2 = height_rx\n",
    "        delta_h = abs(delta_h)\n",
    "        p = (1 - (math.sqrt(2*math.pi)*a3 / delta_h) * abs(q_func(h1/a3) - q_func(h2/a3))) ** pow_factor\n",
    "    return p\n",
    "\n",
    "def sinr_lognormal_approx(h_dist, height, env='suburban'):\n",
    "    '''\n",
    "    To approximate the SNR from signal considering multipath fading and shadowing\n",
    "    Assuming no interference due to CSMA, and fixed noise\n",
    "    Inputs:\n",
    "    h_dist = Horizontal Distance between Tx and Rx\n",
    "    height = Height difference between Tx and Rx\n",
    "    env = The operating environment (currently only suburban supported)\n",
    "    '''\n",
    "    # Signal properties\n",
    "    P_Tx_dBm = 20 # Transmit power of \n",
    "    P_Tx = 10**(P_Tx_dBm/10) / 1000\n",
    "    freq = 2.4e9 # Channel frequency (Hz)\n",
    "    noise_dBm = -86\n",
    "    noise = 10**(noise_dBm/10) / 1000\n",
    "    if env == \"suburban\":\n",
    "        # ENV Parameters Constants ----------------------------------\n",
    "        # n_min = 2\n",
    "        # n_max = 2.75\n",
    "        # K_dB_min = 7.8\n",
    "        # K_dB_max = 17.5\n",
    "        # K_min = 10**(K_dB_min/10)\n",
    "        # K_max = 10**(K_dB_max/10)\n",
    "        # alpha = 11.25 # Env parameters for logarithm std dev of shadowing \n",
    "        # beta = 0.06 # Env parameters for logarithm std dev of shadowing \n",
    "        n_min = 2\n",
    "        n_max = 2.75\n",
    "        K_dB_min = 1.4922\n",
    "        K_dB_max = 12.2272\n",
    "        K_min = 10**(K_dB_min/10)\n",
    "        K_max = 10**(K_dB_max/10)\n",
    "        alpha = 11.1852 # Env parameters for logarithm std dev of shadowing \n",
    "        beta = 0.06 # Env parameters for logarithm std dev of shadowing \n",
    "        # -----------------------------------------------------------\n",
    "    # Calculate fading parameters\n",
    "    PLoS = plos_calc(h_dist, 0, height, env='suburban')\n",
    "    print(\"PLoS\", PLoS)\n",
    "    theta_Rx = math.atan2(height, h_dist) * 180 / math.pi # Elevation angle in degrees\n",
    "    ple = (n_min - n_max) * PLoS + n_max # Path loss exponent\n",
    "    print(\"PLE\", ple)\n",
    "    sigma_phi_dB = alpha*math.exp(-beta*theta_Rx)\n",
    "    sigma_phi = 10**(sigma_phi_dB/10) # Logarithmic std dev of shadowing\n",
    "    print(\"Sigma\", sigma_phi)\n",
    "    K = K_min * math.exp(math.log(K_max/K_min) * PLoS**2)\n",
    "    print(\"Rician-K\", K)\n",
    "    omega = 1 # Omega of NCS (Rician)\n",
    "    dist = math.sqrt(h_dist**2 + height**2)\n",
    "    P_Rx = friis_calc(P_Tx, freq, dist, ple)\n",
    "    print(\"Path loss\", P_Rx)\n",
    "    # Approximate L-NCS RV (which is the SNR) as lognormal\n",
    "    eta = math.log(10) / 10\n",
    "    mu_phi = 10*math.log10(P_Rx)\n",
    "    E_phi = math.exp(eta*mu_phi + eta**2*sigma_phi**2/2) # Mean of shadowing RV\n",
    "    var_phi = math.exp(2*eta*mu_phi+eta**2*sigma_phi**2)*(math.exp(eta**2*sigma_phi**2)-1) # Variance of shadowing RV\n",
    "    E_chi = (special.gamma(1+1)/(1+K))*special.hyp1f1(-1,1,-K)*omega\n",
    "    var_chi = (special.gamma(1+2)/(1+K)**2)*special.hyp1f1(-2,1,-K)*omega**2 - E_chi**2\n",
    "    E_SNR = E_phi * E_chi / noise\n",
    "    var_SNR = ((var_phi+E_phi**2)*(var_chi+E_chi**2) - E_phi**2 * E_chi**2) / noise**2\n",
    "    sigma_ln = math.sqrt(math.log(var_SNR/E_SNR**2 + 1))\n",
    "    mu_ln = math.log(E_SNR) - sigma_ln**2/2\n",
    "    print(\"SNR Mean\", E_SNR)\n",
    "    print(\"SNR Var\", math.sqrt(var_SNR))\n",
    "    print(E_phi, var_phi, E_chi, var_chi)\n",
    "\n",
    "\n",
    "def lognormal_pdf(x, mu, sigma):\n",
    "    y = math.exp(-(math.log(x)-mu)**2./(2*sigma**2)) / (math.sqrt(2*math.pi)*sigma*x)\n",
    "    return y\n",
    "\n",
    "def gamma_pdf(x, k, theta):\n",
    "    y = (x**(k-1)/(theta**k*special.gamma(k)))*math.exp(-x/theta)\n",
    "    return y"
   ]
  },
  {
   "cell_type": "code",
   "execution_count": 22,
   "metadata": {},
   "outputs": [
    {
     "name": "stdout",
     "output_type": "stream",
     "text": [
      "PLoS 0.7281623115657577\n",
      "PLE 2.203878266325682\n",
      "Sigma 1.7384372775044028\n",
      "Rician-K 5.228914587708199\n",
      "Path loss 1.4166108382211576e-09\n",
      "SNR Mean 611.0046437671284\n",
      "SNR Var 440.77652725717337\n",
      "1.5347742742679956e-09 4.0935197974929605e-19 1.0 0.29530961780263376\n"
     ]
    }
   ],
   "source": [
    "sinr_lognormal_approx(50, 24)"
   ]
  },
  {
   "cell_type": "code",
   "execution_count": 15,
   "metadata": {},
   "outputs": [
    {
     "data": {
      "image/png": "[encoded data removed]",
      "text/plain": [
       "<Figure size 691.2x518.4 with 1 Axes>"
      ]
     },
     "metadata": {
      "needs_background": "light"
     },
     "output_type": "display_data"
    }
   ],
   "source": [
    "\n",
    "test_data = pd.read_csv(\"/media/research-student/One Touch/FANET Datasets/Test_Dataset_NP10000_BPSK_6-5Mbps_processed/NumMember-7_InterUAVDistance-5_Height-24_Distance-550_PacketSize-24_SendingRate-40_downlink.csv\")\n",
    "# test_data = pd.read_csv(\"/media/research-student/One Touch/FANET Datasets/Test_Dataset_NP10000_BPSK_6-5Mbps_processed/NumMember-15_InterUAVDistance-5_Height-24_Distance-550_PacketSize-248_SendingRate-424_downlink.csv\")\n",
    "\n",
    "sinr = test_data[\"U2G_SINR\"]\n",
    "mean_sinr = sinr.mean()\n",
    "std_dev_sinr = sinr.std()\n",
    "\n",
    "# Lognormal params\n",
    "sigma = math.sqrt(math.log(std_dev_sinr**2/mean_sinr**2 + 1))\n",
    "mu = math.log(mean_sinr) - sigma**2/2\n",
    "\n",
    "# Gamma params\n",
    "k = mean_sinr**2 / std_dev_sinr**2\n",
    "theta = std_dev_sinr**2 / mean_sinr\n",
    "\n",
    "pdf_range = mean_sinr + 5*std_dev_sinr\n",
    "# x = np.linspace(lognorm.ppf(0.01, sigma, loc=mu),\n",
    "#                 lognorm.ppf(0.99, sigma, loc=mu), 100)\n",
    "# pdf_ln = lognorm.pdf(x, sigma, loc=mu)\n",
    "x = np.linspace(sinr.min(), sinr.min()+pdf_range, 100)\n",
    "pdf_ln = [lognormal_pdf(X, mu, sigma) for X in x]\n",
    "pdf_gamma = [gamma_pdf(X, k, theta) for X in x]\n",
    " \n",
    "fig = plt.figure(figsize=(9.6,7.2))\n",
    "plt.hist(sinr, 150, density=True)\n",
    "plt.plot(x, pdf_ln)\n",
    "plt.plot(x, pdf_gamma)\n",
    "plt.legend((\"Lognormal\", \"Gamma\", \"Sim\"))\n",
    "plt.show()\n"
   ]
  },
  {
   "cell_type": "code",
   "execution_count": 16,
   "metadata": {},
   "outputs": [
    {
     "name": "stdout",
     "output_type": "stream",
     "text": [
      "71.84936263587497\n",
      "68.5241828350592\n",
      "3.9511295385790888\n",
      "0.8042912446947741\n",
      "71.84936263587494\n",
      "68.52418283505915\n"
     ]
    }
   ],
   "source": [
    "print(mean_sinr)\n",
    "print(std_dev_sinr)\n",
    "print(mu)\n",
    "print(sigma)\n",
    "print(math.exp(mu+sigma**2/2))\n",
    "print(math.sqrt((math.exp(sigma**2)-1)*math.exp(2*mu+sigma**2)))"
   ]
  }
 ],
 "metadata": {
  "kernelspec": {
   "display_name": "Python 3",
   "language": "python",
   "name": "python3"
  },
  "language_info": {
   "codemirror_mode": {
    "name": "ipython",
    "version": 3
   },
   "file_extension": ".py",
   "mimetype": "text/x-python",
   "name": "python",
   "nbconvert_exporter": "python",
   "pygments_lexer": "ipython3",
   "version": "3.8.10"
  },
  "orig_nbformat": 4
 },
 "nbformat": 4,
 "nbformat_minor": 2
}
