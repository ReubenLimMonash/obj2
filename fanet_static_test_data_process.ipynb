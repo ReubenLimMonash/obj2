{
 "cells": [
  {
   "attachments": {},
   "cell_type": "markdown",
   "metadata": {},
   "source": [
    "# FANET Static Test Data Processing\n",
    "Date: 06/03/2023\n",
    "Desc: To get the reliability of each static case"
   ]
  },
  {
   "cell_type": "code",
   "execution_count": 2,
   "metadata": {},
   "outputs": [
    {
     "name": "stderr",
     "output_type": "stream",
     "text": [
      "100%|██████████| 10/10 [00:00<00:00, 137.45it/s]\n"
     ]
    }
   ],
   "source": [
    "import pandas as pd # for data manipulation \n",
    "import numpy as np\n",
    "import glob, math\n",
    "import cudf \n",
    "from tqdm import tqdm\n",
    "\n",
    "processed_data_path = \"/home/research-student/omnetpp_sim_results/Test_Dataset_BPSK_6-5Mbps/Static_Test_Cases_processed/\"\n",
    "downlink_csvs = glob.glob(processed_data_path + \"/*_downlink.csv\")\n",
    "reliability = []\n",
    "h_dists = []\n",
    "for csv_file in tqdm(downlink_csvs):\n",
    "    df = cudf.read_csv(csv_file, usecols = ['Packet_State'])\n",
    "    num_packets = len(df)\n",
    "    num_reliable = len(df.loc[df[\"Packet_State\"] == \"Reliable\"])\n",
    "    h_dist = int(csv_file.split(\"/\")[-1].split(\"_\")[3].split(\"-\")[-1])\n",
    "    reliability.append(num_reliable / num_packets)\n",
    "    h_dists.append(h_dist)\n",
    "\n",
    "reliability_sorted = [x for _, x in sorted(zip(h_dists, reliability))]\n",
    "h_dists.sort()\n",
    "\n",
    "    "
   ]
  },
  {
   "cell_type": "code",
   "execution_count": 3,
   "metadata": {},
   "outputs": [
    {
     "data": {
      "text/plain": [
       "[1.0,\n",
       " 1.0,\n",
       " 0.9725525168450257,\n",
       " 0.10735765838011227,\n",
       " 0.08812260536398467,\n",
       " 0.0630784708249497,\n",
       " 0.05395647377394444,\n",
       " 0.04228605865809562,\n",
       " 0.03339386602098467,\n",
       " 0.028445952689889212]"
      ]
     },
     "execution_count": 3,
     "metadata": {},
     "output_type": "execute_result"
    }
   ],
   "source": [
    "reliability_sorted"
   ]
  },
  {
   "cell_type": "code",
   "execution_count": 4,
   "metadata": {},
   "outputs": [
    {
     "data": {
      "text/plain": [
       "[550, 600, 650, 700, 750, 800, 850, 900, 950, 1000]"
      ]
     },
     "execution_count": 4,
     "metadata": {},
     "output_type": "execute_result"
    }
   ],
   "source": [
    "h_dists"
   ]
  }
 ],
 "metadata": {
  "kernelspec": {
   "display_name": "rapids-22.12",
   "language": "python",
   "name": "python3"
  },
  "language_info": {
   "codemirror_mode": {
    "name": "ipython",
    "version": 3
   },
   "file_extension": ".py",
   "mimetype": "text/x-python",
   "name": "python",
   "nbconvert_exporter": "python",
   "pygments_lexer": "ipython3",
   "version": "3.8.15"
  },
  "orig_nbformat": 4
 },
 "nbformat": 4,
 "nbformat_minor": 2
}
