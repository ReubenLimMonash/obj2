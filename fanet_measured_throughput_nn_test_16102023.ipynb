{
 "cells": [
  {
   "cell_type": "markdown",
   "metadata": {},
   "source": [
    "# Test Measured Throughput Anomaly Detection Model"
   ]
  },
  {
   "cell_type": "markdown",
   "metadata": {},
   "source": [
    "## Imports"
   ]
  },
  {
   "cell_type": "code",
   "execution_count": 1,
   "metadata": {},
   "outputs": [
    {
     "name": "stderr",
     "output_type": "stream",
     "text": [
      "2023-10-20 16:57:59.957467: I tensorflow/core/platform/cpu_feature_guard.cc:193] This TensorFlow binary is optimized with oneAPI Deep Neural Network Library (oneDNN) to use the following CPU instructions in performance-critical operations:  AVX2 AVX512F AVX512_VNNI FMA\n",
      "To enable them in other operations, rebuild TensorFlow with the appropriate compiler flags.\n",
      "2023-10-20 16:58:00.065854: I tensorflow/core/util/util.cc:169] oneDNN custom operations are on. You may see slightly different numerical results due to floating-point round-off errors from different computation orders. To turn them off, set the environment variable `TF_ENABLE_ONEDNN_OPTS=0`.\n",
      "2023-10-20 16:58:00.070389: W tensorflow/stream_executor/platform/default/dso_loader.cc:64] Could not load dynamic library 'libcudart.so.11.0'; dlerror: libcudart.so.11.0: cannot open shared object file: No such file or directory\n",
      "2023-10-20 16:58:00.070403: I tensorflow/stream_executor/cuda/cudart_stub.cc:29] Ignore above cudart dlerror if you do not have a GPU set up on your machine.\n",
      "2023-10-20 16:58:00.093234: E tensorflow/stream_executor/cuda/cuda_blas.cc:2981] Unable to register cuBLAS factory: Attempting to register factory for plugin cuBLAS when one has already been registered\n",
      "2023-10-20 16:58:00.656075: W tensorflow/stream_executor/platform/default/dso_loader.cc:64] Could not load dynamic library 'libnvinfer.so.7'; dlerror: libnvinfer.so.7: cannot open shared object file: No such file or directory\n",
      "2023-10-20 16:58:00.656137: W tensorflow/stream_executor/platform/default/dso_loader.cc:64] Could not load dynamic library 'libnvinfer_plugin.so.7'; dlerror: libnvinfer_plugin.so.7: cannot open shared object file: No such file or directory\n",
      "2023-10-20 16:58:00.656143: W tensorflow/compiler/tf2tensorrt/utils/py_utils.cc:38] TF-TRT Warning: Cannot dlopen some TensorRT libraries. If you would like to use Nvidia GPU with TensorRT, please make sure the missing libraries mentioned above are installed properly.\n"
     ]
    }
   ],
   "source": [
    "import tensorflow as tf\n",
    "import pandas as pd # for data manipulation \n",
    "import numpy as np\n",
    "import glob, math, os\n",
    "from scipy import special\n",
    "from sklearn.metrics import accuracy_score\n",
    "import matplotlib.pyplot as plt\n",
    "from keras.models import Model\n",
    "\n",
    "def euclidean_dist(row):\n",
    "    # Function to calc euclidean distance on every df row \n",
    "    euc_dist = math.sqrt(row[\"U2G_Distance\"]**2 - row[\"Height\"]**2)\n",
    "    return euc_dist\n",
    "\n",
    "def q_func(x):\n",
    "    q = 0.5 - 0.5*special.erf(x / np.sqrt(2))\n",
    "    return q\n",
    "\n",
    "def friis_calc(P,freq,dist,ple):\n",
    "    '''\n",
    "    Friis path loss equation\n",
    "    P = Tx transmit power\n",
    "    freq = Signal frequency\n",
    "    dist = Transmission distance\n",
    "    ple = Path loss exponent\n",
    "    '''\n",
    "    propagation_speed = 299792458\n",
    "    l = propagation_speed / freq\n",
    "    h_pl = P * l**2 / (16*math.pi**2)\n",
    "    P_Rx = h_pl * dist**(-ple)\n",
    "    return P_Rx\n",
    "\n",
    "def plos_calc(h_dist, height_tx, height_rx, env='suburban'):\n",
    "    '''\n",
    "    % This function implements the LoS probability model from the paper\n",
    "    % \"Blockage Modeling for Inter-layer UAVs Communications in Urban\n",
    "    % Environments\" \n",
    "    % param h_dist    : horizontal distance between Tx and Rx (m)\n",
    "    % param height_tx : height of Tx\n",
    "    % param height_rx : height of Rx\n",
    "    '''\n",
    "    if env == 'suburban':\n",
    "        a1 = 0.1\n",
    "        a2 = 7.5e-4\n",
    "        a3 = 8\n",
    "    elif env == 'urban':\n",
    "        a1 = 0.3\n",
    "        a2 = 5e-4\n",
    "        a3 = 15\n",
    "    \n",
    "    delta_h = height_tx - height_rx\n",
    "    # pow_factor = 2 * h_dist * math.sqrt(a1*a2/math.pi) + a1 # NOTE: Use this pow_factor if assuming PPP building dist.\n",
    "    pow_factor = h_dist * math.sqrt(a1*a2) # NOTE: Use this pow_factor if assuming ITU-R assumptions.\n",
    "    if delta_h == 0:\n",
    "        p = (1 - math.exp((-(height_tx)**2) / (2*a3**2))) ** pow_factor\n",
    "    else:\n",
    "        if delta_h < 0:\n",
    "            h1 = height_rx\n",
    "            h2 = height_tx\n",
    "        else:\n",
    "            h1 = height_tx\n",
    "            h2 = height_rx\n",
    "        delta_h = abs(delta_h)\n",
    "        p = (1 - (math.sqrt(2*math.pi)*a3 / delta_h) * abs(q_func(h1/a3) - q_func(h2/a3))) ** pow_factor\n",
    "    return p\n",
    "\n",
    "def sinr_lognormal_approx(h_dist, height, env='suburban'):\n",
    "    '''\n",
    "    To approximate the SNR from signal considering multipath fading and shadowing\n",
    "    Assuming no interference due to CSMA, and fixed noise\n",
    "    Inputs:\n",
    "    h_dist = Horizontal Distance between Tx and Rx\n",
    "    height = Height difference between Tx and Rx\n",
    "    env = The operating environment (currently only suburban supported)\n",
    "    '''\n",
    "    # Signal properties\n",
    "    P_Tx_dBm = 20 # Transmit power of \n",
    "    P_Tx = 10**(P_Tx_dBm/10) / 1000\n",
    "    freq = 2.4e9 # Channel frequency (Hz)\n",
    "    noise_dBm = -86\n",
    "    noise = 10**(noise_dBm/10) / 1000\n",
    "    if env == \"suburban\":\n",
    "        # ENV Parameters Constants ----------------------------------\n",
    "        # n_min = 2\n",
    "        # n_max = 2.75\n",
    "        # K_dB_min = 7.8\n",
    "        # K_dB_max = 17.5\n",
    "        # K_min = 10**(K_dB_min/10)\n",
    "        # K_max = 10**(K_dB_max/10)\n",
    "        # alpha = 11.25 # Env parameters for logarithm std dev of shadowing \n",
    "        # beta = 0.06 # Env parameters for logarithm std dev of shadowing \n",
    "        n_min = 2\n",
    "        n_max = 2.75\n",
    "        K_dB_min = 1.4922\n",
    "        K_dB_max = 12.2272\n",
    "        K_min = 10**(K_dB_min/10)\n",
    "        K_max = 10**(K_dB_max/10)\n",
    "        alpha = 11.1852 # Env parameters for logarithm std dev of shadowing \n",
    "        beta = 0.06 # Env parameters for logarithm std dev of shadowing \n",
    "        # -----------------------------------------------------------\n",
    "    elif env == \"urban\":\n",
    "        n_min = 1.9\n",
    "        n_max = 2.7\n",
    "        K_dB_min = -5\n",
    "        K_dB_max = 15\n",
    "        K_min = 10**(K_dB_min/10)\n",
    "        K_max = 10**(K_dB_max/10)\n",
    "        alpha = 10.42 # Env parameters for logarithm std dev of shadowing \n",
    "        beta = 0.05 # Env parameters for logarithm std dev of shadowing \n",
    "    # Calculate fading parameters\n",
    "    PLoS = plos_calc(h_dist, 0, height, env=env)\n",
    "    theta_Rx = math.atan2(height, h_dist) * 180 / math.pi # Elevation angle in degrees\n",
    "    ple = (n_min - n_max) * PLoS + n_max # Path loss exponent\n",
    "    sigma_phi_dB = alpha*math.exp(-beta*theta_Rx)\n",
    "    sigma_phi = 10**(sigma_phi_dB/10) # Logarithmic std dev of shadowing\n",
    "    K = K_min * math.exp(math.log(K_max/K_min) * PLoS**2)\n",
    "    omega = 1 # Omega of NCS (Rician)\n",
    "    dist = math.sqrt(h_dist**2 + height**2)\n",
    "    P_Rx = friis_calc(P_Tx, freq, dist, ple)\n",
    "    # Approximate L-NCS RV (which is the SNR) as lognormal\n",
    "    eta = math.log(10) / 10\n",
    "    mu_phi = 10*math.log10(P_Rx)\n",
    "    E_phi = math.exp(eta*mu_phi + eta**2*sigma_phi**2/2) # Mean of shadowing RV\n",
    "    var_phi = math.exp(2*eta*mu_phi+eta**2*sigma_phi**2)*(math.exp(eta**2*sigma_phi**2)-1) # Variance of shadowing RV\n",
    "    E_chi = (special.gamma(1+1)/(1+K))*special.hyp1f1(-1,1,-K)*omega\n",
    "    var_chi = (special.gamma(1+2)/(1+K)**2)*special.hyp1f1(-2,1,-K)*omega**2 - E_chi**2\n",
    "    E_SNR = E_phi * E_chi / noise # Theoretical mean of SINR\n",
    "    var_SNR = ((var_phi+E_phi**2)*(var_chi+E_chi**2) - E_phi**2 * E_chi**2) / noise**2\n",
    "    std_dev_SNR = math.sqrt(var_SNR)\n",
    "    # sigma_ln = math.sqrt(math.log(var_SNR/E_SNR**2 + 1))\n",
    "    # mu_ln = math.log(E_SNR) - sigma_ln**2/2\n",
    "    return E_SNR, std_dev_SNR\n",
    "\n",
    "def normalize_data(df_in, columns, link, save_details_path=None):\n",
    "    '''\n",
    "    columns: The pandas data columns to normalize, given as a list of column names\n",
    "    link is the link type, for choosing the range of measured throughput to scale the data\n",
    "    '''\n",
    "    assert link in [\"Downlink\", \"Uplink\", \"Video\"], 'link must be one of \"Downlink\", \"Uplink\", \"Video\"'\n",
    "    df = df_in.copy()\n",
    "    # Define the ranges of parametrers\n",
    "    max_mean_sinr = 10*math.log10(1123) # The max mean SINR calculated at (0,60) is 1122.743643457063 (linear)\n",
    "    max_std_dev_sinr = 10*math.log10(466) # The max std dev SINR calculated at (0,60) is 465.2159856885714 (linear)\n",
    "    min_mean_sinr = 10*math.log10(0.2) # The min mean SINR calculated at (1200,60) is 0.2251212887895188 (linear)\n",
    "    min_std_dev_sinr = 10*math.log10(0.7) # The min std dev SINR calculated at (1200,300) is 0.7160093126585219 (linear)\n",
    "    max_height = 300\n",
    "    min_height = 60\n",
    "    max_h_dist = 1200\n",
    "    min_h_dist = 0\n",
    "    max_mcs = 7\n",
    "    min_mcs = 0\n",
    "    max_uav_speed = 26\n",
    "    min_uav_speed = 0\n",
    "    if link == \"Downlink\":\n",
    "        max_throughput = 16000 # Max measured throughput for DJI Spark Downlink is 15968 bytes/sec\n",
    "    elif link == \"Uplink\":\n",
    "        max_throughput = 565000 # Max measured throughput for DJI Spark Uplink is 564990 bytes/sec\n",
    "    elif link == \"Video\":\n",
    "        max_throughput = 300000 # Max measured throughput for DJI Spark Video Link is 298700 bytes/sec\n",
    "    min_throughput = 0\n",
    "\n",
    "    # Normalize data (Min Max Normalization between [-1,1])\n",
    "    if \"Height\" in columns:\n",
    "        df[\"Height\"] = df[\"Height\"].apply(lambda x: 2*(x-min_height)/(max_height-min_height) - 1)\n",
    "    if \"U2G_H_Dist\" in columns:\n",
    "        df[\"U2G_H_Dist\"] = df[\"U2G_H_Dist\"].apply(lambda x: 2*(x-min_h_dist)/(max_h_dist-min_h_dist) - 1)\n",
    "    if \"Mean_SINR\" in columns:\n",
    "        df[\"Mean_SINR\"] = df[\"Mean_SINR\"].apply(lambda x: 2*(10*math.log10(x)-min_mean_sinr)/(max_mean_sinr-min_mean_sinr) - 1) # Convert to dB space\n",
    "    if \"Std_Dev_SINR\" in columns:\n",
    "        df[\"Std_Dev_SINR\"] = df[\"Std_Dev_SINR\"].apply(lambda x: 2*(10*math.log10(x)-min_std_dev_sinr)/(max_std_dev_sinr-min_std_dev_sinr) - 1) # Convert to dB space\n",
    "    if \"UAV_Sending_Interval\" in columns:\n",
    "        df[\"UAV_Sending_Interval\"] = df[\"UAV_Sending_Interval\"].replace({10:-1, 20:-0.5, 40:0, 66.7: 0.5, 100:1, 1000:2})\n",
    "    if \"Packet_State\" in columns:\n",
    "        df['Packet_State'] = df['Packet_State'].replace({\"Reliable\":0, \"QUEUE_OVERFLOW\":1, \"RETRY_LIMIT_REACHED\":2, \"Delay_Exceeded\":3})\n",
    "    if \"Modulation\" in columns:\n",
    "        df['Modulation'] = df['Modulation'].replace({\"BPSK\":1, \"QPSK\":0.3333, 16:-0.3333, \"QAM-16\":-0.3333, \"QAM16\":-0.3333, 64:-1, \"QAM-64\":-1, \"QAM64\":-1})\n",
    "    if \"MCS\" in columns:\n",
    "        df[\"MCS\"] = df[\"MCS\"].apply(lambda x: 2*(x-min_mcs)/(max_mcs-min_mcs) - 1)\n",
    "    if \"MCS_Index\" in columns:\n",
    "        df[\"MCS_Index\"] = df[\"MCS_Index\"].apply(lambda x: 2*(x-min_mcs)/(max_mcs-min_mcs) - 1)\n",
    "    if \"UAV_Speed\" in columns:\n",
    "        df[\"UAV_Speed\"] = df[\"UAV_Speed\"].apply(lambda x: 2*(x-min_uav_speed)/(max_uav_speed-min_uav_speed) - 1)\n",
    "    if \"Throughput\" in columns:\n",
    "        df[\"Throughput\"] = df[\"Throughput\"].apply(lambda x: 2*(x-min_throughput)/(max_throughput-min_throughput) - 1)\n",
    "\n",
    "\n",
    "    # Record details of inputs and output for model\n",
    "    if save_details_path is not None:\n",
    "        f = open(os.path.join(save_details_path,\"model_details.txt\"), \"w\")\n",
    "        f.write(\"Max Height (m): {}\\n\".format(max_height))\n",
    "        f.write(\"Min Height (m): {}\\n\".format(min_height))\n",
    "        f.write(\"Max H_Dist (m): {}\\n\".format(max_h_dist))\n",
    "        f.write(\"Min H_Dist (m): {}\\n\".format(min_h_dist))\n",
    "        f.write(\"Max Mean SINR (dB): {}\\n\".format(max_mean_sinr))\n",
    "        f.write(\"Min Mean SINR (dB): {}\\n\".format(min_mean_sinr))\n",
    "        f.write(\"Max Std Dev SINR (dB): {}\\n\".format(max_std_dev_sinr))\n",
    "        f.write(\"Min Std Dev SINR (dB): {}\\n\".format(min_std_dev_sinr))\n",
    "        f.write(\"Max UAV Speed (m/s): {}\\n\".format(max_uav_speed))\n",
    "        f.write(\"Min UAV Speed (m/s): {}\\n\".format(min_uav_speed))\n",
    "        f.write(\"Max Measured Throughput (bytes/sec): {}\\n\".format(max_throughput))\n",
    "        f.write(\"Min Measured Throughput (bytes/sec): {}\\n\".format(min_throughput))\n",
    "        f.write(\"[BPSK: 1, QPSK: 0.3333, QAM16: -0.3333, QAM64: -1]\\n\")\n",
    "        f.write(\"UAV Sending Interval: [10:-1, 20:-0.5, 40:0, 66.7: 0.5, 100:1, 1000:2]\\n\")\n",
    "        f.write(\"Output: ['Reliable':0, 'QUEUE_OVERFLOW':1, 'RETRY_LIMIT_REACHED':2, 'Delay_Exceeded':3]\\n\")\n",
    "        f.close()\n",
    "\n",
    "    return df\n",
    "\n",
    "def get_mcs_index(df_in):\n",
    "    '''\n",
    "    Gets the MCS index based on modulation and bitrate column of the df_in\n",
    "    '''\n",
    "    df = df_in.copy()\n",
    "    df[\"MCS\"] = ''\n",
    "    df.loc[(df[\"Modulation\"] == \"BPSK\") & (df[\"Bitrate\"] == 6.5), \"MCS\"] = 0 # MCS Index 0\n",
    "    df.loc[(df[\"Modulation\"] == \"QPSK\") & (df[\"Bitrate\"] == 13), \"MCS\"] = 1 # MCS Index 0\n",
    "    df.loc[(df[\"Modulation\"] == \"QPSK\") & (df[\"Bitrate\"] == 19.5), \"MCS\"] = 2 # MCS Index 0\n",
    "    df.loc[(df[\"Modulation\"] == \"QAM16\") & (df[\"Bitrate\"] == 26), \"MCS\"] = 3 # MCS Index 0\n",
    "    df.loc[(df[\"Modulation\"] == \"QAM16\") & (df[\"Bitrate\"] == 39), \"MCS\"] = 4 # MCS Index 0\n",
    "    df.loc[(df[\"Modulation\"] == \"QAM64\") & (df[\"Bitrate\"] == 52), \"MCS\"] = 5 # MCS Index 0\n",
    "    df.loc[(df[\"Modulation\"] == \"QAM64\") & (df[\"Bitrate\"] == 58.5), \"MCS\"] = 6 # MCS Index 0\n",
    "    df.loc[(df[\"Modulation\"] == \"QAM64\") & (df[\"Bitrate\"] == 65), \"MCS\"] = 7 # MCS Index 0\n",
    "\n",
    "    return df"
   ]
  },
  {
   "cell_type": "markdown",
   "metadata": {},
   "source": [
    "## Test NN on Single Scenario"
   ]
  },
  {
   "cell_type": "code",
   "execution_count": 5,
   "metadata": {},
   "outputs": [
    {
     "name": "stdout",
     "output_type": "stream",
     "text": [
      "374/374 [==============================] - 1s 2ms/step\n"
     ]
    }
   ],
   "source": [
    "LINK = \"Downlink\"\n",
    "model = tf.keras.models.load_model(\"/media/research-student/One Touch/FANET Datasets/DJISpark_Measured_Throughput_10000Samples/nn_checkpoints/djispark_throughput_anomaly_nnv4_wobn_dl/model.010-0.0006.h5\", compile=False)\n",
    "model.compile(optimizer='adam', \n",
    "                loss={'throughput_anomaly': 'mae'},\n",
    "                metrics={'throughput_anomaly': 'accuracy'})\n",
    "\n",
    "# test_data = pd.read_csv(\"/media/research-student/One Touch/FANET Datasets/Test_Dataset_DJISpark_Throughput/data_processed/UAVSpeed-12_BitRate-26_Height-225_Distance-1200_Modulation-QAM-16_UAVSendingInterval-10/Downlink_Throughput.csv\")\n",
    "test_data = pd.read_csv(\"/media/research-student/One Touch/FANET Datasets/DJISpark_Measured_Throughput_10000Samples/data_processed/UAVSpeed-6_BitRate-6.5_Height-270_Distance-1200_Modulation-BPSK_UAVSendingInterval-100/Downlink_Throughput.csv\")\n",
    "test_data[['Mean_SINR',\"Std_Dev_SINR\"]]= test_data.apply(lambda row: sinr_lognormal_approx(row['Horizontal_Distance'],row['Height']),axis=1,result_type='expand')\n",
    "test_data = normalize_data(test_data, columns=[\"Mean_SINR\", \"Std_Dev_SINR\", \"UAV_Sending_Interval\", \"MCS_Index\", \"UAV_Speed\", \"Throughput\"], link=LINK) \n",
    "prediction = model.predict(test_data[[\"Mean_SINR\", \"Std_Dev_SINR\", \"UAV_Sending_Interval\", \"MCS_Index\", \"UAV_Speed\", \"Throughput\"]].values)"
   ]
  },
  {
   "cell_type": "code",
   "execution_count": 6,
   "metadata": {},
   "outputs": [
    {
     "data": {
      "text/plain": [
       "Text(0, 0.5, 'NN Output')"
      ]
     },
     "execution_count": 6,
     "metadata": {},
     "output_type": "execute_result"
    },
    {
     "data": {
      "image/png": "[encoded data removed]",
      "text/plain": [
       "<Figure size 1000x600 with 1 Axes>"
      ]
     },
     "metadata": {},
     "output_type": "display_data"
    }
   ],
   "source": [
    "plt.figure(figsize=(10,6))\n",
    "plt.rcParams.update({'font.size': 14})\n",
    "plt.scatter(test_data[\"Horizontal_Distance\"], prediction, c=\"b\", alpha=0.6)\n",
    "plt.xlabel(\"Horizontal Distance (m)\")\n",
    "plt.ylabel(\"NN Output\")"
   ]
  },
  {
   "cell_type": "code",
   "execution_count": 7,
   "metadata": {},
   "outputs": [
    {
     "name": "stdout",
     "output_type": "stream",
     "text": [
      "109/374 [=======>......................] - ETA: 0s"
     ]
    },
    {
     "name": "stdout",
     "output_type": "stream",
     "text": [
      "374/374 [==============================] - 0s 1ms/step\n"
     ]
    }
   ],
   "source": [
    "test_data_2 = test_data.copy()\n",
    "test_data_2[\"Throughput\"] = test_data_2[\"Throughput\"].values * 2\n",
    "prediction2 = model.predict(test_data_2[[\"Mean_SINR\", \"Std_Dev_SINR\", \"UAV_Sending_Interval\", \"MCS_Index\", \"UAV_Speed\", \"Throughput\"]].values * 100)"
   ]
  },
  {
   "cell_type": "markdown",
   "metadata": {},
   "source": [
    "## Test AE On Single Scenario"
   ]
  },
  {
   "cell_type": "code",
   "execution_count": 51,
   "metadata": {},
   "outputs": [
    {
     "name": "stdout",
     "output_type": "stream",
     "text": [
      "1/1 [==============================] - 0s 46ms/step\n",
      "1/1 [==============================] - 0s 36ms/step\n"
     ]
    }
   ],
   "source": [
    "LINK = \"Downlink\"\n",
    "# model = tf.keras.models.load_model(\"/media/research-student/One Touch/FANET Datasets/DJISpark_Measured_Throughput_10000Samples/nn_checkpoints/djispark_throughput_anomaly_ae_dl/model.003-0.0000.h5\", compile=False)\n",
    "model = tf.keras.models.load_model(\"/media/research-student/One Touch/FANET Datasets/DJISpark_Measured_Throughput_10000Samples/nn_checkpoints/djispark_throughput_anomaly_small_ae_dl/model.001-0.0238.h5\", compile=False)\n",
    "model.compile(optimizer='adam', \n",
    "                loss='mse',\n",
    "                metrics='mse')\n",
    "\n",
    "# test_data = pd.read_csv(\"/media/research-student/One Touch/FANET Datasets/Test_Dataset_DJISpark_Throughput/data_processed/UAVSpeed-12_BitRate-26_Height-225_Distance-1200_Modulation-QAM-16_UAVSendingInterval-10/Downlink_Throughput.csv\")\n",
    "# test_data = pd.read_csv(\"/media/research-student/One Touch/FANET Datasets/DJISpark_Measured_Throughput_10000Samples/data_processed/UAVSpeed-6_BitRate-6.5_Height-270_Distance-1200_Modulation-BPSK_UAVSendingInterval-100/Downlink_Throughput.csv\")\n",
    "test_data = pd.DataFrame([{\"Horizontal_Distance\": 600, \"Height\": 270, \"UAV_Sending_Interval\": 100, \n",
    "                            \"MCS_Index\": 0, \"UAV_Speed\": 6, \"Throughput\": 14000}])\n",
    "test_data[['Mean_SINR',\"Std_Dev_SINR\"]]= test_data.apply(lambda row: sinr_lognormal_approx(row['Horizontal_Distance'],row['Height']),axis=1,result_type='expand')\n",
    "test_data[\"Throughput\"] = test_data[\"Throughput\"].values[0]/2\n",
    "test_data = normalize_data(test_data, columns=[\"Mean_SINR\", \"Std_Dev_SINR\", \"UAV_Sending_Interval\", \"MCS_Index\", \"UAV_Speed\", \"Throughput\"], link=LINK) \n",
    "prediction = model.predict(test_data[[\"Mean_SINR\", \"Std_Dev_SINR\", \"UAV_Sending_Interval\", \"MCS_Index\", \"UAV_Speed\", \"Throughput\"]].values)\n",
    "\n",
    "encoder_layer = model.get_layer('latent')\n",
    "encoder = Model(inputs=model.input, outputs=encoder_layer.output)\n",
    "latent = encoder.predict(test_data[[\"Mean_SINR\", \"Std_Dev_SINR\", \"UAV_Sending_Interval\", \"MCS_Index\", \"UAV_Speed\", \"Throughput\"]].values)"
   ]
  },
  {
   "cell_type": "code",
   "execution_count": 53,
   "metadata": {},
   "outputs": [
    {
     "data": {
      "text/plain": [
       "array([[-0.29670564, -0.5714736 ,  1.        , -1.        , -0.53846154,\n",
       "        -0.125     ]])"
      ]
     },
     "execution_count": 53,
     "metadata": {},
     "output_type": "execute_result"
    }
   ],
   "source": [
    "test_data[[\"Mean_SINR\", \"Std_Dev_SINR\", \"UAV_Sending_Interval\", \"MCS_Index\", \"UAV_Speed\", \"Throughput\"]].values"
   ]
  },
  {
   "cell_type": "code",
   "execution_count": 54,
   "metadata": {},
   "outputs": [
    {
     "data": {
      "text/plain": [
       "array([[ 0.13144517, -0.0278399 ,  0.8730979 , -1.1847432 , -0.08189392,\n",
       "         0.14763999]], dtype=float32)"
      ]
     },
     "execution_count": 54,
     "metadata": {},
     "output_type": "execute_result"
    }
   ],
   "source": [
    "prediction"
   ]
  },
  {
   "cell_type": "code",
   "execution_count": 50,
   "metadata": {},
   "outputs": [
    {
     "data": {
      "text/plain": [
       "array([[5.043545  , 0.33518517, 1.9298681 ]], dtype=float32)"
      ]
     },
     "execution_count": 50,
     "metadata": {},
     "output_type": "execute_result"
    }
   ],
   "source": [
    "latent"
   ]
  },
  {
   "cell_type": "code",
   "execution_count": 52,
   "metadata": {},
   "outputs": [
    {
     "data": {
      "text/plain": [
       "array([[3.5730095 , 0.49085128, 1.651     ]], dtype=float32)"
      ]
     },
     "execution_count": 52,
     "metadata": {},
     "output_type": "execute_result"
    }
   ],
   "source": [
    "latent"
   ]
  },
  {
   "cell_type": "code",
   "execution_count": 67,
   "metadata": {},
   "outputs": [
    {
     "data": {
      "text/plain": [
       "array([[0.569029  , 0.43604743, 0.8780201 , 0.34280065, 0.44180983,\n",
       "        0.2547969 , 0.3341884 , 0.04948578, 0.        , 0.91727346]],\n",
       "      dtype=float32)"
      ]
     },
     "execution_count": 67,
     "metadata": {},
     "output_type": "execute_result"
    }
   ],
   "source": [
    "latent"
   ]
  },
  {
   "cell_type": "markdown",
   "metadata": {},
   "source": [
    "## Test NN AE Single Scenario"
   ]
  },
  {
   "cell_type": "code",
   "execution_count": 7,
   "metadata": {},
   "outputs": [
    {
     "name": "stdout",
     "output_type": "stream",
     "text": [
      "WARNING:tensorflow:5 out of the last 5 calls to <function Model.make_predict_function.<locals>.predict_function at 0x7f3c81e7e160> triggered tf.function retracing. Tracing is expensive and the excessive number of tracings could be due to (1) creating @tf.function repeatedly in a loop, (2) passing tensors with different shapes, (3) passing Python objects instead of tensors. For (1), please define your @tf.function outside of the loop. For (2), @tf.function has reduce_retracing=True option that can avoid unnecessary retracing. For (3), please refer to https://www.tensorflow.org/guide/function#controlling_retracing and https://www.tensorflow.org/api_docs/python/tf/function for  more details.\n",
      "1/1 [==============================] - 0s 37ms/step\n",
      "WARNING:tensorflow:6 out of the last 6 calls to <function Model.make_predict_function.<locals>.predict_function at 0x7f3c81e7eee0> triggered tf.function retracing. Tracing is expensive and the excessive number of tracings could be due to (1) creating @tf.function repeatedly in a loop, (2) passing tensors with different shapes, (3) passing Python objects instead of tensors. For (1), please define your @tf.function outside of the loop. For (2), @tf.function has reduce_retracing=True option that can avoid unnecessary retracing. For (3), please refer to https://www.tensorflow.org/guide/function#controlling_retracing and https://www.tensorflow.org/api_docs/python/tf/function for  more details.\n",
      "1/1 [==============================] - 0s 33ms/step\n"
     ]
    }
   ],
   "source": [
    "LINK = \"Downlink\"\n",
    "# nn_model = tf.keras.models.load_model(\"/media/research-student/One Touch/FANET Datasets/DJISpark_Measured_Throughput_10000Samples/nn_checkpoints/djispark_throughput_anomaly_nnv6_wobn_wae_dl/model.001-0.0000.h5\", compile=False)\n",
    "nn_model = tf.keras.models.load_model(\"/media/research-student/One Touch/FANET Datasets/DJISpark_Measured_Throughput_10000Samples/nn_checkpoints/djispark_throughput_anomaly_nnv6_wobn_wae_dl/model.001-0.0000.h5\", compile=False)\n",
    "nn_model.compile(optimizer='adam', \n",
    "                loss='mse',\n",
    "                metrics='mse')\n",
    "\n",
    "ae_model = tf.keras.models.load_model(\"/media/research-student/One Touch/FANET Datasets/DJISpark_Measured_Throughput_10000Samples/nn_checkpoints/djispark_throughput_anomaly_ae_dl/model.003-0.0000.h5\", compile=False)\n",
    "ae_model.compile(optimizer='adam', \n",
    "                loss='mse',\n",
    "                metrics='mse')\n",
    "\n",
    "# test_data = pd.read_csv(\"/media/research-student/One Touch/FANET Datasets/Test_Dataset_DJISpark_Throughput/data_processed/UAVSpeed-12_BitRate-26_Height-225_Distance-1200_Modulation-QAM-16_UAVSendingInterval-10/Downlink_Throughput.csv\")\n",
    "# test_data = pd.read_csv(\"/media/research-student/One Touch/FANET Datasets/DJISpark_Measured_Throughput_10000Samples/data_processed/UAVSpeed-6_BitRate-6.5_Height-270_Distance-1200_Modulation-BPSK_UAVSendingInterval-100/Downlink_Throughput.csv\")\n",
    "test_data = pd.DataFrame([{\"Horizontal_Distance\": 300, \"Height\": 270, \"UAV_Sending_Interval\": 100, \n",
    "                            \"MCS_Index\": 0, \"UAV_Speed\": 6, \"Throughput\": 7000}])\n",
    "test_data[['Mean_SINR',\"Std_Dev_SINR\"]]= test_data.apply(lambda row: sinr_lognormal_approx(row['Horizontal_Distance'],row['Height']),axis=1,result_type='expand')\n",
    "# test_data[\"Throughput\"] = test_data[\"Throughput\"].values[0]/2\n",
    "test_data = normalize_data(test_data, columns=[\"Mean_SINR\", \"Std_Dev_SINR\", \"UAV_Sending_Interval\", \"MCS_Index\", \"UAV_Speed\", \"Throughput\"], link=LINK) \n",
    "\n",
    "encoder_layer = ae_model.get_layer('latent')\n",
    "encoder = Model(inputs=ae_model.input, outputs=encoder_layer.output)\n",
    "latent = encoder.predict(test_data[[\"Mean_SINR\", \"Std_Dev_SINR\", \"UAV_Sending_Interval\", \"MCS_Index\", \"UAV_Speed\", \"Throughput\"]].values)\n",
    "\n",
    "prediction = nn_model.predict(latent)"
   ]
  },
  {
   "cell_type": "code",
   "execution_count": 5,
   "metadata": {},
   "outputs": [
    {
     "data": {
      "text/plain": [
       "array([[1.]], dtype=float32)"
      ]
     },
     "execution_count": 5,
     "metadata": {},
     "output_type": "execute_result"
    }
   ],
   "source": [
    "prediction"
   ]
  },
  {
   "cell_type": "code",
   "execution_count": 6,
   "metadata": {},
   "outputs": [
    {
     "data": {
      "text/plain": [
       "array([[1.4928604 , 0.8670732 , 1.1951435 , 0.60772175, 0.56106544,\n",
       "        0.31622744, 0.4941975 , 0.10799679, 0.        , 1.5433528 ]],\n",
       "      dtype=float32)"
      ]
     },
     "execution_count": 6,
     "metadata": {},
     "output_type": "execute_result"
    }
   ],
   "source": [
    "latent"
   ]
  },
  {
   "cell_type": "code",
   "execution_count": 8,
   "metadata": {},
   "outputs": [
    {
     "data": {
      "text/plain": [
       "array([[1.3520507 , 0.7229241 , 0.6155319 , 0.3409181 , 0.8674209 ,\n",
       "        0.31777424, 0.3972127 , 0.14934264, 0.        , 1.2792591 ]],\n",
       "      dtype=float32)"
      ]
     },
     "execution_count": 8,
     "metadata": {},
     "output_type": "execute_result"
    }
   ],
   "source": [
    "latent"
   ]
  }
 ],
 "metadata": {
  "kernelspec": {
   "display_name": "tf_venv",
   "language": "python",
   "name": "python3"
  },
  "language_info": {
   "codemirror_mode": {
    "name": "ipython",
    "version": 3
   },
   "file_extension": ".py",
   "mimetype": "text/x-python",
   "name": "python",
   "nbconvert_exporter": "python",
   "pygments_lexer": "ipython3",
   "version": "3.8.10"
  }
 },
 "nbformat": 4,
 "nbformat_minor": 2
}
