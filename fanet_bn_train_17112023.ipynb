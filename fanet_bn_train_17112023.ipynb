{
 "cells": [
  {
   "cell_type": "markdown",
   "metadata": {},
   "source": [
    "## Multinomial BN Model for UAV Comm. Reliability Prediction"
   ]
  },
  {
   "cell_type": "markdown",
   "metadata": {},
   "source": [
    "## Imports"
   ]
  },
  {
   "cell_type": "code",
   "execution_count": 1,
   "metadata": {},
   "outputs": [],
   "source": [
    "import pandas as pd\n",
    "import numpy as np \n",
    "import math\n",
    "import os\n",
    "import pickle\n",
    "import gc \n",
    "from tqdm import tqdm\n",
    "from datetime import datetime\n",
    "from sklearn.model_selection import train_test_split\n",
    "from sklearn.naive_bayes import MultinomialNB\n",
    "\n",
    "def generate_reliability_dataset(dataset_details_df, test_split=0.2):\n",
    "    # df_dtypes = {\"Horizontal_Distance\": np.float64, \"Height\": np.int16,\t\"U2G_Distance\": np.int32, \"UAV_Sending_Interval\": np.float64, \"Mean_SINR\": np.float64, \"Std_Dev_SINR\": np.float64,\n",
    "    #              \"Modulation\": 'string', \"Num_Sent\": np.int32, \"Num_Reliable\": np.int32, \"Num_Delay_Excd\": np.int32, \"Num_Incr_Rcvd\": np.int32, \"Num_Q_Overflow\": np.int32}\n",
    "    # dataset_details = pd.read_csv(dataset_details_csv, \n",
    "    #                               usecols = [\"Mean_SINR\", \"Std_Dev_SINR\", \"UAV_Sending_Interval\", \"Modulation\", \"Num_Sent\", \"Num_Reliable\", \"Num_Delay_Excd\",\n",
    "    #                                          \"Num_Incr_Rcvd\", \"Num_Q_Overflow\"],\n",
    "    #                               dtype=df_dtypes)\n",
    "    df_train_list = []\n",
    "    for row in tqdm(dataset_details_df.itertuples()):\n",
    "        mean_sinr = row.Mean_SINR_Class\n",
    "        std_dev_sinr = row.Std_Dev_SINR_Class\n",
    "        uav_send_int = row.UAV_Sending_Interval_Class\n",
    "        mcs = row.MCS\n",
    "        num_reliable = row.Num_Reliable\n",
    "        num_delay_excd = row.Num_Delay_Excd\n",
    "        num_incr_rcvd = row.Num_Incr_Rcvd\n",
    "        num_q_overflow = row.Num_Q_Overflow\n",
    "\n",
    "        if num_reliable > 0:\n",
    "            reliable_packets = pd.DataFrame({\"Mean_SINR_Class\": mean_sinr, \"Std_Dev_SINR_Class\": std_dev_sinr, \"UAV_Sending_Interval_Class\": uav_send_int, \"MCS\": mcs, \"Packet_State\": 0}, index=[0])\n",
    "            reliable_packets = reliable_packets.loc[reliable_packets.index.repeat(num_reliable)]\n",
    "        else:\n",
    "            reliable_packets = pd.DataFrame({})\n",
    "\n",
    "        if num_delay_excd > 0:\n",
    "            delay_excd_packets = pd.DataFrame({\"Mean_SINR_Class\": mean_sinr, \"Std_Dev_SINR_Class\": std_dev_sinr, \"UAV_Sending_Interval_Class\": uav_send_int, \"MCS\": mcs, \"Packet_State\": 1}, index=[0])\n",
    "            delay_excd_packets = delay_excd_packets.loc[delay_excd_packets.index.repeat(num_delay_excd)]\n",
    "        else:\n",
    "            delay_excd_packets = pd.DataFrame({})\n",
    "\n",
    "        if num_q_overflow > 0:\n",
    "            q_overflow_packets = pd.DataFrame({\"Mean_SINR_Class\": mean_sinr, \"Std_Dev_SINR_Class\": std_dev_sinr, \"UAV_Sending_Interval_Class\": uav_send_int, \"MCS\": mcs, \"Packet_State\": 2}, index=[0])\n",
    "            q_overflow_packets = q_overflow_packets.loc[q_overflow_packets.index.repeat(num_q_overflow)]\n",
    "        else:\n",
    "            q_overflow_packets = pd.DataFrame({})\n",
    "\n",
    "        if num_incr_rcvd > 0:\n",
    "            incr_rcvd_packets = pd.DataFrame({\"Mean_SINR_Class\": mean_sinr, \"Std_Dev_SINR_Class\": std_dev_sinr, \"UAV_Sending_Interval_Class\": uav_send_int, \"MCS\": mcs, \"Packet_State\": 3}, index=[0])\n",
    "            incr_rcvd_packets = incr_rcvd_packets.loc[incr_rcvd_packets.index.repeat(num_incr_rcvd)]\n",
    "        else:\n",
    "            incr_rcvd_packets = pd.DataFrame({})\n",
    "        df_train_list.append(pd.concat([reliable_packets, delay_excd_packets, q_overflow_packets, incr_rcvd_packets]))\n",
    "\n",
    "    df_train = pd.concat(df_train_list)\n",
    "    return df_train\n",
    "\n",
    "def get_mcs_index(df_in):\n",
    "    '''\n",
    "    Gets the MCS index based on modulation and bitrate column of the df_in\n",
    "    '''\n",
    "    df = df_in.copy()\n",
    "    df[\"MCS\"] = ''\n",
    "    df.loc[(df[\"Modulation\"] == \"BPSK\") & (df[\"Bitrate\"] == 6.5), \"MCS\"] = 0 # MCS Index 0\n",
    "    df.loc[(df[\"Modulation\"] == \"QPSK\") & (df[\"Bitrate\"] == 13), \"MCS\"] = 1 # MCS Index 0\n",
    "    df.loc[(df[\"Modulation\"] == \"QPSK\") & (df[\"Bitrate\"] == 19.5), \"MCS\"] = 2 # MCS Index 0\n",
    "    df.loc[(df[\"Modulation\"] == \"QAM16\") & (df[\"Bitrate\"] == 26), \"MCS\"] = 3 # MCS Index 0\n",
    "    df.loc[(df[\"Modulation\"] == \"QAM16\") & (df[\"Bitrate\"] == 39), \"MCS\"] = 4 # MCS Index 0\n",
    "    df.loc[(df[\"Modulation\"] == \"QAM64\") & (df[\"Bitrate\"] == 52), \"MCS\"] = 5 # MCS Index 0\n",
    "    df.loc[(df[\"Modulation\"] == \"QAM64\") & (df[\"Bitrate\"] == 58.5), \"MCS\"] = 6 # MCS Index 0\n",
    "    df.loc[(df[\"Modulation\"] == \"QAM64\") & (df[\"Bitrate\"] == 65), \"MCS\"] = 7 # MCS Index 0\n",
    "\n",
    "    return df"
   ]
  },
  {
   "cell_type": "markdown",
   "metadata": {},
   "source": [
    "## Data Processing"
   ]
  },
  {
   "cell_type": "code",
   "execution_count": 2,
   "metadata": {},
   "outputs": [
    {
     "name": "stderr",
     "output_type": "stream",
     "text": [
      "76it [00:00, 373.15it/s]"
     ]
    },
    {
     "name": "stderr",
     "output_type": "stream",
     "text": [
      "34848it [01:24, 410.72it/s]\n"
     ]
    }
   ],
   "source": [
    "DATASET_PATH = \"/media/research-student/One Touch/FANET Datasets/Dataset_NP10000_DJISpark/data_processed/DJI_Spark_Downlink_Reliability.csv\"\n",
    "\n",
    "df_dtypes = {\"Horizontal_Distance\": np.float64, \"Height\": np.int16,\t\"U2G_Distance\": np.int32, \"UAV_Sending_Interval\": np.float64, \"Mean_SINR\": np.float64, \"Std_Dev_SINR\": np.float64,\n",
    "            \"Num_Sent\": np.int32, \"Num_Reliable\": np.int32, \"Num_Delay_Excd\": np.int32, \"Num_Incr_Rcvd\": np.int32, \"Num_Q_Overflow\": np.int32, \"Modulation\": str, \"Bitrate\": np.float64}\n",
    "dataset_details_df = pd.read_csv(DATASET_PATH, \n",
    "                            usecols = [\"Mean_SINR\", \"Std_Dev_SINR\", \"UAV_Sending_Interval\", \"Modulation\", \"Bitrate\", \"Num_Sent\", \"Num_Reliable\", \"Num_Delay_Excd\",\n",
    "                                        \"Num_Incr_Rcvd\", \"Num_Q_Overflow\"],\n",
    "                            dtype=df_dtypes)\n",
    "dataset_details_df = get_mcs_index(dataset_details_df)\n",
    "\n",
    "# Change sending interval categorial to numeric\n",
    "dataset_details_df[\"UAV_Sending_Interval_Class\"] = dataset_details_df[\"UAV_Sending_Interval\"].replace({10:0, 20:1, 66.7:2, 100:3})\n",
    "\n",
    "# Quantize mean and std dev of sinr\n",
    "num_bins = 100\n",
    "_, mean_sinr_bins = pd.qcut(dataset_details_df.Mean_SINR, q=num_bins, retbins=True)\n",
    "mean_sinr_bins = np.concatenate(([-np.inf], mean_sinr_bins[1:-1], [np.inf]))\n",
    "_, std_dev_sinr_bins = pd.qcut(dataset_details_df.Std_Dev_SINR, q=num_bins, retbins=True)\n",
    "std_dev_sinr_bins = np.concatenate(([-np.inf], std_dev_sinr_bins[1:-1], [np.inf]))\n",
    "\n",
    "dataset_details_df[\"Mean_SINR_Class\"] = pd.cut(dataset_details_df.Mean_SINR, mean_sinr_bins, right=True, include_lowest=False, labels=False)\n",
    "dataset_details_df[\"Std_Dev_SINR_Class\"] = pd.cut(dataset_details_df.Std_Dev_SINR, std_dev_sinr_bins, right=True, include_lowest=False, labels=False)\n",
    "\n",
    "\n",
    "# # Generate dataset samples\n",
    "df_train = generate_reliability_dataset(dataset_details_df)\n",
    "\n",
    "X = df_train[[\"Mean_SINR_Class\", \"Std_Dev_SINR_Class\", \"UAV_Sending_Interval_Class\", \"MCS\"]].values\n",
    "packet_state_train = df_train['Packet_State'].values"
   ]
  },
  {
   "cell_type": "markdown",
   "metadata": {},
   "source": [
    "## BN Model Training"
   ]
  },
  {
   "cell_type": "code",
   "execution_count": 3,
   "metadata": {},
   "outputs": [
    {
     "data": {
      "text/html": [
       "<style>#sk-container-id-1 {color: black;}#sk-container-id-1 pre{padding: 0;}#sk-container-id-1 div.sk-toggleable {background-color: white;}#sk-container-id-1 label.sk-toggleable__label {cursor: pointer;display: block;width: 100%;margin-bottom: 0;padding: 0.3em;box-sizing: border-box;text-align: center;}#sk-container-id-1 label.sk-toggleable__label-arrow:before {content: \"▸\";float: left;margin-right: 0.25em;color: #696969;}#sk-container-id-1 label.sk-toggleable__label-arrow:hover:before {color: black;}#sk-container-id-1 div.sk-estimator:hover label.sk-toggleable__label-arrow:before {color: black;}#sk-container-id-1 div.sk-toggleable__content {max-height: 0;max-width: 0;overflow: hidden;text-align: left;background-color: #f0f8ff;}#sk-container-id-1 div.sk-toggleable__content pre {margin: 0.2em;color: black;border-radius: 0.25em;background-color: #f0f8ff;}#sk-container-id-1 input.sk-toggleable__control:checked~div.sk-toggleable__content {max-height: 200px;max-width: 100%;overflow: auto;}#sk-container-id-1 input.sk-toggleable__control:checked~label.sk-toggleable__label-arrow:before {content: \"▾\";}#sk-container-id-1 div.sk-estimator input.sk-toggleable__control:checked~label.sk-toggleable__label {background-color: #d4ebff;}#sk-container-id-1 div.sk-label input.sk-toggleable__control:checked~label.sk-toggleable__label {background-color: #d4ebff;}#sk-container-id-1 input.sk-hidden--visually {border: 0;clip: rect(1px 1px 1px 1px);clip: rect(1px, 1px, 1px, 1px);height: 1px;margin: -1px;overflow: hidden;padding: 0;position: absolute;width: 1px;}#sk-container-id-1 div.sk-estimator {font-family: monospace;background-color: #f0f8ff;border: 1px dotted black;border-radius: 0.25em;box-sizing: border-box;margin-bottom: 0.5em;}#sk-container-id-1 div.sk-estimator:hover {background-color: #d4ebff;}#sk-container-id-1 div.sk-parallel-item::after {content: \"\";width: 100%;border-bottom: 1px solid gray;flex-grow: 1;}#sk-container-id-1 div.sk-label:hover label.sk-toggleable__label {background-color: #d4ebff;}#sk-container-id-1 div.sk-serial::before {content: \"\";position: absolute;border-left: 1px solid gray;box-sizing: border-box;top: 0;bottom: 0;left: 50%;z-index: 0;}#sk-container-id-1 div.sk-serial {display: flex;flex-direction: column;align-items: center;background-color: white;padding-right: 0.2em;padding-left: 0.2em;position: relative;}#sk-container-id-1 div.sk-item {position: relative;z-index: 1;}#sk-container-id-1 div.sk-parallel {display: flex;align-items: stretch;justify-content: center;background-color: white;position: relative;}#sk-container-id-1 div.sk-item::before, #sk-container-id-1 div.sk-parallel-item::before {content: \"\";position: absolute;border-left: 1px solid gray;box-sizing: border-box;top: 0;bottom: 0;left: 50%;z-index: -1;}#sk-container-id-1 div.sk-parallel-item {display: flex;flex-direction: column;z-index: 1;position: relative;background-color: white;}#sk-container-id-1 div.sk-parallel-item:first-child::after {align-self: flex-end;width: 50%;}#sk-container-id-1 div.sk-parallel-item:last-child::after {align-self: flex-start;width: 50%;}#sk-container-id-1 div.sk-parallel-item:only-child::after {width: 0;}#sk-container-id-1 div.sk-dashed-wrapped {border: 1px dashed gray;margin: 0 0.4em 0.5em 0.4em;box-sizing: border-box;padding-bottom: 0.4em;background-color: white;}#sk-container-id-1 div.sk-label label {font-family: monospace;font-weight: bold;display: inline-block;line-height: 1.2em;}#sk-container-id-1 div.sk-label-container {text-align: center;}#sk-container-id-1 div.sk-container {/* jupyter's `normalize.less` sets `[hidden] { display: none; }` but bootstrap.min.css set `[hidden] { display: none !important; }` so we also need the `!important` here to be able to override the default hidden behavior on the sphinx rendered scikit-learn.org. See: https://github.com/scikit-learn/scikit-learn/issues/21755 */display: inline-block !important;position: relative;}#sk-container-id-1 div.sk-text-repr-fallback {display: none;}</style><div id=\"sk-container-id-1\" class=\"sk-top-container\"><div class=\"sk-text-repr-fallback\"><pre>MultinomialNB(force_alpha=True)</pre><b>In a Jupyter environment, please rerun this cell to show the HTML representation or trust the notebook. <br />On GitHub, the HTML representation is unable to render, please try loading this page with nbviewer.org.</b></div><div class=\"sk-container\" hidden><div class=\"sk-item\"><div class=\"sk-estimator sk-toggleable\"><input class=\"sk-toggleable__control sk-hidden--visually\" id=\"sk-estimator-id-1\" type=\"checkbox\" checked><label for=\"sk-estimator-id-1\" class=\"sk-toggleable__label sk-toggleable__label-arrow\">MultinomialNB</label><div class=\"sk-toggleable__content\"><pre>MultinomialNB(force_alpha=True)</pre></div></div></div></div></div>"
      ],
      "text/plain": [
       "MultinomialNB(force_alpha=True)"
      ]
     },
     "execution_count": 3,
     "metadata": {},
     "output_type": "execute_result"
    }
   ],
   "source": [
    "clf = MultinomialNB(force_alpha=True)\n",
    "clf.fit(X[20001:30000], packet_state_train[20001:30000])"
   ]
  },
  {
   "cell_type": "code",
   "execution_count": 57,
   "metadata": {},
   "outputs": [
    {
     "data": {
      "text/plain": [
       "array([[99., 99.,  0.,  0.],\n",
       "       [99., 99.,  0.,  0.],\n",
       "       [99., 99.,  0.,  0.],\n",
       "       ...,\n",
       "       [14.,  0.,  0.,  0.],\n",
       "       [14.,  0.,  0.,  0.],\n",
       "       [14.,  0.,  0.,  0.]])"
      ]
     },
     "execution_count": 57,
     "metadata": {},
     "output_type": "execute_result"
    }
   ],
   "source": [
    "X_part"
   ]
  },
  {
   "cell_type": "code",
   "execution_count": 158,
   "metadata": {},
   "outputs": [
    {
     "data": {
      "text/html": [
       "<style>#sk-container-id-53 {color: black;}#sk-container-id-53 pre{padding: 0;}#sk-container-id-53 div.sk-toggleable {background-color: white;}#sk-container-id-53 label.sk-toggleable__label {cursor: pointer;display: block;width: 100%;margin-bottom: 0;padding: 0.3em;box-sizing: border-box;text-align: center;}#sk-container-id-53 label.sk-toggleable__label-arrow:before {content: \"▸\";float: left;margin-right: 0.25em;color: #696969;}#sk-container-id-53 label.sk-toggleable__label-arrow:hover:before {color: black;}#sk-container-id-53 div.sk-estimator:hover label.sk-toggleable__label-arrow:before {color: black;}#sk-container-id-53 div.sk-toggleable__content {max-height: 0;max-width: 0;overflow: hidden;text-align: left;background-color: #f0f8ff;}#sk-container-id-53 div.sk-toggleable__content pre {margin: 0.2em;color: black;border-radius: 0.25em;background-color: #f0f8ff;}#sk-container-id-53 input.sk-toggleable__control:checked~div.sk-toggleable__content {max-height: 200px;max-width: 100%;overflow: auto;}#sk-container-id-53 input.sk-toggleable__control:checked~label.sk-toggleable__label-arrow:before {content: \"▾\";}#sk-container-id-53 div.sk-estimator input.sk-toggleable__control:checked~label.sk-toggleable__label {background-color: #d4ebff;}#sk-container-id-53 div.sk-label input.sk-toggleable__control:checked~label.sk-toggleable__label {background-color: #d4ebff;}#sk-container-id-53 input.sk-hidden--visually {border: 0;clip: rect(1px 1px 1px 1px);clip: rect(1px, 1px, 1px, 1px);height: 1px;margin: -1px;overflow: hidden;padding: 0;position: absolute;width: 1px;}#sk-container-id-53 div.sk-estimator {font-family: monospace;background-color: #f0f8ff;border: 1px dotted black;border-radius: 0.25em;box-sizing: border-box;margin-bottom: 0.5em;}#sk-container-id-53 div.sk-estimator:hover {background-color: #d4ebff;}#sk-container-id-53 div.sk-parallel-item::after {content: \"\";width: 100%;border-bottom: 1px solid gray;flex-grow: 1;}#sk-container-id-53 div.sk-label:hover label.sk-toggleable__label {background-color: #d4ebff;}#sk-container-id-53 div.sk-serial::before {content: \"\";position: absolute;border-left: 1px solid gray;box-sizing: border-box;top: 0;bottom: 0;left: 50%;z-index: 0;}#sk-container-id-53 div.sk-serial {display: flex;flex-direction: column;align-items: center;background-color: white;padding-right: 0.2em;padding-left: 0.2em;position: relative;}#sk-container-id-53 div.sk-item {position: relative;z-index: 1;}#sk-container-id-53 div.sk-parallel {display: flex;align-items: stretch;justify-content: center;background-color: white;position: relative;}#sk-container-id-53 div.sk-item::before, #sk-container-id-53 div.sk-parallel-item::before {content: \"\";position: absolute;border-left: 1px solid gray;box-sizing: border-box;top: 0;bottom: 0;left: 50%;z-index: -1;}#sk-container-id-53 div.sk-parallel-item {display: flex;flex-direction: column;z-index: 1;position: relative;background-color: white;}#sk-container-id-53 div.sk-parallel-item:first-child::after {align-self: flex-end;width: 50%;}#sk-container-id-53 div.sk-parallel-item:last-child::after {align-self: flex-start;width: 50%;}#sk-container-id-53 div.sk-parallel-item:only-child::after {width: 0;}#sk-container-id-53 div.sk-dashed-wrapped {border: 1px dashed gray;margin: 0 0.4em 0.5em 0.4em;box-sizing: border-box;padding-bottom: 0.4em;background-color: white;}#sk-container-id-53 div.sk-label label {font-family: monospace;font-weight: bold;display: inline-block;line-height: 1.2em;}#sk-container-id-53 div.sk-label-container {text-align: center;}#sk-container-id-53 div.sk-container {/* jupyter's `normalize.less` sets `[hidden] { display: none; }` but bootstrap.min.css set `[hidden] { display: none !important; }` so we also need the `!important` here to be able to override the default hidden behavior on the sphinx rendered scikit-learn.org. See: https://github.com/scikit-learn/scikit-learn/issues/21755 */display: inline-block !important;position: relative;}#sk-container-id-53 div.sk-text-repr-fallback {display: none;}</style><div id=\"sk-container-id-53\" class=\"sk-top-container\"><div class=\"sk-text-repr-fallback\"><pre>CategoricalNB(alpha=1, force_alpha=False)</pre><b>In a Jupyter environment, please rerun this cell to show the HTML representation or trust the notebook. <br />On GitHub, the HTML representation is unable to render, please try loading this page with nbviewer.org.</b></div><div class=\"sk-container\" hidden><div class=\"sk-item\"><div class=\"sk-estimator sk-toggleable\"><input class=\"sk-toggleable__control sk-hidden--visually\" id=\"sk-estimator-id-53\" type=\"checkbox\" checked><label for=\"sk-estimator-id-53\" class=\"sk-toggleable__label sk-toggleable__label-arrow\">CategoricalNB</label><div class=\"sk-toggleable__content\"><pre>CategoricalNB(alpha=1, force_alpha=False)</pre></div></div></div></div></div>"
      ],
      "text/plain": [
       "CategoricalNB(alpha=1, force_alpha=False)"
      ]
     },
     "execution_count": 158,
     "metadata": {},
     "output_type": "execute_result"
    }
   ],
   "source": [
    "# Partial training\n",
    "from sklearn.naive_bayes import CategoricalNB, ComplementNB, BernoulliNB\n",
    "from sklearn.utils import shuffle\n",
    "# df_part = df_train.loc[(df_train[\"Mean_SINR_Class\"] == 99) & (df_train[\"Std_Dev_SINR_Class\"] == 99)]\n",
    "df_part = df_train.loc[(df_train[\"UAV_Sending_Interval_Class\"] == 0) & (df_train[\"MCS\"] == 0)]\n",
    "# df_part = df_train.loc[(df_train[\"Mean_SINR_Class\"] == 99) & (df_train[\"Std_Dev_SINR_Class\"] == 99) & (df_train[\"UAV_Sending_Interval_Class\"] == 0) & (df_train[\"MCS\"] == 0)]\n",
    "\n",
    "df_part = shuffle(df_part)\n",
    "\n",
    "X_part = df_part[[\"Mean_SINR_Class\", \"Std_Dev_SINR_Class\", \"UAV_Sending_Interval_Class\", \"MCS\"]].values\n",
    "packet_state_part = df_part['Packet_State'].values\n",
    "# clf_part = MultinomialNB(fit_prior=False)\n",
    "clf_part = CategoricalNB(alpha=1, force_alpha=False, fit_prior=True)\n",
    "# clf_part = ComplementNB(fit_prior=True)\n",
    "clf_part.fit(X_part, packet_state_part)"
   ]
  },
  {
   "cell_type": "code",
   "execution_count": 159,
   "metadata": {},
   "outputs": [
    {
     "data": {
      "text/plain": [
       "array([[5.78154915e-04, 4.96416548e-01, 5.03005219e-01, 7.81499682e-08]])"
      ]
     },
     "execution_count": 159,
     "metadata": {},
     "output_type": "execute_result"
    }
   ],
   "source": [
    "clf_part.predict_proba([[99,99,0,0]]) "
   ]
  },
  {
   "cell_type": "code",
   "execution_count": 88,
   "metadata": {},
   "outputs": [
    {
     "data": {
      "text/plain": [
       "Packet_State\n",
       "2    75629\n",
       "1    24333\n",
       "0       36\n",
       "3        2\n",
       "Name: count, dtype: int64"
      ]
     },
     "execution_count": 88,
     "metadata": {},
     "output_type": "execute_result"
    }
   ],
   "source": [
    "df_part.loc[(df_part[\"Mean_SINR_Class\"] == 99) & (df_part[\"Std_Dev_SINR_Class\"] == 99)][\"Packet_State\"].value_counts()"
   ]
  },
  {
   "cell_type": "code",
   "execution_count": 70,
   "metadata": {},
   "outputs": [
    {
     "data": {
      "text/plain": [
       "Packet_State\n",
       "2    8666\n",
       "1    1332\n",
       "0       1\n",
       "3       1\n",
       "Name: count, dtype: int64"
      ]
     },
     "execution_count": 70,
     "metadata": {},
     "output_type": "execute_result"
    }
   ],
   "source": [
    "df_train.loc[(df_train[\"Mean_SINR_Class\"] == 75) & (df_train[\"Std_Dev_SINR_Class\"] == 86) & (df_train[\"UAV_Sending_Interval_Class\"] == 0) & (df_train[\"MCS\"] == 0)][\"Packet_State\"].value_counts()"
   ]
  },
  {
   "cell_type": "code",
   "execution_count": 9,
   "metadata": {},
   "outputs": [
    {
     "data": {
      "text/plain": [
       "array([2])"
      ]
     },
     "execution_count": 9,
     "metadata": {},
     "output_type": "execute_result"
    }
   ],
   "source": [
    "clf.predict([X[20001]])"
   ]
  },
  {
   "cell_type": "code",
   "execution_count": 5,
   "metadata": {},
   "outputs": [
    {
     "data": {
      "text/plain": [
       "array([99., 99.,  0.,  0.])"
      ]
     },
     "execution_count": 5,
     "metadata": {},
     "output_type": "execute_result"
    }
   ],
   "source": [
    "X[20001]"
   ]
  },
  {
   "cell_type": "code",
   "execution_count": 4,
   "metadata": {},
   "outputs": [
    {
     "data": {
      "text/plain": [
       "array([[1.54655018e-04, 2.56687823e-01, 7.43143569e-01, 1.39535834e-05]])"
      ]
     },
     "execution_count": 4,
     "metadata": {},
     "output_type": "execute_result"
    }
   ],
   "source": [
    "clf.predict_proba([X[20001]])"
   ]
  },
  {
   "cell_type": "code",
   "execution_count": 14,
   "metadata": {},
   "outputs": [
    {
     "data": {
      "text/plain": [
       "Packet_State\n",
       "2    7590\n",
       "1    2408\n",
       "0       2\n",
       "Name: count, dtype: int64"
      ]
     },
     "execution_count": 14,
     "metadata": {},
     "output_type": "execute_result"
    }
   ],
   "source": [
    "df_train.head(10000)[\"Packet_State\"].value_counts()"
   ]
  }
 ],
 "metadata": {
  "kernelspec": {
   "display_name": "tf_venv",
   "language": "python",
   "name": "python3"
  },
  "language_info": {
   "codemirror_mode": {
    "name": "ipython",
    "version": 3
   },
   "file_extension": ".py",
   "mimetype": "text/x-python",
   "name": "python",
   "nbconvert_exporter": "python",
   "pygments_lexer": "ipython3",
   "version": "3.8.10"
  }
 },
 "nbformat": 4,
 "nbformat_minor": 2
}
