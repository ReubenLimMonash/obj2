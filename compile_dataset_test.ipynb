{
 "cells": [
  {
   "cell_type": "code",
   "execution_count": 1,
   "metadata": {},
   "outputs": [],
   "source": [
    "import csv\n",
    "import pandas as pd # for data manipulation \n",
    "import numpy as np\n",
    "import os, sys, glob, math, pickle\n",
    "from tqdm import tqdm\n",
    "\n",
    "# This function helps to calculate probability distribution, which goes into BBN (note, can handle up to 2 parents)\n",
    "def cpt_probs(df, child, parents):\n",
    "    try:\n",
    "        # dependencies_arr = [pd.Categorical(df[parent],categories=df[parent].cat.categories.tolist()) for parent in parents]\n",
    "        dependencies_arr = [df[parent] for parent in parents]\n",
    "        # cpt = pd.crosstab(dependencies_arr, df[child], rownames=parents, colnames=[child], margins=False, normalize='index', dropna=False).sort_index().to_numpy().reshape(-1).tolist()\n",
    "        cpt = pd.crosstab(dependencies_arr, df[child], rownames=parents, colnames=[child], margins=False, normalize='index', dropna=False).sort_index()\n",
    "        return cpt\n",
    "    except Exception as err:\n",
    "        print(err)\n",
    "        return None \n",
    "\n",
    "def euclidean_dist(row):\n",
    "    # Function to calc euclidean distance on every df row \n",
    "    euc_dist = math.sqrt(row[\"U2G_Distance\"]**2 - row[\"Height\"]**2)\n",
    "    return euc_dist"
   ]
  },
  {
   "attachments": {},
   "cell_type": "markdown",
   "metadata": {},
   "source": [
    "Test compilation of dataset using pandas (CPU)"
   ]
  },
  {
   "cell_type": "code",
   "execution_count": 11,
   "metadata": {},
   "outputs": [
    {
     "name": "stderr",
     "output_type": "stream",
     "text": [
      "100%|██████████| 125/125 [00:13<00:00,  9.43it/s]\n"
     ]
    }
   ],
   "source": [
    "processed_data_path = \"/media/research-student/One Touch/FANET Datasets/Dataset_NP10000_BPSK_6-5Mbps/Dataset_NP10000_BPSK_6-5Mbps_8UAVs_processed\"\n",
    "# Process and save downlink DF\n",
    "downlink_csvs = glob.glob(processed_data_path + \"/*_downlink.csv\")\n",
    "dl_df_list = []\n",
    "for csv_file in tqdm(downlink_csvs):\n",
    "    df = pd.read_csv(csv_file)\n",
    "    e2e_delay = df[\"Delay\"].to_numpy()\n",
    "    jitter = e2e_delay[1:] - e2e_delay[0:-1]\n",
    "    jitter = np.insert(jitter,0,0)\n",
    "    df[\"Jitter\"] = jitter\n",
    "    dl_df_list.append(df)\n",
    "dl_df = pd.concat(dl_df_list, ignore_index=True)\n",
    "dl_df[\"U2G_H_Dist\"] = dl_df.apply(lambda row: euclidean_dist(row), axis=1)\n",
    "# dl_df.to_csv(processed_data_path + \"_test_pandas.csv\", index=False)"
   ]
  },
  {
   "cell_type": "code",
   "execution_count": 10,
   "metadata": {},
   "outputs": [
    {
     "name": "stderr",
     "output_type": "stream",
     "text": [
      "100%|██████████| 125/125 [00:14<00:00,  8.61it/s]\n"
     ]
    }
   ],
   "source": [
    "import cudf\n",
    "cudf.set_allocator(\"managed\")\n",
    "processed_data_path = \"/media/research-student/One Touch/FANET Datasets/Dataset_NP10000_BPSK_6-5Mbps/Dataset_NP10000_BPSK_6-5Mbps_8UAVs_processed\"\n",
    "# Process and save downlink DF\n",
    "dl_df_list = []\n",
    "downlink_csvs = glob.glob(processed_data_path + \"/*_uplink.csv\")\n",
    "for csv_file in tqdm(downlink_csvs):\n",
    "    df = cudf.read_csv(csv_file, \n",
    "                    usecols = ['U2G_Distance', 'Height', \"Num_Members\", \"Mean_Sending_Interval\",\"Bytes\", \"U2G_SINR\", \"U2G_BER\", \n",
    "                               \"Delay\", \"Throughput\", \"Queueing_Time\", \"Packet_State\", \"Retry_Count\", \"Incorrectly_Received\", \"Queue_Overflow\"])\n",
    "    e2e_delay = df[\"Delay\"].to_numpy()\n",
    "    jitter = e2e_delay[1:] - e2e_delay[0:-1]\n",
    "    jitter = np.insert(jitter,0,0)\n",
    "    df[\"Jitter\"] = jitter\n",
    "    df[\"U2G_H_Dist\"] = df.apply(euclidean_dist, axis=1)\n",
    "    dl_df_list.append(df.to_pandas())\n",
    "dl_df = pd.concat(dl_df_list, ignore_index=True)\n",
    "# dl_df.to_csv(processed_data_path + \"_test_pandas.csv\", index=False)"
   ]
  },
  {
   "cell_type": "code",
   "execution_count": 11,
   "metadata": {},
   "outputs": [
    {
     "data": {
      "text/plain": [
       "54051243"
      ]
     },
     "execution_count": 11,
     "metadata": {},
     "output_type": "execute_result"
    }
   ],
   "source": [
    "df.memory_usage().sum()"
   ]
  },
  {
   "cell_type": "code",
   "execution_count": 12,
   "metadata": {},
   "outputs": [
    {
     "data": {
      "text/plain": [
       "6402750848"
      ]
     },
     "execution_count": 12,
     "metadata": {},
     "output_type": "execute_result"
    }
   ],
   "source": [
    "dl_df.memory_usage().sum()"
   ]
  },
  {
   "cell_type": "code",
   "execution_count": 18,
   "metadata": {},
   "outputs": [
    {
     "name": "stderr",
     "output_type": "stream",
     "text": [
      "/home/research-student/anaconda3/envs/rapids-22.12/lib/python3.8/site-packages/tables/path.py:137: NaturalNameWarning: object name is not a valid Python identifier: '8_UAVs'; it does not match the pattern ``^[a-zA-Z_][a-zA-Z0-9_]*$``; you will not be able to use natural naming to access this object; using ``getattr()`` will still work, though\n",
      "  check_attribute_name(name)\n"
     ]
    }
   ],
   "source": [
    "dl_df.to_hdf(processed_data_path + \"_test_pandas.h5\",  key='8_UAVs')"
   ]
  },
  {
   "cell_type": "code",
   "execution_count": 3,
   "metadata": {},
   "outputs": [
    {
     "data": {
      "text/html": [
       "<div>\n",
       "<style scoped>\n",
       "    .dataframe tbody tr th:only-of-type {\n",
       "        vertical-align: middle;\n",
       "    }\n",
       "\n",
       "    .dataframe tbody tr th {\n",
       "        vertical-align: top;\n",
       "    }\n",
       "\n",
       "    .dataframe thead th {\n",
       "        text-align: right;\n",
       "    }\n",
       "</style>\n",
       "<table border=\"1\" class=\"dataframe\">\n",
       "  <thead>\n",
       "    <tr style=\"text-align: right;\">\n",
       "      <th></th>\n",
       "      <th>index</th>\n",
       "      <th>RxTime</th>\n",
       "      <th>TxTime</th>\n",
       "      <th>Packet_Name</th>\n",
       "      <th>Bytes</th>\n",
       "      <th>RSSI</th>\n",
       "      <th>U2G_SINR</th>\n",
       "      <th>U2U_SINR</th>\n",
       "      <th>U2G_BER</th>\n",
       "      <th>U2U_BER</th>\n",
       "      <th>...</th>\n",
       "      <th>Incorrectly_Received</th>\n",
       "      <th>Queue_Overflow</th>\n",
       "      <th>Packet_State</th>\n",
       "      <th>Throughput</th>\n",
       "      <th>Height</th>\n",
       "      <th>Inter_UAV_Distance</th>\n",
       "      <th>Num_Members</th>\n",
       "      <th>Mean_Sending_Interval</th>\n",
       "      <th>Jitter</th>\n",
       "      <th>U2G_H_Dist</th>\n",
       "    </tr>\n",
       "  </thead>\n",
       "  <tbody>\n",
       "    <tr>\n",
       "      <th>0</th>\n",
       "      <td>38150</td>\n",
       "      <td>0.001026</td>\n",
       "      <td>0.000</td>\n",
       "      <td>CNCData-0</td>\n",
       "      <td>103</td>\n",
       "      <td>6.057440e-07</td>\n",
       "      <td>5.95662</td>\n",
       "      <td>241150.0</td>\n",
       "      <td>2.786820e-04</td>\n",
       "      <td>0.0</td>\n",
       "      <td>...</td>\n",
       "      <td>0.0</td>\n",
       "      <td>0.0</td>\n",
       "      <td>Reliable</td>\n",
       "      <td>317.0</td>\n",
       "      <td>120</td>\n",
       "      <td>5</td>\n",
       "      <td>7</td>\n",
       "      <td>521</td>\n",
       "      <td>0.000000</td>\n",
       "      <td>0.0</td>\n",
       "    </tr>\n",
       "    <tr>\n",
       "      <th>1</th>\n",
       "      <td>0</td>\n",
       "      <td>0.429328</td>\n",
       "      <td>0.429</td>\n",
       "      <td>CNCData-1</td>\n",
       "      <td>169</td>\n",
       "      <td>3.552060e-10</td>\n",
       "      <td>140.41000</td>\n",
       "      <td>&lt;NA&gt;</td>\n",
       "      <td>2.488400e-63</td>\n",
       "      <td>&lt;NA&gt;</td>\n",
       "      <td>...</td>\n",
       "      <td>0.0</td>\n",
       "      <td>0.0</td>\n",
       "      <td>Reliable</td>\n",
       "      <td>317.0</td>\n",
       "      <td>120</td>\n",
       "      <td>5</td>\n",
       "      <td>7</td>\n",
       "      <td>521</td>\n",
       "      <td>-0.000698</td>\n",
       "      <td>0.0</td>\n",
       "    </tr>\n",
       "    <tr>\n",
       "      <th>2</th>\n",
       "      <td>27153</td>\n",
       "      <td>0.911572</td>\n",
       "      <td>0.911</td>\n",
       "      <td>CNCData-2</td>\n",
       "      <td>45</td>\n",
       "      <td>2.476170e-08</td>\n",
       "      <td>133.22800</td>\n",
       "      <td>9856.83</td>\n",
       "      <td>3.359620e-60</td>\n",
       "      <td>0.0</td>\n",
       "      <td>...</td>\n",
       "      <td>0.0</td>\n",
       "      <td>0.0</td>\n",
       "      <td>Reliable</td>\n",
       "      <td>317.0</td>\n",
       "      <td>120</td>\n",
       "      <td>5</td>\n",
       "      <td>7</td>\n",
       "      <td>521</td>\n",
       "      <td>0.000244</td>\n",
       "      <td>0.0</td>\n",
       "    </tr>\n",
       "    <tr>\n",
       "      <th>3</th>\n",
       "      <td>21772</td>\n",
       "      <td>1.465868</td>\n",
       "      <td>1.465</td>\n",
       "      <td>CNCData-3</td>\n",
       "      <td>100</td>\n",
       "      <td>2.707500e-07</td>\n",
       "      <td>36.88700</td>\n",
       "      <td>107786.0</td>\n",
       "      <td>4.379840e-18</td>\n",
       "      <td>0.0</td>\n",
       "      <td>...</td>\n",
       "      <td>0.0</td>\n",
       "      <td>0.0</td>\n",
       "      <td>Reliable</td>\n",
       "      <td>348.0</td>\n",
       "      <td>120</td>\n",
       "      <td>5</td>\n",
       "      <td>7</td>\n",
       "      <td>521</td>\n",
       "      <td>0.000296</td>\n",
       "      <td>0.0</td>\n",
       "    </tr>\n",
       "    <tr>\n",
       "      <th>4</th>\n",
       "      <td>38151</td>\n",
       "      <td>1.916248</td>\n",
       "      <td>1.915</td>\n",
       "      <td>CNCData-4</td>\n",
       "      <td>248</td>\n",
       "      <td>4.291810e-07</td>\n",
       "      <td>188.20700</td>\n",
       "      <td>170859.0</td>\n",
       "      <td>3.754080e-84</td>\n",
       "      <td>0.0</td>\n",
       "      <td>...</td>\n",
       "      <td>0.0</td>\n",
       "      <td>0.0</td>\n",
       "      <td>Reliable</td>\n",
       "      <td>348.0</td>\n",
       "      <td>120</td>\n",
       "      <td>5</td>\n",
       "      <td>7</td>\n",
       "      <td>521</td>\n",
       "      <td>0.000380</td>\n",
       "      <td>0.0</td>\n",
       "    </tr>\n",
       "  </tbody>\n",
       "</table>\n",
       "<p>5 rows × 28 columns</p>\n",
       "</div>"
      ],
      "text/plain": [
       "   index    RxTime  TxTime Packet_Name  Bytes          RSSI   U2G_SINR  \\\n",
       "0  38150  0.001026   0.000   CNCData-0    103  6.057440e-07    5.95662   \n",
       "1      0  0.429328   0.429   CNCData-1    169  3.552060e-10  140.41000   \n",
       "2  27153  0.911572   0.911   CNCData-2     45  2.476170e-08  133.22800   \n",
       "3  21772  1.465868   1.465   CNCData-3    100  2.707500e-07   36.88700   \n",
       "4  38151  1.916248   1.915   CNCData-4    248  4.291810e-07  188.20700   \n",
       "\n",
       "   U2U_SINR       U2G_BER U2U_BER  ... Incorrectly_Received  Queue_Overflow  \\\n",
       "0  241150.0  2.786820e-04     0.0  ...                  0.0             0.0   \n",
       "1      <NA>  2.488400e-63    <NA>  ...                  0.0             0.0   \n",
       "2   9856.83  3.359620e-60     0.0  ...                  0.0             0.0   \n",
       "3  107786.0  4.379840e-18     0.0  ...                  0.0             0.0   \n",
       "4  170859.0  3.754080e-84     0.0  ...                  0.0             0.0   \n",
       "\n",
       "   Packet_State Throughput  Height  Inter_UAV_Distance  Num_Members  \\\n",
       "0      Reliable      317.0     120                   5            7   \n",
       "1      Reliable      317.0     120                   5            7   \n",
       "2      Reliable      317.0     120                   5            7   \n",
       "3      Reliable      348.0     120                   5            7   \n",
       "4      Reliable      348.0     120                   5            7   \n",
       "\n",
       "   Mean_Sending_Interval    Jitter  U2G_H_Dist  \n",
       "0                    521  0.000000         0.0  \n",
       "1                    521 -0.000698         0.0  \n",
       "2                    521  0.000244         0.0  \n",
       "3                    521  0.000296         0.0  \n",
       "4                    521  0.000380         0.0  \n",
       "\n",
       "[5 rows x 28 columns]"
      ]
     },
     "execution_count": 3,
     "metadata": {},
     "output_type": "execute_result"
    }
   ],
   "source": [
    "dl_df.head()"
   ]
  }
 ],
 "metadata": {
  "kernelspec": {
   "display_name": "rapids-22.12",
   "language": "python",
   "name": "python3"
  },
  "language_info": {
   "codemirror_mode": {
    "name": "ipython",
    "version": 3
   },
   "file_extension": ".py",
   "mimetype": "text/x-python",
   "name": "python",
   "nbconvert_exporter": "python",
   "pygments_lexer": "ipython3",
   "version": "3.8.15"
  },
  "orig_nbformat": 4,
  "vscode": {
   "interpreter": {
    "hash": "6b91d162001b74e2486487353b6410b0f764056372f730fbe993a2ad06d40082"
   }
  }
 },
 "nbformat": 4,
 "nbformat_minor": 2
}
