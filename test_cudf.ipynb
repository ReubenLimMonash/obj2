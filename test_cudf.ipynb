{
 "cells": [
  {
   "cell_type": "code",
   "execution_count": 3,
   "metadata": {},
   "outputs": [
    {
     "name": "stdout",
     "output_type": "stream",
     "text": [
      "size\n",
      "6    15.622920\n",
      "1    21.729202\n",
      "4    14.594901\n",
      "3    15.215685\n",
      "2    16.571919\n",
      "5    14.149549\n",
      "Name: tip_percentage, dtype: float64\n"
     ]
    }
   ],
   "source": [
    "import cudf, requests\n",
    "from io import StringIO\n",
    "\n",
    "url = \"https://github.com/plotly/datasets/raw/master/tips.csv\"\n",
    "content = requests.get(url).content.decode('utf-8')\n",
    "\n",
    "tips_df = cudf.read_csv(StringIO(content))\n",
    "tips_df['tip_percentage'] = tips_df['tip'] / tips_df['total_bill'] * 100\n",
    "\n",
    "# display average tip by dining party size\n",
    "print(tips_df.groupby('size').tip_percentage.mean())"
   ]
  },
  {
   "cell_type": "code",
   "execution_count": 5,
   "metadata": {},
   "outputs": [],
   "source": [
    "import numpy as np\n",
    "import os, sys, glob, math\n",
    "import time"
   ]
  },
  {
   "cell_type": "code",
   "execution_count": 28,
   "metadata": {},
   "outputs": [
    {
     "name": "stdout",
     "output_type": "stream",
     "text": [
      "0    True\n",
      "dtype: bool\n"
     ]
    },
    {
     "data": {
      "text/plain": [
       "1    b\n",
       "3    b\n",
       "dtype: object"
      ]
     },
     "execution_count": 28,
     "metadata": {},
     "output_type": "execute_result"
    }
   ],
   "source": [
    "import cudf\n",
    "series = cudf.Series([\"a\", \"b\", \"c\",\"b\",\"d\"])\n",
    "# series.loc[series.str.findall(\"b\").index]\n",
    "if series.str.extract('({})'.format(\"b\")).notna().any().values:\n",
    "    print(series.str.extract('({})'.format(\"b\")).notna().any())\n",
    "t = series.str.extract('({})'.format(\"b\")).notna()\n",
    "t\n",
    "series.loc[t.values]"
   ]
  },
  {
   "cell_type": "code",
   "execution_count": 10,
   "metadata": {},
   "outputs": [
    {
     "data": {
      "text/plain": [
       "2"
      ]
     },
     "execution_count": 10,
     "metadata": {},
     "output_type": "execute_result"
    }
   ],
   "source": [
    "import cudf\n",
    "series = cudf.Series([\"a\", \"bo\", \"c\",\"b\",\"d\"])\n",
    "# series.str.extract('({})'.format(\"b\")).notna()\n",
    "series.str.count('(b)').sum()"
   ]
  },
  {
   "cell_type": "code",
   "execution_count": 11,
   "metadata": {},
   "outputs": [
    {
     "data": {
      "text/plain": [
       "5"
      ]
     },
     "execution_count": 11,
     "metadata": {},
     "output_type": "execute_result"
    }
   ],
   "source": [
    "import cudf\n",
    "series = cudf.Series([1,2,3,4,5])\n",
    "series.max()"
   ]
  },
  {
   "cell_type": "code",
   "execution_count": 29,
   "metadata": {},
   "outputs": [
    {
     "data": {
      "text/plain": [
       "False"
      ]
     },
     "execution_count": 29,
     "metadata": {},
     "output_type": "execute_result"
    }
   ],
   "source": [
    "import cudf\n",
    "series = cudf.Series([None,None])\n",
    "series.any()"
   ]
  },
  {
   "cell_type": "code",
   "execution_count": 30,
   "metadata": {},
   "outputs": [],
   "source": [
    "import cudf\n",
    "df = cudf.DataFrame([{'RxTime': 1.0,'TxTime': 2.0,'Packet_Name': 'Hi','Bytes': 3.0,'RSSI': 4.0,'U2G_SINR': 5.0,'U2U_SINR': 6.0,\n",
    "                    'U2G_BER': 7.8,'U2U_BER': 8.0,'Hop_Count': 2,'Delay': 9.0,'Queueing_Time': 1.0,'Backoff_Time': None,'U2G_Distance': 3.0,\n",
    "                    'Incorrectly_Rcvd': 1,'Queue_Overflow': 2,'Interface_Down': 3,'Number_Dropped': 4,'Packet_State': 'Nope'}])"
   ]
  },
  {
   "cell_type": "code",
   "execution_count": 37,
   "metadata": {},
   "outputs": [
    {
     "name": "stdout",
     "output_type": "stream",
     "text": [
      "((1, 1, 2), (2, 1, 2), (3, 1, 2))\n"
     ]
    }
   ],
   "source": [
    "from itertools import repeat\n",
    "a_args = [1,2,3]\n",
    "second_arg = 1\n",
    "third_arg = 2\n",
    "print(tuple(zip(a_args, repeat(second_arg), repeat(third_arg))))"
   ]
  }
 ],
 "metadata": {
  "kernelspec": {
   "display_name": "Python 3",
   "language": "python",
   "name": "python3"
  },
  "language_info": {
   "codemirror_mode": {
    "name": "ipython",
    "version": 3
   },
   "file_extension": ".py",
   "mimetype": "text/x-python",
   "name": "python",
   "nbconvert_exporter": "python",
   "pygments_lexer": "ipython3",
   "version": "3.8.10 (default, Nov 14 2022, 12:59:47) \n[GCC 9.4.0]"
  },
  "orig_nbformat": 4,
  "vscode": {
   "interpreter": {
    "hash": "916dbcbb3f70747c44a77c7bcd40155683ae19c65e1c03b4aa3499c5328201f1"
   }
  }
 },
 "nbformat": 4,
 "nbformat_minor": 2
}
