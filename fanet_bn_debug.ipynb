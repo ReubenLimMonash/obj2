{
 "cells": [
  {
   "attachments": {},
   "cell_type": "markdown",
   "metadata": {},
   "source": [
    "Date: 19/06/2023\n",
    "Desc: To debug the missing cpt values in BN CPT."
   ]
  },
  {
   "attachments": {},
   "cell_type": "markdown",
   "metadata": {},
   "source": [
    "# Import"
   ]
  },
  {
   "cell_type": "code",
   "execution_count": 19,
   "metadata": {},
   "outputs": [],
   "source": [
    "import pandas as pd\n",
    "import numpy as np \n",
    "import os\n",
    "import math\n",
    "import pickle\n",
    "\n",
    "# This function helps to calculate probability distribution, which goes into BBN (note, can handle up to 2 parents)\n",
    "def cpt_probs(df, child, parents):\n",
    "    try:\n",
    "        # dependencies_arr = [pd.Categorical(df[parent],categories=df[parent].cat.categories.tolist()) for parent in parents]\n",
    "        dependencies_arr = [df[parent] for parent in parents]\n",
    "        # cpt = pd.crosstab(dependencies_arr, df[child], rownames=parents, colnames=[child], margins=False, normalize='index', dropna=False).sort_index().to_numpy().reshape(-1).tolist()\n",
    "        cpt = pd.crosstab(dependencies_arr, df[child], rownames=parents, colnames=[child], margins=False, normalize='index', dropna=False).sort_index()\n",
    "        return cpt\n",
    "    except Exception as err:\n",
    "        print(err)\n",
    "        return None "
   ]
  },
  {
   "attachments": {},
   "cell_type": "markdown",
   "metadata": {},
   "source": [
    "# Load Dataset"
   ]
  },
  {
   "cell_type": "code",
   "execution_count": 20,
   "metadata": {},
   "outputs": [],
   "source": [
    "df_dtypes = {\"TxTime\": np.float32, \"U2G_Distance\": np.float32, \"Height\": np.int16,\t\"Num_Members\": np.int16, \"UAV_Sending_Interval\": np.int16, \"Bytes\": np.int16, \n",
    "            \"U2G_SINR\": np.float32, \"U2G_BER\": np.float32, \"Delay\": np.float32, \"Throughput\": np.float32, \"Queueing_Time\": np.float32, \"Packet_State\": 'category', \n",
    "            \"Retry_Count\": np.int8, \"Incorrectly_Received\": np.int8, \"Queue_Overflow\": np.int8, \"Packet_Name\": 'string', \"Mean_SINR\": np.float32, \"Std_Dev_SINR\": np.float32,\n",
    "            \"UAV_Sending_Interval\": np.int16}\n",
    "\n",
    "# Load test dataset ==========================================================================================================================\n",
    "ul_df_bpsk = pd.read_csv(\"/media/research-student/One Touch/FANET Datasets/Dataset_NP10000_MultiModulation_Hovering_Video/BPSK_processed_holdout_uplink.csv\",\n",
    "                    usecols = [\"Mean_SINR\", \"Std_Dev_SINR\", \"Num_Members\", \"UAV_Sending_Interval\", \"Packet_State\", \"Delay\", \"U2G_H_Dist\", \"Height\"],\n",
    "                    dtype=df_dtypes)\n",
    "ul_df_bpsk[\"Modulation\"] = \"BPSK\"\n",
    "\n",
    "ul_df_qpsk = pd.read_csv(\"/media/research-student/One Touch/FANET Datasets/Dataset_NP10000_MultiModulation_Hovering_Video/QPSK_processed_holdout_uplink.csv\",\n",
    "                    usecols = [\"Mean_SINR\", \"Std_Dev_SINR\", \"Num_Members\", \"UAV_Sending_Interval\", \"Packet_State\", \"Delay\", \"U2G_H_Dist\", \"Height\"],\n",
    "                    dtype=df_dtypes)\n",
    "ul_df_qpsk[\"Modulation\"] = \"QPSK\"\n",
    "\n",
    "ul_df_qam16 = pd.read_csv(\"/media/research-student/One Touch/FANET Datasets/Dataset_NP10000_MultiModulation_Hovering_Video/QAM16_processed_holdout_uplink.csv\",\n",
    "                    usecols = [\"Mean_SINR\", \"Std_Dev_SINR\", \"Num_Members\", \"UAV_Sending_Interval\", \"Packet_State\", \"Delay\", \"U2G_H_Dist\", \"Height\"],\n",
    "                    dtype=df_dtypes)\n",
    "ul_df_qam16[\"Modulation\"] = \"QAM16\"\n",
    "\n",
    "ul_df_qam64 = pd.read_csv(\"/media/research-student/One Touch/FANET Datasets/Dataset_NP10000_MultiModulation_Hovering_Video/QAM64_processed_holdout_uplink.csv\",\n",
    "                    usecols = [\"Mean_SINR\", \"Std_Dev_SINR\", \"Num_Members\", \"UAV_Sending_Interval\", \"Packet_State\", \"Delay\", \"U2G_H_Dist\", \"Height\"],\n",
    "                    dtype=df_dtypes)\n",
    "ul_df_qam64[\"Modulation\"] = \"QAM64\"\n",
    "\n",
    "ul_df = pd.concat([ul_df_bpsk, ul_df_qpsk, ul_df_qam16, ul_df_qam64], ignore_index=True)\n",
    "# Load test dataset =========================================================================================================================="
   ]
  },
  {
   "cell_type": "code",
   "execution_count": 3,
   "metadata": {},
   "outputs": [
    {
     "name": "stdout",
     "output_type": "stream",
     "text": [
      "False False\n"
     ]
    }
   ],
   "source": [
    "h_dist_nan = ul_df['U2G_H_Dist'].isnull().values.any()\n",
    "height_nan = ul_df['Height'].isnull().values.any()\n",
    "print(h_dist_nan, height_nan)"
   ]
  },
  {
   "attachments": {},
   "cell_type": "markdown",
   "metadata": {},
   "source": [
    "# Discretize Dataset"
   ]
  },
  {
   "cell_type": "code",
   "execution_count": 21,
   "metadata": {},
   "outputs": [],
   "source": [
    "# Define ranges of input parameters\n",
    "max_height = 300\n",
    "min_height = 60\n",
    "max_h_dist = 1200\n",
    "min_h_dist = 0\n",
    "\n",
    "# Normalize data (Min Max Normalization between [-1,1])\n",
    "ul_df[\"Height_Norm\"] = ul_df[\"Height\"].apply(lambda x: 2*(x-min_height)/(max_height-min_height) - 1)\n",
    "ul_df[\"U2G_H_Dist_Norm\"] = ul_df[\"U2G_H_Dist\"].apply(lambda x: 2*(x-min_h_dist)/(max_h_dist-min_h_dist) - 1)\n",
    "ul_df[\"UAV_Sending_Interval_Class\"] = ul_df[\"UAV_Sending_Interval\"].replace({10:'vs', 20:'s', 40:'m', 100:'l', 1000:'vl'})\n",
    "# ul_df['Packet_State'] = ul_df['Packet_State'].replace({\"Reliable\":0, \"QUEUE_OVERFLOW\":1, \"RETRY_LIMIT_REACHED\":2, \"Delay_Exceeded\":3})\n",
    "\n",
    "# Discretize the h_dist and height of SINR\n",
    "h_dist_num_classes = 61\n",
    "h_dist_labels = [str(num) for num in np.arange(0,h_dist_num_classes)+1]\n",
    "uav_swarm_radius = 5\n",
    "h_dist_bnd_offset = 2 * uav_swarm_radius / max_h_dist\n",
    "h_dist_class_bnd = np.linspace(-1, 1, h_dist_num_classes, endpoint=True)\n",
    "h_dist_class_bnd[1:len(h_dist_class_bnd)] = h_dist_class_bnd[1:len(h_dist_class_bnd)] - h_dist_bnd_offset # Offset boundaries by radius\n",
    "h_dist_class_bnd = h_dist_class_bnd.tolist()\n",
    "h_dist_class_bnd.append(2) # Appending 2 to catch normalized inputs above 1\n",
    "h_dist_class_bnd[0] = -2 # Making the lowest boundary -2 to catch normalized inputs below -1\n",
    "height_num_classes = 9\n",
    "height_labels = [str(num) for num in np.arange(0,height_num_classes)+1]\n",
    "height_class_bnd = np.linspace(-1, 1, height_num_classes, endpoint=True).tolist()\n",
    "height_class_bnd.append(2) # Appending 2 to catch normalized inputs above 1\n",
    "height_class_bnd[0] = -2 # Making the lowest boundary -2 to catch normalized inputs below -1\n",
    "ul_df[\"U2G_H_Dist_Class\"] = pd.cut(ul_df.U2G_H_Dist_Norm, h_dist_class_bnd, right=False, include_lowest=True, labels=h_dist_labels)\n",
    "ul_df[\"Height_Class\"] = pd.cut(ul_df.Height_Norm, height_class_bnd, right=False, include_lowest=True, labels=height_labels)"
   ]
  },
  {
   "attachments": {},
   "cell_type": "markdown",
   "metadata": {},
   "source": [
    "# Compute CPT"
   ]
  },
  {
   "cell_type": "code",
   "execution_count": 22,
   "metadata": {},
   "outputs": [],
   "source": [
    "parents_pkt_state = [\"U2G_H_Dist_Class\", \"Height_Class\", \"UAV_Sending_Interval_Class\", \"Modulation\"]\n",
    "pkt_state_cpt = cpt_probs(ul_df, child=\"Packet_State\", parents=parents_pkt_state)"
   ]
  },
  {
   "attachments": {},
   "cell_type": "markdown",
   "metadata": {},
   "source": [
    "# Validate CPT"
   ]
  },
  {
   "cell_type": "code",
   "execution_count": 30,
   "metadata": {},
   "outputs": [
    {
     "data": {
      "text/plain": [
       "0"
      ]
     },
     "execution_count": 30,
     "metadata": {},
     "output_type": "execute_result"
    }
   ],
   "source": [
    "# The below should be zero\n",
    "len(pkt_state_cpt.loc[(pkt_state_cpt[\"Delay_Exceeded\"]==0) & (pkt_state_cpt[\"QUEUE_OVERFLOW\"]==0) & (pkt_state_cpt[\"RETRY_LIMIT_REACHED\"]==0) & (pkt_state_cpt[\"Reliable\"]==0)])"
   ]
  }
 ],
 "metadata": {
  "kernelspec": {
   "display_name": "Python 3",
   "language": "python",
   "name": "python3"
  },
  "language_info": {
   "codemirror_mode": {
    "name": "ipython",
    "version": 3
   },
   "file_extension": ".py",
   "mimetype": "text/x-python",
   "name": "python",
   "nbconvert_exporter": "python",
   "pygments_lexer": "ipython3",
   "version": "3.8.10"
  },
  "orig_nbformat": 4
 },
 "nbformat": 4,
 "nbformat_minor": 2
}
