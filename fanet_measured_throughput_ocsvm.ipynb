{
 "cells": [
  {
   "cell_type": "markdown",
   "metadata": {},
   "source": [
    "# Imports"
   ]
  },
  {
   "cell_type": "code",
   "execution_count": 13,
   "metadata": {},
   "outputs": [],
   "source": [
    "import pandas as pd\n",
    "import numpy as np \n",
    "import math\n",
    "import os\n",
    "import pickle\n",
    "import gc \n",
    "from tqdm import tqdm\n",
    "from datetime import datetime\n",
    "from sklearn.model_selection import train_test_split\n",
    "from sklearn.preprocessing import RobustScaler\n",
    "from sys import getsizeof\n",
    "from scipy import special\n",
    "import matplotlib.pyplot as plt\n",
    "from pandarallel import pandarallel\n",
    "import tensorflow as tf \n",
    "\n",
    "def q_func(x):\n",
    "    q = 0.5 - 0.5*special.erf(x / np.sqrt(2))\n",
    "    return q\n",
    "\n",
    "def friis_calc(P,freq,dist,ple):\n",
    "    '''\n",
    "    Friis path loss equation\n",
    "    P = Tx transmit power\n",
    "    freq = Signal frequency\n",
    "    dist = Transmission distance\n",
    "    ple = Path loss exponent\n",
    "    '''\n",
    "    propagation_speed = 299792458\n",
    "    l = propagation_speed / freq\n",
    "    h_pl = P * l**2 / (16*math.pi**2)\n",
    "    P_Rx = h_pl * dist**(-ple)\n",
    "    return P_Rx\n",
    "\n",
    "def plos_calc(h_dist, height_tx, height_rx, env='suburban'):\n",
    "    '''\n",
    "    % This function implements the LoS probability model from the paper\n",
    "    % \"Blockage Modeling for Inter-layer UAVs Communications in Urban\n",
    "    % Environments\" \n",
    "    % param h_dist    : horizontal distance between Tx and Rx (m)\n",
    "    % param height_tx : height of Tx\n",
    "    % param height_rx : height of Rx\n",
    "    '''\n",
    "    if env == 'suburban':\n",
    "        a1 = 0.1\n",
    "        a2 = 7.5e-4\n",
    "        a3 = 8\n",
    "    \n",
    "    delta_h = height_tx - height_rx\n",
    "    # pow_factor = 2 * h_dist * math.sqrt(a1*a2/math.pi) + a1 # NOTE: Use this pow_factor if assuming PPP building dist.\n",
    "    pow_factor = h_dist * math.sqrt(a1*a2) # NOTE: Use this pow_factor if assuming ITU-R assumptions.\n",
    "    if delta_h == 0:\n",
    "        p = (1 - math.exp((-(height_tx)**2) / (2*a3**2))) ** pow_factor\n",
    "    else:\n",
    "        delta_h = abs(delta_h)\n",
    "        p = (1 - (math.sqrt(2*math.pi)*a3 / delta_h) * abs(q_func(height_tx/a3) - q_func(height_rx/a3))) ** pow_factor\n",
    "    return p\n",
    "\n",
    "def sinr_lognormal_approx(h_dist, height, env='suburban'):\n",
    "    '''\n",
    "    To approximate the SNR from signal considering multipath fading and shadowing\n",
    "    Assuming no interference due to CSMA, and fixed noise\n",
    "    Inputs:\n",
    "    h_dist = Horizontal Distance between Tx and Rx\n",
    "    height = Height difference between Tx and Rx\n",
    "    env = The operating environment (currently only suburban supported)\n",
    "    '''\n",
    "    # Signal properties\n",
    "    P_Tx_dBm = 20 # Transmit power of \n",
    "    P_Tx = 10**(P_Tx_dBm/10) / 1000\n",
    "    freq = 2.4e9 # Channel frequency (Hz)\n",
    "    noise_dBm = -86\n",
    "    noise = 10**(noise_dBm/10) / 1000\n",
    "    if env == \"suburban\":\n",
    "        # ENV Parameters Constants ----------------------------------\n",
    "        # n_min = 2\n",
    "        # n_max = 2.75\n",
    "        # K_dB_min = 7.8\n",
    "        # K_dB_max = 17.5\n",
    "        # K_min = 10**(K_dB_min/10)\n",
    "        # K_max = 10**(K_dB_max/10)\n",
    "        # alpha = 11.25 # Env parameters for logarithm std dev of shadowing \n",
    "        # beta = 0.06 # Env parameters for logarithm std dev of shadowing \n",
    "        n_min = 2\n",
    "        n_max = 2.75\n",
    "        K_dB_min = 1.4922\n",
    "        K_dB_max = 12.2272\n",
    "        K_min = 10**(K_dB_min/10)\n",
    "        K_max = 10**(K_dB_max/10)\n",
    "        alpha = 11.1852 # Env parameters for logarithm std dev of shadowing \n",
    "        beta = 0.06 # Env parameters for logarithm std dev of shadowing \n",
    "        # -----------------------------------------------------------\n",
    "    # Calculate fading parameters\n",
    "    PLoS = plos_calc(h_dist, 0, height, env='suburban')\n",
    "    theta_Rx = math.atan2(height, h_dist) * 180 / math.pi # Elevation angle in degrees\n",
    "    ple = (n_min - n_max) * PLoS + n_max # Path loss exponent\n",
    "    sigma_phi_dB = alpha*math.exp(-beta*theta_Rx)\n",
    "    sigma_phi = 10**(sigma_phi_dB/10) # Logarithmic std dev of shadowing\n",
    "    K = K_min * math.exp(math.log(K_max/K_min) * PLoS**2)\n",
    "    omega = 1 # Omega of NCS (Rician)\n",
    "    dist = math.sqrt(h_dist**2 + height**2)\n",
    "    P_Rx = friis_calc(P_Tx, freq, dist, ple)\n",
    "    # Approximate L-NCS RV (which is the SNR) as lognormal\n",
    "    eta = math.log(10) / 10\n",
    "    mu_phi = 10*math.log10(P_Rx)\n",
    "    E_phi = math.exp(eta*mu_phi + eta**2*sigma_phi**2/2) # Mean of shadowing RV\n",
    "    var_phi = math.exp(2*eta*mu_phi+eta**2*sigma_phi**2)*(math.exp(eta**2*sigma_phi**2)-1) # Variance of shadowing RV\n",
    "    E_chi = (special.gamma(1+1)/(1+K))*special.hyp1f1(-1,1,-K)*omega\n",
    "    var_chi = (special.gamma(1+2)/(1+K)**2)*special.hyp1f1(-2,1,-K)*omega**2 - E_chi**2\n",
    "    E_SNR = E_phi * E_chi / noise # Theoretical mean of SINR\n",
    "    var_SNR = ((var_phi+E_phi**2)*(var_chi+E_chi**2) - E_phi**2 * E_chi**2) / noise**2\n",
    "    std_dev_SNR = math.sqrt(var_SNR)\n",
    "    # sigma_ln = math.sqrt(math.log(var_SNR/E_SNR**2 + 1))\n",
    "    # mu_ln = math.log(E_SNR) - sigma_ln**2/2\n",
    "    return E_SNR, std_dev_SNR\n",
    "\n",
    "def get_measured_throughput(sim_root_path, link=\"Downlink\", single_path = False):\n",
    "    '''\n",
    "    Function to load the processed measured throughput data from CSV files stored in different subdirs in sim_root_path\n",
    "    '''\n",
    "    assert link in [\"Downlink\", \"Uplink\", \"Video\"], 'link must be one of \"Downlink\", \"Uplink\", \"Video\"'\n",
    "    df_list = []\n",
    "    if single_path:\n",
    "        scenario_list = [sim_root_path]\n",
    "    else:\n",
    "        scenario_list = [f.path for f in os.scandir(sim_root_path) if f.is_dir()] # Get list of \"unique\" scenarios\n",
    "    for scenario in tqdm(scenario_list):\n",
    "        # Get the measured throughput samples under this scenario\n",
    "        measured_df = pd.read_csv(os.path.join(scenario, link + \"_Throughput.csv\"))\n",
    "        df_list.append(measured_df)\n",
    "    return pd.concat(df_list)\n",
    "\n",
    "def normalize_data(df_in, columns, link, save_details_path=None):\n",
    "    '''\n",
    "    columns: The pandas data columns to normalize, given as a list of column names\n",
    "    link is the link type, for choosing the range of measured throughput to scale the data\n",
    "    '''\n",
    "    assert link in [\"Downlink\", \"Uplink\", \"Video\"], 'link must be one of \"Downlink\", \"Uplink\", \"Video\"'\n",
    "    df = df_in.copy()\n",
    "    # Define the ranges of parametrers\n",
    "    max_mean_sinr = 10*math.log10(1123) # The max mean SINR calculated at (0,60) is 1122.743643457063 (linear)\n",
    "    max_std_dev_sinr = 10*math.log10(466) # The max std dev SINR calculated at (0,60) is 465.2159856885714 (linear)\n",
    "    min_mean_sinr = 10*math.log10(0.2) # The min mean SINR calculated at (1200,60) is 0.2251212887895188 (linear)\n",
    "    min_std_dev_sinr = 10*math.log10(0.7) # The min std dev SINR calculated at (1200,300) is 0.7160093126585219 (linear)\n",
    "    max_height = 300\n",
    "    min_height = 60\n",
    "    max_h_dist = 1200\n",
    "    min_h_dist = 0\n",
    "    max_mcs = 7\n",
    "    min_mcs = 0\n",
    "    max_uav_speed = 26\n",
    "    min_uav_speed = 0\n",
    "    if link == \"Downlink\":\n",
    "        max_throughput = 16000 # Max measured throughput for DJI Spark Downlink is 15968 bytes/sec\n",
    "    elif link == \"Uplink\":\n",
    "        max_throughput = 565000 # Max measured throughput for DJI Spark Uplink is 564990 bytes/sec\n",
    "    elif link == \"Video\":\n",
    "        max_throughput = 300000 # Max measured throughput for DJI Spark Video Link is 298700 bytes/sec\n",
    "    min_throughput = 0\n",
    "\n",
    "    # Normalize data (Min Max Normalization between [-1,1])\n",
    "    if \"Height\" in columns:\n",
    "        df[\"Height\"] = df[\"Height\"].apply(lambda x: 2*(x-min_height)/(max_height-min_height) - 1)\n",
    "    if \"U2G_H_Dist\" in columns:\n",
    "        df[\"U2G_H_Dist\"] = df[\"U2G_H_Dist\"].apply(lambda x: 2*(x-min_h_dist)/(max_h_dist-min_h_dist) - 1)\n",
    "    if \"Horizontal_Distance\" in columns:\n",
    "        df[\"Horizontal_Distance\"] = df[\"Horizontal_Distance\"].apply(lambda x: 2*(x-min_h_dist)/(max_h_dist-min_h_dist) - 1)\n",
    "    if \"Mean_SINR\" in columns:\n",
    "        df[\"Mean_SINR\"] = df[\"Mean_SINR\"].apply(lambda x: 2*(10*math.log10(x)-min_mean_sinr)/(max_mean_sinr-min_mean_sinr) - 1) # Convert to dB space\n",
    "    if \"Std_Dev_SINR\" in columns:\n",
    "        df[\"Std_Dev_SINR\"] = df[\"Std_Dev_SINR\"].apply(lambda x: 2*(10*math.log10(x)-min_std_dev_sinr)/(max_std_dev_sinr-min_std_dev_sinr) - 1) # Convert to dB space\n",
    "    if \"UAV_Sending_Interval\" in columns:\n",
    "        df[\"UAV_Sending_Interval\"] = df[\"UAV_Sending_Interval\"].replace({10:-1, 20:-0.5, 40:0, 66.7: 0.5, 100:1, 1000:2})\n",
    "    if \"Packet_State\" in columns:\n",
    "        df['Packet_State'] = df['Packet_State'].replace({\"Reliable\":0, \"QUEUE_OVERFLOW\":1, \"RETRY_LIMIT_REACHED\":2, \"Delay_Exceeded\":3})\n",
    "    if \"Modulation\" in columns:\n",
    "        df['Modulation'] = df['Modulation'].replace({\"BPSK\":1, \"QPSK\":0.3333, 16:-0.3333, \"QAM-16\":-0.3333, \"QAM16\":-0.3333, 64:-1, \"QAM-64\":-1, \"QAM64\":-1})\n",
    "    if \"MCS\" in columns:\n",
    "        df[\"MCS\"] = df[\"MCS\"].apply(lambda x: 2*(x-min_mcs)/(max_mcs-min_mcs) - 1)\n",
    "    if \"MCS_Index\" in columns:\n",
    "        df[\"MCS_Index\"] = df[\"MCS_Index\"].apply(lambda x: 2*(x-min_mcs)/(max_mcs-min_mcs) - 1)\n",
    "    if \"UAV_Speed\" in columns:\n",
    "        df[\"UAV_Speed\"] = df[\"UAV_Speed\"].apply(lambda x: 2*(x-min_uav_speed)/(max_uav_speed-min_uav_speed) - 1)\n",
    "    if \"Throughput\" in columns:\n",
    "        df[\"Throughput\"] = df[\"Throughput\"].apply(lambda x: 2*(x-min_throughput)/(max_throughput-min_throughput) - 1)\n",
    "\n",
    "\n",
    "    # Record details of inputs and output for model\n",
    "    if save_details_path is not None:\n",
    "        f = open(os.path.join(save_details_path,\"model_details.txt\"), \"w\")\n",
    "        f.write(\"Max Height (m): {}\\n\".format(max_height))\n",
    "        f.write(\"Min Height (m): {}\\n\".format(min_height))\n",
    "        f.write(\"Max H_Dist (m): {}\\n\".format(max_h_dist))\n",
    "        f.write(\"Min H_Dist (m): {}\\n\".format(min_h_dist))\n",
    "        f.write(\"Max Mean SINR (dB): {}\\n\".format(max_mean_sinr))\n",
    "        f.write(\"Min Mean SINR (dB): {}\\n\".format(min_mean_sinr))\n",
    "        f.write(\"Max Std Dev SINR (dB): {}\\n\".format(max_std_dev_sinr))\n",
    "        f.write(\"Min Std Dev SINR (dB): {}\\n\".format(min_std_dev_sinr))\n",
    "        f.write(\"Max UAV Speed (m/s): {}\\n\".format(max_uav_speed))\n",
    "        f.write(\"Min UAV Speed (m/s): {}\\n\".format(min_uav_speed))\n",
    "        f.write(\"Max Measured Throughput (bytes/sec): {}\\n\".format(max_throughput))\n",
    "        f.write(\"Min Measured Throughput (bytes/sec): {}\\n\".format(min_throughput))\n",
    "        f.write(\"[BPSK: 1, QPSK: 0.3333, QAM16: -0.3333, QAM64: -1]\\n\")\n",
    "        f.write(\"UAV Sending Interval: [10:-1, 20:-0.5, 40:0, 66.7: 0.5, 100:1, 1000:2]\\n\")\n",
    "        f.write(\"Output: ['Reliable':0, 'QUEUE_OVERFLOW':1, 'RETRY_LIMIT_REACHED':2, 'Delay_Exceeded':3]\\n\")\n",
    "        f.close()\n",
    "\n",
    "    return df\n",
    "\n",
    "def get_mcs_index(df_in):\n",
    "    '''\n",
    "    Gets the MCS index based on modulation and bitrate column of the df_in\n",
    "    '''\n",
    "    df = df_in.copy()\n",
    "    df[\"MCS\"] = ''\n",
    "    df.loc[(df[\"Modulation\"] == \"BPSK\") & (df[\"Bitrate\"] == 6.5), \"MCS\"] = 0 # MCS Index 0\n",
    "    df.loc[(df[\"Modulation\"] == \"QPSK\") & (df[\"Bitrate\"] == 13), \"MCS\"] = 1 # MCS Index 0\n",
    "    df.loc[(df[\"Modulation\"] == \"QPSK\") & (df[\"Bitrate\"] == 19.5), \"MCS\"] = 2 # MCS Index 0\n",
    "    df.loc[(df[\"Modulation\"] == \"QAM16\") & (df[\"Bitrate\"] == 26), \"MCS\"] = 3 # MCS Index 0\n",
    "    df.loc[(df[\"Modulation\"] == \"QAM16\") & (df[\"Bitrate\"] == 39), \"MCS\"] = 4 # MCS Index 0\n",
    "    df.loc[(df[\"Modulation\"] == \"QAM64\") & (df[\"Bitrate\"] == 52), \"MCS\"] = 5 # MCS Index 0\n",
    "    df.loc[(df[\"Modulation\"] == \"QAM64\") & (df[\"Bitrate\"] == 58.5), \"MCS\"] = 6 # MCS Index 0\n",
    "    df.loc[(df[\"Modulation\"] == \"QAM64\") & (df[\"Bitrate\"] == 65), \"MCS\"] = 7 # MCS Index 0\n",
    "\n",
    "    return df\n",
    "\n",
    "def norm_MCS(mcs_index):\n",
    "    return 2*mcs_index/7 - 1"
   ]
  },
  {
   "cell_type": "markdown",
   "metadata": {},
   "source": [
    "# Manual Control Mode"
   ]
  },
  {
   "cell_type": "markdown",
   "metadata": {},
   "source": [
    "## Find the critical distance for a certain scenario"
   ]
  },
  {
   "cell_type": "code",
   "execution_count": 2,
   "metadata": {},
   "outputs": [
    {
     "name": "stderr",
     "output_type": "stream",
     "text": [
      "2023-11-23 10:28:08.520367: W tensorflow/stream_executor/platform/default/dso_loader.cc:64] Could not load dynamic library 'libcudart.so.11.0'; dlerror: libcudart.so.11.0: cannot open shared object file: No such file or directory\n",
      "2023-11-23 10:28:08.520447: W tensorflow/stream_executor/platform/default/dso_loader.cc:64] Could not load dynamic library 'libcublas.so.11'; dlerror: libcublas.so.11: cannot open shared object file: No such file or directory\n",
      "2023-11-23 10:28:08.520499: W tensorflow/stream_executor/platform/default/dso_loader.cc:64] Could not load dynamic library 'libcublasLt.so.11'; dlerror: libcublasLt.so.11: cannot open shared object file: No such file or directory\n",
      "2023-11-23 10:28:08.520548: W tensorflow/stream_executor/platform/default/dso_loader.cc:64] Could not load dynamic library 'libcufft.so.10'; dlerror: libcufft.so.10: cannot open shared object file: No such file or directory\n",
      "2023-11-23 10:28:08.520596: W tensorflow/stream_executor/platform/default/dso_loader.cc:64] Could not load dynamic library 'libcurand.so.10'; dlerror: libcurand.so.10: cannot open shared object file: No such file or directory\n",
      "2023-11-23 10:28:08.520642: W tensorflow/stream_executor/platform/default/dso_loader.cc:64] Could not load dynamic library 'libcusolver.so.11'; dlerror: libcusolver.so.11: cannot open shared object file: No such file or directory\n",
      "2023-11-23 10:28:08.520689: W tensorflow/stream_executor/platform/default/dso_loader.cc:64] Could not load dynamic library 'libcusparse.so.11'; dlerror: libcusparse.so.11: cannot open shared object file: No such file or directory\n",
      "2023-11-23 10:28:08.520736: W tensorflow/stream_executor/platform/default/dso_loader.cc:64] Could not load dynamic library 'libcudnn.so.8'; dlerror: libcudnn.so.8: cannot open shared object file: No such file or directory\n",
      "2023-11-23 10:28:08.520745: W tensorflow/core/common_runtime/gpu/gpu_device.cc:1934] Cannot dlopen some GPU libraries. Please make sure the missing libraries mentioned above are installed properly if you would like to use GPU. Follow the guide at https://www.tensorflow.org/install/gpu for how to download and setup the required libraries for your platform.\n",
      "Skipping registering GPU devices...\n",
      "2023-11-23 10:28:08.521040: I tensorflow/core/platform/cpu_feature_guard.cc:193] This TensorFlow binary is optimized with oneAPI Deep Neural Network Library (oneDNN) to use the following CPU instructions in performance-critical operations:  AVX2 AVX512F AVX512_VNNI FMA\n",
      "To enable them in other operations, rebuild TensorFlow with the appropriate compiler flags.\n"
     ]
    },
    {
     "name": "stdout",
     "output_type": "stream",
     "text": [
      "1/1 [==============================] - 0s 130ms/step\n",
      "1/1 [==============================] - 0s 34ms/step\n",
      "1/1 [==============================] - 0s 33ms/step\n",
      "1/1 [==============================] - 0s 34ms/step\n",
      "1/1 [==============================] - 0s 36ms/step\n",
      "1/1 [==============================] - 0s 34ms/step\n",
      "1/1 [==============================] - 0s 32ms/step\n",
      "1/1 [==============================] - 0s 32ms/step\n",
      "1/1 [==============================] - 0s 33ms/step\n",
      "1/1 [==============================] - 0s 35ms/step\n",
      "1/1 [==============================] - 0s 33ms/step\n",
      "1/1 [==============================] - 0s 33ms/step\n",
      "1/1 [==============================] - 0s 34ms/step\n",
      "1/1 [==============================] - 0s 35ms/step\n",
      "1/1 [==============================] - 0s 35ms/step\n",
      "1/1 [==============================] - 0s 32ms/step\n",
      "1/1 [==============================] - 0s 32ms/step\n",
      "1/1 [==============================] - 0s 32ms/step\n",
      "1/1 [==============================] - 0s 35ms/step\n",
      "1/1 [==============================] - 0s 36ms/step\n",
      "1/1 [==============================] - 0s 35ms/step\n",
      "1/1 [==============================] - 0s 33ms/step\n",
      "1/1 [==============================] - 0s 33ms/step\n",
      "1/1 [==============================] - 0s 36ms/step\n",
      "1/1 [==============================] - 0s 34ms/step\n",
      "1/1 [==============================] - 0s 35ms/step\n",
      "1/1 [==============================] - 0s 37ms/step\n",
      "1/1 [==============================] - 0s 34ms/step\n",
      "1/1 [==============================] - 0s 33ms/step\n",
      "1/1 [==============================] - 0s 33ms/step\n",
      "1/1 [==============================] - 0s 34ms/step\n",
      "1/1 [==============================] - 0s 32ms/step\n",
      "1/1 [==============================] - 0s 32ms/step\n",
      "1/1 [==============================] - 0s 32ms/step\n",
      "1/1 [==============================] - 0s 35ms/step\n",
      "1/1 [==============================] - 0s 34ms/step\n",
      "1/1 [==============================] - 0s 36ms/step\n",
      "1/1 [==============================] - 0s 34ms/step\n",
      "1/1 [==============================] - 0s 32ms/step\n",
      "1/1 [==============================] - 0s 32ms/step\n",
      "1/1 [==============================] - 0s 34ms/step\n",
      "1/1 [==============================] - 0s 35ms/step\n",
      "1/1 [==============================] - 0s 32ms/step\n",
      "1/1 [==============================] - 0s 33ms/step\n",
      "1/1 [==============================] - 0s 33ms/step\n",
      "1/1 [==============================] - 0s 35ms/step\n",
      "1/1 [==============================] - 0s 32ms/step\n",
      "1/1 [==============================] - 0s 34ms/step\n",
      "1/1 [==============================] - 0s 32ms/step\n",
      "1/1 [==============================] - 0s 32ms/step\n",
      "1/1 [==============================] - 0s 32ms/step\n",
      "1/1 [==============================] - 0s 31ms/step\n",
      "1/1 [==============================] - 0s 32ms/step\n",
      "1/1 [==============================] - 0s 32ms/step\n",
      "1/1 [==============================] - 0s 32ms/step\n",
      "1/1 [==============================] - 0s 32ms/step\n",
      "1/1 [==============================] - 0s 34ms/step\n",
      "1/1 [==============================] - 0s 33ms/step\n",
      "1/1 [==============================] - 0s 35ms/step\n",
      "1/1 [==============================] - 0s 34ms/step\n",
      "1/1 [==============================] - 0s 34ms/step\n",
      "1/1 [==============================] - 0s 34ms/step\n",
      "1/1 [==============================] - 0s 33ms/step\n",
      "1/1 [==============================] - 0s 35ms/step\n",
      "1/1 [==============================] - 0s 32ms/step\n",
      "1/1 [==============================] - 0s 32ms/step\n",
      "1/1 [==============================] - 0s 36ms/step\n",
      "1/1 [==============================] - 0s 33ms/step\n",
      "1/1 [==============================] - 0s 35ms/step\n",
      "1/1 [==============================] - 0s 32ms/step\n",
      "1/1 [==============================] - 0s 33ms/step\n",
      "1/1 [==============================] - 0s 36ms/step\n",
      "1/1 [==============================] - 0s 35ms/step\n",
      "1/1 [==============================] - 0s 36ms/step\n",
      "1/1 [==============================] - 0s 32ms/step\n",
      "1/1 [==============================] - 0s 32ms/step\n",
      "1/1 [==============================] - 0s 33ms/step\n",
      "1/1 [==============================] - 0s 33ms/step\n",
      "1/1 [==============================] - 0s 35ms/step\n",
      "1/1 [==============================] - 0s 31ms/step\n",
      "1/1 [==============================] - 0s 35ms/step\n",
      "1/1 [==============================] - 0s 35ms/step\n",
      "1/1 [==============================] - 0s 32ms/step\n",
      "1/1 [==============================] - 0s 33ms/step\n",
      "1/1 [==============================] - 0s 33ms/step\n",
      "1/1 [==============================] - 0s 32ms/step\n",
      "1/1 [==============================] - 0s 33ms/step\n",
      "1/1 [==============================] - 0s 33ms/step\n",
      "1/1 [==============================] - 0s 35ms/step\n",
      "1/1 [==============================] - 0s 32ms/step\n",
      "1/1 [==============================] - 0s 33ms/step\n",
      "1/1 [==============================] - 0s 32ms/step\n",
      "1/1 [==============================] - 0s 37ms/step\n",
      "1/1 [==============================] - 0s 32ms/step\n",
      "1/1 [==============================] - 0s 33ms/step\n",
      "1/1 [==============================] - 0s 33ms/step\n",
      "1/1 [==============================] - 0s 33ms/step\n",
      "1/1 [==============================] - 0s 35ms/step\n",
      "1/1 [==============================] - 0s 32ms/step\n",
      "1/1 [==============================] - 0s 31ms/step\n",
      "1/1 [==============================] - 0s 33ms/step\n",
      "1/1 [==============================] - 0s 36ms/step\n",
      "1/1 [==============================] - 0s 34ms/step\n",
      "1/1 [==============================] - 0s 35ms/step\n",
      "1/1 [==============================] - 0s 33ms/step\n",
      "1/1 [==============================] - 0s 32ms/step\n",
      "1/1 [==============================] - 0s 32ms/step\n",
      "1/1 [==============================] - 0s 32ms/step\n",
      "1/1 [==============================] - 0s 32ms/step\n",
      "1/1 [==============================] - 0s 35ms/step\n",
      "1/1 [==============================] - 0s 33ms/step\n",
      "1/1 [==============================] - 0s 31ms/step\n",
      "1/1 [==============================] - 0s 38ms/step\n",
      "1/1 [==============================] - 0s 38ms/step\n",
      "1/1 [==============================] - 0s 34ms/step\n",
      "1/1 [==============================] - 0s 36ms/step\n",
      "1/1 [==============================] - 0s 33ms/step\n",
      "1/1 [==============================] - 0s 33ms/step\n",
      "1/1 [==============================] - 0s 33ms/step\n",
      "1/1 [==============================] - 0s 35ms/step\n",
      "1/1 [==============================] - 0s 32ms/step\n",
      "1/1 [==============================] - 0s 33ms/step\n",
      "1/1 [==============================] - 0s 35ms/step\n",
      "1/1 [==============================] - 0s 35ms/step\n",
      "1/1 [==============================] - 0s 33ms/step\n",
      "1/1 [==============================] - 0s 33ms/step\n",
      "1/1 [==============================] - 0s 33ms/step\n",
      "1/1 [==============================] - 0s 32ms/step\n",
      "1/1 [==============================] - 0s 35ms/step\n",
      "1/1 [==============================] - 0s 33ms/step\n",
      "1/1 [==============================] - 0s 33ms/step\n",
      "1/1 [==============================] - 0s 32ms/step\n",
      "1/1 [==============================] - 0s 32ms/step\n",
      "1/1 [==============================] - 0s 32ms/step\n",
      "1/1 [==============================] - 0s 34ms/step\n",
      "1/1 [==============================] - 0s 35ms/step\n",
      "1/1 [==============================] - 0s 35ms/step\n",
      "1/1 [==============================] - 0s 35ms/step\n",
      "1/1 [==============================] - 0s 36ms/step\n",
      "1/1 [==============================] - 0s 36ms/step\n",
      "1/1 [==============================] - 0s 34ms/step\n",
      "1/1 [==============================] - 0s 33ms/step\n",
      "1/1 [==============================] - 0s 33ms/step\n",
      "1/1 [==============================] - 0s 33ms/step\n",
      "1/1 [==============================] - 0s 38ms/step\n",
      "1/1 [==============================] - 0s 34ms/step\n",
      "1/1 [==============================] - 0s 34ms/step\n",
      "1/1 [==============================] - 0s 33ms/step\n",
      "1/1 [==============================] - 0s 33ms/step\n",
      "1/1 [==============================] - 0s 32ms/step\n",
      "1/1 [==============================] - 0s 32ms/step\n",
      "1/1 [==============================] - 0s 32ms/step\n",
      "1/1 [==============================] - 0s 32ms/step\n",
      "1/1 [==============================] - 0s 35ms/step\n",
      "1/1 [==============================] - 0s 36ms/step\n",
      "1/1 [==============================] - 0s 32ms/step\n",
      "1/1 [==============================] - 0s 33ms/step\n",
      "1/1 [==============================] - 0s 35ms/step\n",
      "1/1 [==============================] - 0s 33ms/step\n",
      "1/1 [==============================] - 0s 35ms/step\n",
      "1/1 [==============================] - 0s 32ms/step\n",
      "1/1 [==============================] - 0s 32ms/step\n",
      "1/1 [==============================] - 0s 32ms/step\n",
      "1/1 [==============================] - 0s 36ms/step\n",
      "1/1 [==============================] - 0s 33ms/step\n",
      "1/1 [==============================] - 0s 33ms/step\n",
      "1/1 [==============================] - 0s 35ms/step\n",
      "1/1 [==============================] - 0s 32ms/step\n",
      "1/1 [==============================] - 0s 32ms/step\n",
      "1/1 [==============================] - 0s 32ms/step\n",
      "1/1 [==============================] - 0s 32ms/step\n",
      "1/1 [==============================] - 0s 35ms/step\n",
      "1/1 [==============================] - 0s 33ms/step\n",
      "1/1 [==============================] - 0s 33ms/step\n",
      "1/1 [==============================] - 0s 33ms/step\n",
      "1/1 [==============================] - 0s 32ms/step\n",
      "1/1 [==============================] - 0s 33ms/step\n",
      "1/1 [==============================] - 0s 33ms/step\n",
      "1/1 [==============================] - 0s 32ms/step\n",
      "1/1 [==============================] - 0s 32ms/step\n",
      "1/1 [==============================] - 0s 31ms/step\n",
      "1/1 [==============================] - 0s 31ms/step\n",
      "1/1 [==============================] - 0s 35ms/step\n",
      "1/1 [==============================] - 0s 32ms/step\n",
      "1/1 [==============================] - 0s 33ms/step\n",
      "1/1 [==============================] - 0s 35ms/step\n",
      "1/1 [==============================] - 0s 34ms/step\n",
      "1/1 [==============================] - 0s 32ms/step\n",
      "1/1 [==============================] - 0s 33ms/step\n",
      "1/1 [==============================] - 0s 35ms/step\n",
      "1/1 [==============================] - 0s 32ms/step\n",
      "1/1 [==============================] - 0s 33ms/step\n",
      "1/1 [==============================] - 0s 35ms/step\n",
      "1/1 [==============================] - 0s 33ms/step\n",
      "1/1 [==============================] - 0s 35ms/step\n",
      "1/1 [==============================] - 0s 32ms/step\n",
      "1/1 [==============================] - 0s 32ms/step\n",
      "1/1 [==============================] - 0s 35ms/step\n",
      "1/1 [==============================] - 0s 32ms/step\n",
      "1/1 [==============================] - 0s 35ms/step\n",
      "1/1 [==============================] - 0s 34ms/step\n",
      "1/1 [==============================] - 0s 36ms/step\n",
      "1/1 [==============================] - 0s 34ms/step\n",
      "1/1 [==============================] - 0s 36ms/step\n",
      "1/1 [==============================] - 0s 33ms/step\n",
      "1/1 [==============================] - 0s 36ms/step\n",
      "1/1 [==============================] - 0s 35ms/step\n",
      "1/1 [==============================] - 0s 32ms/step\n",
      "1/1 [==============================] - 0s 32ms/step\n",
      "1/1 [==============================] - 0s 35ms/step\n",
      "1/1 [==============================] - 0s 34ms/step\n",
      "1/1 [==============================] - 0s 34ms/step\n",
      "1/1 [==============================] - 0s 33ms/step\n",
      "1/1 [==============================] - 0s 32ms/step\n",
      "1/1 [==============================] - 0s 35ms/step\n",
      "1/1 [==============================] - 0s 33ms/step\n",
      "1/1 [==============================] - 0s 35ms/step\n",
      "1/1 [==============================] - 0s 34ms/step\n",
      "1/1 [==============================] - 0s 35ms/step\n",
      "1/1 [==============================] - 0s 32ms/step\n",
      "1/1 [==============================] - 0s 33ms/step\n",
      "1/1 [==============================] - 0s 33ms/step\n",
      "1/1 [==============================] - 0s 32ms/step\n",
      "1/1 [==============================] - 0s 33ms/step\n",
      "1/1 [==============================] - 0s 32ms/step\n",
      "1/1 [==============================] - 0s 36ms/step\n",
      "1/1 [==============================] - 0s 34ms/step\n",
      "1/1 [==============================] - 0s 32ms/step\n",
      "1/1 [==============================] - 0s 32ms/step\n",
      "1/1 [==============================] - 0s 32ms/step\n",
      "1/1 [==============================] - 0s 35ms/step\n",
      "1/1 [==============================] - 0s 32ms/step\n",
      "1/1 [==============================] - 0s 33ms/step\n",
      "1/1 [==============================] - 0s 35ms/step\n",
      "1/1 [==============================] - 0s 35ms/step\n",
      "1/1 [==============================] - 0s 32ms/step\n",
      "1/1 [==============================] - 0s 35ms/step\n",
      "1/1 [==============================] - 0s 33ms/step\n",
      "1/1 [==============================] - 0s 33ms/step\n",
      "1/1 [==============================] - 0s 32ms/step\n",
      "1/1 [==============================] - 0s 33ms/step\n",
      "1/1 [==============================] - 0s 35ms/step\n",
      "1/1 [==============================] - 0s 35ms/step\n",
      "1/1 [==============================] - 0s 32ms/step\n",
      "1/1 [==============================] - 0s 35ms/step\n",
      "1/1 [==============================] - 0s 35ms/step\n",
      "1/1 [==============================] - 0s 34ms/step\n",
      "1/1 [==============================] - 0s 36ms/step\n",
      "1/1 [==============================] - 0s 32ms/step\n",
      "1/1 [==============================] - 0s 35ms/step\n",
      "1/1 [==============================] - 0s 35ms/step\n",
      "1/1 [==============================] - 0s 32ms/step\n",
      "1/1 [==============================] - 0s 32ms/step\n",
      "1/1 [==============================] - 0s 36ms/step\n",
      "1/1 [==============================] - 0s 32ms/step\n",
      "1/1 [==============================] - 0s 34ms/step\n",
      "1/1 [==============================] - 0s 31ms/step\n",
      "1/1 [==============================] - 0s 35ms/step\n",
      "1/1 [==============================] - 0s 32ms/step\n",
      "1/1 [==============================] - 0s 36ms/step\n",
      "1/1 [==============================] - 0s 33ms/step\n",
      "1/1 [==============================] - 0s 33ms/step\n",
      "1/1 [==============================] - 0s 35ms/step\n",
      "1/1 [==============================] - 0s 32ms/step\n",
      "1/1 [==============================] - 0s 34ms/step\n",
      "1/1 [==============================] - 0s 32ms/step\n",
      "1/1 [==============================] - 0s 35ms/step\n",
      "1/1 [==============================] - 0s 33ms/step\n",
      "1/1 [==============================] - 0s 32ms/step\n",
      "1/1 [==============================] - 0s 33ms/step\n",
      "1/1 [==============================] - 0s 33ms/step\n",
      "1/1 [==============================] - 0s 33ms/step\n",
      "1/1 [==============================] - 0s 32ms/step\n",
      "1/1 [==============================] - 0s 32ms/step\n",
      "1/1 [==============================] - 0s 32ms/step\n",
      "1/1 [==============================] - 0s 32ms/step\n",
      "1/1 [==============================] - 0s 32ms/step\n",
      "1/1 [==============================] - 0s 32ms/step\n",
      "1/1 [==============================] - 0s 35ms/step\n",
      "1/1 [==============================] - 0s 32ms/step\n",
      "1/1 [==============================] - 0s 32ms/step\n",
      "1/1 [==============================] - 0s 32ms/step\n",
      "1/1 [==============================] - 0s 35ms/step\n",
      "1/1 [==============================] - 0s 35ms/step\n",
      "1/1 [==============================] - 0s 31ms/step\n",
      "1/1 [==============================] - 0s 32ms/step\n",
      "1/1 [==============================] - 0s 34ms/step\n",
      "1/1 [==============================] - 0s 32ms/step\n",
      "1/1 [==============================] - 0s 34ms/step\n",
      "1/1 [==============================] - 0s 36ms/step\n",
      "1/1 [==============================] - 0s 44ms/step\n",
      "1/1 [==============================] - 0s 35ms/step\n",
      "1/1 [==============================] - 0s 33ms/step\n",
      "1/1 [==============================] - 0s 33ms/step\n",
      "1/1 [==============================] - 0s 32ms/step\n",
      "1/1 [==============================] - 0s 35ms/step\n",
      "1/1 [==============================] - 0s 32ms/step\n",
      "1/1 [==============================] - 0s 34ms/step\n",
      "1/1 [==============================] - 0s 32ms/step\n",
      "1/1 [==============================] - 0s 35ms/step\n",
      "1/1 [==============================] - 0s 35ms/step\n",
      "1/1 [==============================] - 0s 32ms/step\n",
      "1/1 [==============================] - 0s 35ms/step\n",
      "1/1 [==============================] - 0s 33ms/step\n",
      "1/1 [==============================] - 0s 33ms/step\n",
      "1/1 [==============================] - 0s 33ms/step\n",
      "1/1 [==============================] - 0s 32ms/step\n",
      "1/1 [==============================] - 0s 33ms/step\n",
      "1/1 [==============================] - 0s 32ms/step\n",
      "1/1 [==============================] - 0s 33ms/step\n",
      "1/1 [==============================] - 0s 33ms/step\n",
      "1/1 [==============================] - 0s 35ms/step\n",
      "1/1 [==============================] - 0s 32ms/step\n",
      "1/1 [==============================] - 0s 35ms/step\n",
      "1/1 [==============================] - 0s 32ms/step\n",
      "1/1 [==============================] - 0s 34ms/step\n",
      "1/1 [==============================] - 0s 32ms/step\n",
      "1/1 [==============================] - 0s 36ms/step\n",
      "1/1 [==============================] - 0s 34ms/step\n",
      "1/1 [==============================] - 0s 32ms/step\n",
      "1/1 [==============================] - 0s 35ms/step\n",
      "1/1 [==============================] - 0s 32ms/step\n",
      "1/1 [==============================] - 0s 33ms/step\n",
      "1/1 [==============================] - 0s 32ms/step\n",
      "1/1 [==============================] - 0s 35ms/step\n",
      "1/1 [==============================] - 0s 32ms/step\n",
      "1/1 [==============================] - 0s 35ms/step\n",
      "1/1 [==============================] - 0s 33ms/step\n",
      "1/1 [==============================] - 0s 32ms/step\n",
      "1/1 [==============================] - 0s 32ms/step\n",
      "1/1 [==============================] - 0s 34ms/step\n",
      "1/1 [==============================] - 0s 33ms/step\n",
      "1/1 [==============================] - 0s 31ms/step\n",
      "1/1 [==============================] - 0s 35ms/step\n",
      "1/1 [==============================] - 0s 31ms/step\n",
      "1/1 [==============================] - 0s 32ms/step\n",
      "1/1 [==============================] - 0s 33ms/step\n",
      "1/1 [==============================] - 0s 34ms/step\n",
      "1/1 [==============================] - 0s 32ms/step\n",
      "1/1 [==============================] - 0s 33ms/step\n",
      "1/1 [==============================] - 0s 32ms/step\n",
      "1/1 [==============================] - 0s 34ms/step\n",
      "1/1 [==============================] - 0s 32ms/step\n",
      "1/1 [==============================] - 0s 33ms/step\n",
      "1/1 [==============================] - 0s 32ms/step\n",
      "1/1 [==============================] - 0s 34ms/step\n",
      "1/1 [==============================] - 0s 32ms/step\n",
      "1/1 [==============================] - 0s 36ms/step\n",
      "1/1 [==============================] - 0s 32ms/step\n",
      "1/1 [==============================] - 0s 35ms/step\n",
      "1/1 [==============================] - 0s 31ms/step\n",
      "1/1 [==============================] - 0s 35ms/step\n",
      "1/1 [==============================] - 0s 32ms/step\n",
      "1/1 [==============================] - 0s 35ms/step\n",
      "1/1 [==============================] - 0s 37ms/step\n",
      "1/1 [==============================] - 0s 33ms/step\n",
      "1/1 [==============================] - 0s 32ms/step\n",
      "1/1 [==============================] - 0s 32ms/step\n",
      "1/1 [==============================] - 0s 32ms/step\n",
      "1/1 [==============================] - 0s 32ms/step\n",
      "1/1 [==============================] - 0s 32ms/step\n",
      "1/1 [==============================] - 0s 32ms/step\n",
      "1/1 [==============================] - 0s 33ms/step\n",
      "1/1 [==============================] - 0s 32ms/step\n",
      "1/1 [==============================] - 0s 35ms/step\n",
      "1/1 [==============================] - 0s 33ms/step\n",
      "1/1 [==============================] - 0s 32ms/step\n",
      "1/1 [==============================] - 0s 36ms/step\n",
      "1/1 [==============================] - 0s 34ms/step\n",
      "1/1 [==============================] - 0s 35ms/step\n",
      "1/1 [==============================] - 0s 32ms/step\n",
      "1/1 [==============================] - 0s 33ms/step\n",
      "1/1 [==============================] - 0s 35ms/step\n",
      "1/1 [==============================] - 0s 31ms/step\n",
      "1/1 [==============================] - 0s 33ms/step\n"
     ]
    }
   ],
   "source": [
    "# Load model\n",
    "dl_model = tf.keras.models.load_model(\"/media/research-student/One Touch/FANET Datasets/Dataset_NP10000_DJISpark/nn_checkpoints/djispark_nnv4_wobn_dl/model.010-0.2039.h5\", compile=False)\n",
    "dl_model.compile(optimizer='adam', \n",
    "              loss={'packet_state': 'categorical_crossentropy'},\n",
    "              metrics={'packet_state': 'accuracy'})\n",
    "\n",
    "max_mean_sinr = 10*math.log10(1123) # The max mean SINR calculated at (0,60) is 1122.743643457063 (linear)\n",
    "max_std_dev_sinr = 10*math.log10(466) # The max std dev SINR calculated at (0,60) is 465.2159856885714 (linear)\n",
    "min_mean_sinr = 10*math.log10(0.2) # The min mean SINR calculated at (1200,60) is 0.2251212887895188 (linear)\n",
    "min_std_dev_sinr = 10*math.log10(0.7) # The min std dev SINR calculated at (1200,300) is 0.7160093126585219 (linear)\n",
    "\n",
    "uav_send_int = 100\n",
    "uav_send_int_norm = {10:-1, 20:-0.5, 40:0, 66.7: 0.5, 100:1, 1000:2}\n",
    "mcs_index = 1\n",
    "heights = [60, 90, 120, 150, 180, 210, 240, 270, 300]\n",
    "horizontal_dist = np.linspace(0, 1200, 121, endpoint=True)\n",
    "reliability_th = 0.99 # Threshold for reliability value\n",
    "crit_dist = [] # The critical distance corresponding to each height\n",
    "for height in heights:\n",
    "    stop = 0\n",
    "    for h_dist in horizontal_dist:\n",
    "        if stop == 0:\n",
    "            m, s = sinr_lognormal_approx(h_dist, height)\n",
    "            m = 2*(10*math.log10(m)-min_mean_sinr)/(max_mean_sinr-min_mean_sinr) - 1\n",
    "            s = 2*(10*math.log10(s)-min_std_dev_sinr)/(max_std_dev_sinr-min_std_dev_sinr) - 1\n",
    "            predicted_reliability = dl_model.predict([[m, s, uav_send_int_norm[uav_send_int], norm_MCS(mcs_index)]])[0][0]\n",
    "            if predicted_reliability < reliability_th:\n",
    "                stop = 1\n",
    "                crit_dist.append(h_dist)\n",
    "max_crit_dist = np.max(crit_dist)"
   ]
  },
  {
   "cell_type": "markdown",
   "metadata": {},
   "source": [
    "## Load Training Dataset"
   ]
  },
  {
   "cell_type": "code",
   "execution_count": 3,
   "metadata": {},
   "outputs": [
    {
     "name": "stdout",
     "output_type": "stream",
     "text": [
      "INFO: Pandarallel will run on 20 workers.\n",
      "INFO: Pandarallel will use Memory file system to transfer data between the main process and workers.\n"
     ]
    },
    {
     "name": "stderr",
     "output_type": "stream",
     "text": [
      "100%|██████████| 1152/1152 [00:06<00:00, 180.06it/s]\n"
     ]
    }
   ],
   "source": [
    "# FOR MULTIPLE SCENARIOS\n",
    "DATASET_PATH = \"/media/research-student/One Touch/FANET Datasets/DJISpark_Measured_Throughput_10000Samples/data_processed\" \n",
    "LINK = \"Downlink\"\n",
    "pandarallel.initialize(progress_bar=False)\n",
    "throughput_df = get_measured_throughput(DATASET_PATH, LINK)\n",
    "\n",
    "\"\"\"Filter scenario\"\"\"\n",
    "# Filter by UAV sending interval and MCS\n",
    "throughput_df = throughput_df.loc[(throughput_df[\"UAV_Sending_Interval\"]==uav_send_int) & (throughput_df[\"MCS_Index\"]==mcs_index)]\n",
    "\n",
    "# For each height, get the data up to the critical distance\n",
    "df = []\n",
    "for h, cd in zip(heights, crit_dist):\n",
    "    tmp_df = throughput_df.loc[(throughput_df[\"Height\"]==h) & (throughput_df[\"Horizontal_Distance\"]<=cd)]\n",
    "    if not tmp_df.empty:\n",
    "        df.append(tmp_df)\n",
    "throughput_df = pd.concat(df)\n",
    "\n",
    "# Get SNR and normalize data\n",
    "throughput_df[['Mean_SINR',\"Std_Dev_SINR\"]] = throughput_df.parallel_apply(lambda row: sinr_lognormal_approx(row['Horizontal_Distance'],row['Height']),axis=1,result_type='expand')\n",
    "throughput_df = normalize_data(throughput_df, columns=[\"Horizontal_Distance\", \"Mean_SINR\", \"Std_Dev_SINR\", \"UAV_Sending_Interval\", \"MCS_Index\", \"UAV_Speed\", \"Throughput\"], link=LINK)              \n",
    "\n",
    "# Get only inputs  for model\n",
    "# X_train = throughput_df[[\"Mean_SINR\", \"Std_Dev_SINR\", \"UAV_Sending_Interval\", \"MCS_Index\", \"UAV_Speed\", \"Throughput\"]].values\n",
    "# X_train = throughput_df[[\"Mean_SINR\", \"Std_Dev_SINR\", \"UAV_Speed\", \"Throughput\"]].values\n",
    "X_train = throughput_df[[\"Mean_SINR\", \"Std_Dev_SINR\", \"Throughput\"]].values\n"
   ]
  },
  {
   "cell_type": "markdown",
   "metadata": {},
   "source": [
    "## Load Test Dataset"
   ]
  },
  {
   "cell_type": "code",
   "execution_count": 12,
   "metadata": {},
   "outputs": [
    {
     "name": "stderr",
     "output_type": "stream",
     "text": [
      "100%|██████████| 1/1 [00:00<00:00, 66.49it/s]"
     ]
    },
    {
     "name": "stdout",
     "output_type": "stream",
     "text": [
      "1/1 [==============================] - 0s 35ms/step\n",
      "1/1 [==============================] - 0s 36ms/step\n"
     ]
    },
    {
     "name": "stderr",
     "output_type": "stream",
     "text": [
      "\n"
     ]
    },
    {
     "name": "stdout",
     "output_type": "stream",
     "text": [
      "1/1 [==============================] - 0s 34ms/step\n",
      "1/1 [==============================] - 0s 35ms/step\n",
      "1/1 [==============================] - 0s 34ms/step\n",
      "1/1 [==============================] - 0s 33ms/step\n",
      "1/1 [==============================] - 0s 35ms/step\n",
      "1/1 [==============================] - 0s 32ms/step\n",
      "1/1 [==============================] - 0s 35ms/step\n",
      "1/1 [==============================] - 0s 35ms/step\n",
      "1/1 [==============================] - 0s 32ms/step\n",
      "1/1 [==============================] - 0s 34ms/step\n",
      "1/1 [==============================] - 0s 35ms/step\n",
      "1/1 [==============================] - 0s 34ms/step\n",
      "1/1 [==============================] - 0s 35ms/step\n",
      "1/1 [==============================] - 0s 36ms/step\n",
      "1/1 [==============================] - 0s 35ms/step\n",
      "1/1 [==============================] - 0s 37ms/step\n",
      "1/1 [==============================] - 0s 35ms/step\n",
      "1/1 [==============================] - 0s 38ms/step\n",
      "1/1 [==============================] - 0s 35ms/step\n",
      "1/1 [==============================] - 0s 36ms/step\n",
      "1/1 [==============================] - 0s 33ms/step\n",
      "1/1 [==============================] - 0s 33ms/step\n",
      "1/1 [==============================] - 0s 35ms/step\n",
      "1/1 [==============================] - 0s 34ms/step\n",
      "1/1 [==============================] - 0s 34ms/step\n",
      "1/1 [==============================] - 0s 37ms/step\n",
      "1/1 [==============================] - 0s 33ms/step\n",
      "1/1 [==============================] - 0s 32ms/step\n",
      "1/1 [==============================] - 0s 32ms/step\n",
      "1/1 [==============================] - 0s 34ms/step\n",
      "1/1 [==============================] - 0s 32ms/step\n",
      "1/1 [==============================] - 0s 35ms/step\n",
      "1/1 [==============================] - 0s 37ms/step\n",
      "1/1 [==============================] - 0s 33ms/step\n",
      "1/1 [==============================] - 0s 35ms/step\n",
      "1/1 [==============================] - 0s 35ms/step\n",
      "1/1 [==============================] - 0s 32ms/step\n",
      "1/1 [==============================] - 0s 34ms/step\n",
      "1/1 [==============================] - 0s 32ms/step\n",
      "1/1 [==============================] - 0s 35ms/step\n",
      "1/1 [==============================] - 0s 32ms/step\n",
      "1/1 [==============================] - 0s 33ms/step\n",
      "1/1 [==============================] - 0s 36ms/step\n",
      "1/1 [==============================] - 0s 36ms/step\n"
     ]
    }
   ],
   "source": [
    "# DATASET_PATH = \"/media/research-student/One Touch/FANET Datasets/Test_Dataset_DJISpark_Throughput_Taguchi_v1/data_processed/UAVSpeed-6_BitRate-13_Height-225_Distance-1200_Modulation-QPSK_UAVSendingInterval-100\" \n",
    "# DATASET_PATH = \"/media/research-student/One Touch/FANET Datasets/Test_Dataset_Anomaly_AllType_DJISpark_Throughput/data_processed/UAVSpeed-12_BitRate-13_Height-225_InterferenceDistance-1000_Modulation-QPSK_UAVSendingInterval-100_UAVGCSInterfererDist-1000\"\n",
    "DATASET_PATH = \"/media/research-student/One Touch/FANET Datasets/Test_Dataset_Anomaly_Manet_DJISpark_Throughput/data_processed/UAVSpeed-6_BitRate-13_Height-225_Distance-1200_Modulation-QPSK_UAVSendingInterval-100_MANETNumNode-200\" \n",
    "LINK = \"Downlink\"\n",
    "\n",
    "throughput_test_df = get_measured_throughput(DATASET_PATH, LINK, single_path=True)\n",
    "\n",
    "# # Filter scenario\n",
    "throughput_test_df = throughput_test_df.loc[(throughput_test_df[\"UAV_Sending_Interval\"]==uav_send_int) & (throughput_test_df[\"MCS_Index\"]==mcs_index)]\n",
    "throughput_test_df[\"UAV_Speed\"] = 12\n",
    "# Find crit distance and filter DF\n",
    "test_horizontal_dist = np.linspace(0, 1200, 121, endpoint=True)\n",
    "test_height = throughput_test_df[\"Height\"].values[0]\n",
    "stop = 0\n",
    "for h_dist in test_horizontal_dist:\n",
    "    if stop == 0:\n",
    "        m, s = sinr_lognormal_approx(h_dist, test_height)\n",
    "        m = 2*(10*math.log10(m)-min_mean_sinr)/(max_mean_sinr-min_mean_sinr) - 1\n",
    "        s = 2*(10*math.log10(s)-min_std_dev_sinr)/(max_std_dev_sinr-min_std_dev_sinr) - 1\n",
    "        predicted_reliability = dl_model.predict([[m, s, uav_send_int_norm[uav_send_int], norm_MCS(mcs_index)]])[0][0]\n",
    "        if predicted_reliability < reliability_th:\n",
    "            stop = 1\n",
    "            crit_dist = h_dist\n",
    "throughput_test_df = throughput_test_df.loc[(throughput_test_df[\"Height\"]==test_height) & (throughput_test_df[\"Horizontal_Distance\"]<=crit_dist)]\n",
    "\n",
    "throughput_test_df[['Mean_SINR',\"Std_Dev_SINR\"]]= throughput_test_df.parallel_apply(lambda row: sinr_lognormal_approx(row['Horizontal_Distance'],row['Height']),axis=1,result_type='expand')\n",
    "throughput_test_df_norm = normalize_data(throughput_test_df, columns=[\"Horizontal_Distance\", \"Mean_SINR\", \"Std_Dev_SINR\", \"UAV_Sending_Interval\", \"MCS_Index\", \"UAV_Speed\", \"Throughput\"], link=LINK)              \n",
    "# Get only inputs  for model\n",
    "# X_test = throughput_test_df_norm[[\"Mean_SINR\", \"Std_Dev_SINR\", \"UAV_Sending_Interval\", \"MCS_Index\", \"UAV_Speed\", \"Throughput\"]].values\n",
    "# X_test = throughput_test_df_norm[[\"Mean_SINR\", \"Std_Dev_SINR\", \"UAV_Speed\", \"Throughput\"]].values\n",
    "X_test = throughput_test_df_norm[[\"Mean_SINR\", \"Std_Dev_SINR\", \"Throughput\"]].values"
   ]
  },
  {
   "cell_type": "markdown",
   "metadata": {},
   "source": [
    "## Train LOF on All Data"
   ]
  },
  {
   "cell_type": "code",
   "execution_count": 27,
   "metadata": {},
   "outputs": [
    {
     "data": {
      "text/html": [
       "<style>#sk-container-id-3 {color: black;background-color: white;}#sk-container-id-3 pre{padding: 0;}#sk-container-id-3 div.sk-toggleable {background-color: white;}#sk-container-id-3 label.sk-toggleable__label {cursor: pointer;display: block;width: 100%;margin-bottom: 0;padding: 0.3em;box-sizing: border-box;text-align: center;}#sk-container-id-3 label.sk-toggleable__label-arrow:before {content: \"▸\";float: left;margin-right: 0.25em;color: #696969;}#sk-container-id-3 label.sk-toggleable__label-arrow:hover:before {color: black;}#sk-container-id-3 div.sk-estimator:hover label.sk-toggleable__label-arrow:before {color: black;}#sk-container-id-3 div.sk-toggleable__content {max-height: 0;max-width: 0;overflow: hidden;text-align: left;background-color: #f0f8ff;}#sk-container-id-3 div.sk-toggleable__content pre {margin: 0.2em;color: black;border-radius: 0.25em;background-color: #f0f8ff;}#sk-container-id-3 input.sk-toggleable__control:checked~div.sk-toggleable__content {max-height: 200px;max-width: 100%;overflow: auto;}#sk-container-id-3 input.sk-toggleable__control:checked~label.sk-toggleable__label-arrow:before {content: \"▾\";}#sk-container-id-3 div.sk-estimator input.sk-toggleable__control:checked~label.sk-toggleable__label {background-color: #d4ebff;}#sk-container-id-3 div.sk-label input.sk-toggleable__control:checked~label.sk-toggleable__label {background-color: #d4ebff;}#sk-container-id-3 input.sk-hidden--visually {border: 0;clip: rect(1px 1px 1px 1px);clip: rect(1px, 1px, 1px, 1px);height: 1px;margin: -1px;overflow: hidden;padding: 0;position: absolute;width: 1px;}#sk-container-id-3 div.sk-estimator {font-family: monospace;background-color: #f0f8ff;border: 1px dotted black;border-radius: 0.25em;box-sizing: border-box;margin-bottom: 0.5em;}#sk-container-id-3 div.sk-estimator:hover {background-color: #d4ebff;}#sk-container-id-3 div.sk-parallel-item::after {content: \"\";width: 100%;border-bottom: 1px solid gray;flex-grow: 1;}#sk-container-id-3 div.sk-label:hover label.sk-toggleable__label {background-color: #d4ebff;}#sk-container-id-3 div.sk-serial::before {content: \"\";position: absolute;border-left: 1px solid gray;box-sizing: border-box;top: 0;bottom: 0;left: 50%;z-index: 0;}#sk-container-id-3 div.sk-serial {display: flex;flex-direction: column;align-items: center;background-color: white;padding-right: 0.2em;padding-left: 0.2em;position: relative;}#sk-container-id-3 div.sk-item {position: relative;z-index: 1;}#sk-container-id-3 div.sk-parallel {display: flex;align-items: stretch;justify-content: center;background-color: white;position: relative;}#sk-container-id-3 div.sk-item::before, #sk-container-id-3 div.sk-parallel-item::before {content: \"\";position: absolute;border-left: 1px solid gray;box-sizing: border-box;top: 0;bottom: 0;left: 50%;z-index: -1;}#sk-container-id-3 div.sk-parallel-item {display: flex;flex-direction: column;z-index: 1;position: relative;background-color: white;}#sk-container-id-3 div.sk-parallel-item:first-child::after {align-self: flex-end;width: 50%;}#sk-container-id-3 div.sk-parallel-item:last-child::after {align-self: flex-start;width: 50%;}#sk-container-id-3 div.sk-parallel-item:only-child::after {width: 0;}#sk-container-id-3 div.sk-dashed-wrapped {border: 1px dashed gray;margin: 0 0.4em 0.5em 0.4em;box-sizing: border-box;padding-bottom: 0.4em;background-color: white;}#sk-container-id-3 div.sk-label label {font-family: monospace;font-weight: bold;display: inline-block;line-height: 1.2em;}#sk-container-id-3 div.sk-label-container {text-align: center;}#sk-container-id-3 div.sk-container {/* jupyter's `normalize.less` sets `[hidden] { display: none; }` but bootstrap.min.css set `[hidden] { display: none !important; }` so we also need the `!important` here to be able to override the default hidden behavior on the sphinx rendered scikit-learn.org. See: https://github.com/scikit-learn/scikit-learn/issues/21755 */display: inline-block !important;position: relative;}#sk-container-id-3 div.sk-text-repr-fallback {display: none;}</style><div id=\"sk-container-id-3\" class=\"sk-top-container\"><div class=\"sk-text-repr-fallback\"><pre>LocalOutlierFactor(n_jobs=20, novelty=True)</pre><b>In a Jupyter environment, please rerun this cell to show the HTML representation or trust the notebook. <br />On GitHub, the HTML representation is unable to render, please try loading this page with nbviewer.org.</b></div><div class=\"sk-container\" hidden><div class=\"sk-item\"><div class=\"sk-estimator sk-toggleable\"><input class=\"sk-toggleable__control sk-hidden--visually\" id=\"sk-estimator-id-3\" type=\"checkbox\" checked><label for=\"sk-estimator-id-3\" class=\"sk-toggleable__label sk-toggleable__label-arrow\">LocalOutlierFactor</label><div class=\"sk-toggleable__content\"><pre>LocalOutlierFactor(n_jobs=20, novelty=True)</pre></div></div></div></div></div>"
      ],
      "text/plain": [
       "LocalOutlierFactor(n_jobs=20, novelty=True)"
      ]
     },
     "execution_count": 27,
     "metadata": {},
     "output_type": "execute_result"
    }
   ],
   "source": [
    "from sklearn.neighbors import LocalOutlierFactor\n",
    "\n",
    "model = LocalOutlierFactor(n_neighbors=20, novelty=True, n_jobs=20)\n",
    "model.fit(X_train)"
   ]
  },
  {
   "cell_type": "code",
   "execution_count": 26,
   "metadata": {},
   "outputs": [
    {
     "data": {
      "text/plain": [
       "array([-1.04348634, -1.03040672, -1.02140771, ..., -1.27350619,\n",
       "       -1.21978061, -1.1942439 ])"
      ]
     },
     "execution_count": 26,
     "metadata": {},
     "output_type": "execute_result"
    }
   ],
   "source": [
    "X_scores = model.negative_outlier_factor_\n",
    "X_scores"
   ]
  },
  {
   "cell_type": "code",
   "execution_count": 199,
   "metadata": {},
   "outputs": [
    {
     "data": {
      "text/plain": [
       "['lof/djispark_lof_main_dl.joblib']"
      ]
     },
     "execution_count": 199,
     "metadata": {},
     "output_type": "execute_result"
    }
   ],
   "source": [
    "from joblib import dump, load\n",
    "dump(model, 'lof/djispark_lof_main_dl.joblib') "
   ]
  },
  {
   "cell_type": "markdown",
   "metadata": {},
   "source": [
    "## Train One Class SVM"
   ]
  },
  {
   "cell_type": "code",
   "execution_count": 5,
   "metadata": {},
   "outputs": [
    {
     "data": {
      "text/html": [
       "<style>#sk-container-id-1 {color: black;background-color: white;}#sk-container-id-1 pre{padding: 0;}#sk-container-id-1 div.sk-toggleable {background-color: white;}#sk-container-id-1 label.sk-toggleable__label {cursor: pointer;display: block;width: 100%;margin-bottom: 0;padding: 0.3em;box-sizing: border-box;text-align: center;}#sk-container-id-1 label.sk-toggleable__label-arrow:before {content: \"▸\";float: left;margin-right: 0.25em;color: #696969;}#sk-container-id-1 label.sk-toggleable__label-arrow:hover:before {color: black;}#sk-container-id-1 div.sk-estimator:hover label.sk-toggleable__label-arrow:before {color: black;}#sk-container-id-1 div.sk-toggleable__content {max-height: 0;max-width: 0;overflow: hidden;text-align: left;background-color: #f0f8ff;}#sk-container-id-1 div.sk-toggleable__content pre {margin: 0.2em;color: black;border-radius: 0.25em;background-color: #f0f8ff;}#sk-container-id-1 input.sk-toggleable__control:checked~div.sk-toggleable__content {max-height: 200px;max-width: 100%;overflow: auto;}#sk-container-id-1 input.sk-toggleable__control:checked~label.sk-toggleable__label-arrow:before {content: \"▾\";}#sk-container-id-1 div.sk-estimator input.sk-toggleable__control:checked~label.sk-toggleable__label {background-color: #d4ebff;}#sk-container-id-1 div.sk-label input.sk-toggleable__control:checked~label.sk-toggleable__label {background-color: #d4ebff;}#sk-container-id-1 input.sk-hidden--visually {border: 0;clip: rect(1px 1px 1px 1px);clip: rect(1px, 1px, 1px, 1px);height: 1px;margin: -1px;overflow: hidden;padding: 0;position: absolute;width: 1px;}#sk-container-id-1 div.sk-estimator {font-family: monospace;background-color: #f0f8ff;border: 1px dotted black;border-radius: 0.25em;box-sizing: border-box;margin-bottom: 0.5em;}#sk-container-id-1 div.sk-estimator:hover {background-color: #d4ebff;}#sk-container-id-1 div.sk-parallel-item::after {content: \"\";width: 100%;border-bottom: 1px solid gray;flex-grow: 1;}#sk-container-id-1 div.sk-label:hover label.sk-toggleable__label {background-color: #d4ebff;}#sk-container-id-1 div.sk-serial::before {content: \"\";position: absolute;border-left: 1px solid gray;box-sizing: border-box;top: 0;bottom: 0;left: 50%;z-index: 0;}#sk-container-id-1 div.sk-serial {display: flex;flex-direction: column;align-items: center;background-color: white;padding-right: 0.2em;padding-left: 0.2em;position: relative;}#sk-container-id-1 div.sk-item {position: relative;z-index: 1;}#sk-container-id-1 div.sk-parallel {display: flex;align-items: stretch;justify-content: center;background-color: white;position: relative;}#sk-container-id-1 div.sk-item::before, #sk-container-id-1 div.sk-parallel-item::before {content: \"\";position: absolute;border-left: 1px solid gray;box-sizing: border-box;top: 0;bottom: 0;left: 50%;z-index: -1;}#sk-container-id-1 div.sk-parallel-item {display: flex;flex-direction: column;z-index: 1;position: relative;background-color: white;}#sk-container-id-1 div.sk-parallel-item:first-child::after {align-self: flex-end;width: 50%;}#sk-container-id-1 div.sk-parallel-item:last-child::after {align-self: flex-start;width: 50%;}#sk-container-id-1 div.sk-parallel-item:only-child::after {width: 0;}#sk-container-id-1 div.sk-dashed-wrapped {border: 1px dashed gray;margin: 0 0.4em 0.5em 0.4em;box-sizing: border-box;padding-bottom: 0.4em;background-color: white;}#sk-container-id-1 div.sk-label label {font-family: monospace;font-weight: bold;display: inline-block;line-height: 1.2em;}#sk-container-id-1 div.sk-label-container {text-align: center;}#sk-container-id-1 div.sk-container {/* jupyter's `normalize.less` sets `[hidden] { display: none; }` but bootstrap.min.css set `[hidden] { display: none !important; }` so we also need the `!important` here to be able to override the default hidden behavior on the sphinx rendered scikit-learn.org. See: https://github.com/scikit-learn/scikit-learn/issues/21755 */display: inline-block !important;position: relative;}#sk-container-id-1 div.sk-text-repr-fallback {display: none;}</style><div id=\"sk-container-id-1\" class=\"sk-top-container\"><div class=\"sk-text-repr-fallback\"><pre>OneClassSVM(gamma=5, nu=1e-05)</pre><b>In a Jupyter environment, please rerun this cell to show the HTML representation or trust the notebook. <br />On GitHub, the HTML representation is unable to render, please try loading this page with nbviewer.org.</b></div><div class=\"sk-container\" hidden><div class=\"sk-item\"><div class=\"sk-estimator sk-toggleable\"><input class=\"sk-toggleable__control sk-hidden--visually\" id=\"sk-estimator-id-1\" type=\"checkbox\" checked><label for=\"sk-estimator-id-1\" class=\"sk-toggleable__label sk-toggleable__label-arrow\">OneClassSVM</label><div class=\"sk-toggleable__content\"><pre>OneClassSVM(gamma=5, nu=1e-05)</pre></div></div></div></div></div>"
      ],
      "text/plain": [
       "OneClassSVM(gamma=5, nu=1e-05)"
      ]
     },
     "execution_count": 5,
     "metadata": {},
     "output_type": "execute_result"
    }
   ],
   "source": [
    "from sklearn.svm import OneClassSVM\n",
    "\n",
    "model = OneClassSVM(kernel='rbf', nu=1e-5, gamma=5)\n",
    "\n",
    "model.fit(X_train)"
   ]
  },
  {
   "cell_type": "markdown",
   "metadata": {},
   "source": [
    "## Test ML Novelty Detection Model"
   ]
  },
  {
   "cell_type": "code",
   "execution_count": 42,
   "metadata": {},
   "outputs": [],
   "source": [
    "model.offset_ = -1.6"
   ]
  },
  {
   "cell_type": "code",
   "execution_count": 13,
   "metadata": {},
   "outputs": [
    {
     "data": {
      "text/plain": [
       "<matplotlib.legend.Legend at 0x7f05c4dc3460>"
      ]
     },
     "execution_count": 13,
     "metadata": {},
     "output_type": "execute_result"
    },
    {
     "data": {
      "image/png": "[encoded data removed]",
      "text/plain": [
       "<Figure size 640x480 with 1 Axes>"
      ]
     },
     "metadata": {},
     "output_type": "display_data"
    }
   ],
   "source": [
    "# test_data = pd.DataFrame([{\"Horizontal_Distance\": 500, \"Height\": 285, \"UAV_Sending_Interval\": 20, \n",
    "#                             \"MCS_Index\": 3, \"UAV_Speed\": 6, \"Throughput\": 10000}])\n",
    "# # test_data[['Mean_SINR',\"Std_Dev_SINR\"]]= test_data.apply(lambda row: sinr_lognormal_approx(row['Horizontal_Distance'],row['Height']),axis=1,result_type='expand')\n",
    "# test_data = normalize_data(test_data, columns=[\"Horizontal_Distance\", \"UAV_Sending_Interval\", \"MCS_Index\", \"UAV_Speed\", \"Throughput\"], link=LINK) \n",
    "\n",
    "# Using horizontal distance and throughput only\n",
    "# xx, yy = np.meshgrid(np.linspace(-1, 1, 100), np.linspace(-1, 1, 100))\n",
    "# Z = model.predict(np.c_[xx.ravel(), yy.ravel()])\n",
    "\n",
    "# Using mean and std dev of SINR\n",
    "max_mean_sinr = 10*math.log10(1123) # The max mean SINR calculated at (0,60) is 1122.743643457063 (linear)\n",
    "max_std_dev_sinr = 10*math.log10(466) # The max std dev SINR calculated at (0,60) is 465.2159856885714 (linear)\n",
    "min_mean_sinr = 10*math.log10(0.2) # The min mean SINR calculated at (1200,60) is 0.2251212887895188 (linear)\n",
    "min_std_dev_sinr = 10*math.log10(0.7) # The min std dev SINR calculated at (1200,300) is 0.7160093126585219 (linear)\n",
    "max_h_dist = 1200\n",
    "min_h_dist = 0\n",
    "if LINK == \"Downlink\":\n",
    "    max_throughput = 16000 # Max measured throughput for DJI Spark Downlink is 15968 bytes/sec\n",
    "elif LINK == \"Uplink\":\n",
    "    max_throughput = 565000 # Max measured throughput for DJI Spark Uplink is 564990 bytes/sec\n",
    "elif LINK == \"Video\":\n",
    "    max_throughput = 300000 # Max measured throughput for DJI Spark Video Link is 298700 bytes/sec\n",
    "min_throughput = 0\n",
    "\n",
    "xx, yy = np.meshgrid(np.linspace(min_h_dist, max_h_dist, 121), np.linspace(min_throughput, max_throughput, 100))\n",
    "yy_norm = 2*yy/max_throughput - 1\n",
    "mean_sinr = []\n",
    "std_dev_sinr = []\n",
    "height = throughput_test_df_norm[\"Height\"].values[0]\n",
    "usi = throughput_test_df_norm[\"UAV_Sending_Interval\"].values[0]\n",
    "mcs = throughput_test_df_norm[\"MCS_Index\"].values[0]\n",
    "speed = throughput_test_df_norm[\"UAV_Speed\"].values[0]\n",
    "for x in xx.ravel():\n",
    "    m, s = sinr_lognormal_approx(x, height)\n",
    "    m = 2*(10*math.log10(m)-min_mean_sinr)/(max_mean_sinr-min_mean_sinr) - 1\n",
    "    s = 2*(10*math.log10(s)-min_std_dev_sinr)/(max_std_dev_sinr-min_std_dev_sinr) - 1\n",
    "    mean_sinr.append(m)\n",
    "    std_dev_sinr.append(s)\n",
    "# Get contour for model_1\n",
    "# Z1 = model.predict(np.c_[mean_sinr, std_dev_sinr, np.ones(len(mean_sinr))*usi, np.ones(len(mean_sinr))*mcs, np.ones(len(mean_sinr))*speed, yy_norm.ravel()])\n",
    "# Z1 = model.predict(np.c_[mean_sinr, std_dev_sinr, np.ones(len(mean_sinr))*speed, yy_norm.ravel()])\n",
    "Z1 = model.predict(np.c_[mean_sinr, std_dev_sinr, yy_norm.ravel()])\n",
    "Z1 = Z1.reshape(xx.shape)\n",
    "plt.contour(xx, yy, Z1, levels=[0], linewidths=2, colors=\"black\")\n",
    "\n",
    "y_pred_1 = model.predict(X_test)\n",
    "colors = np.array([\"#377eb8\", \"#ff7f00\"])\n",
    "plt.scatter(throughput_test_df[\"Horizontal_Distance\"].values, throughput_test_df[\"Throughput\"].values, s=10, color=colors[(y_pred_1 + 1) // 2], label=\"_nolegend_\")\n",
    "plt.plot([0], [0], color='k')\n",
    "plt.scatter([0], [0], s=10, color='#ff7f00')\n",
    "plt.scatter([0], [0], s=10, color='#377eb8')\n",
    "plt.xlabel(\"Horizontal_Distance\")\n",
    "plt.ylabel(\"Throughput (bytes/s)\")\n",
    "plt.legend([\"Predicted Normal Region\", \"Predicted Normal Data\", \"Predicted Anomalous Data\"], loc='center right')"
   ]
  },
  {
   "cell_type": "markdown",
   "metadata": {},
   "source": [
    "## Plot Local Outlier Detection Scores of Predictions"
   ]
  },
  {
   "cell_type": "code",
   "execution_count": null,
   "metadata": {},
   "outputs": [],
   "source": [
    "from sklearn.neighbors import LocalOutlierFactor\n",
    "\n",
    "# First, make sure to train the LOF using training data\n",
    "lof_model = LocalOutlierFactor(n_neighbors=20, novelty=True, n_jobs=20)\n",
    "lof_model.fit(X_train)\n",
    "\n",
    "# Load testing data\n",
    "DATASET_PATH = \"/media/research-student/One Touch/FANET Datasets/Test_Dataset_Anomaly_AllType_DJISpark_Throughput/data_processed/\"\n",
    "LINK = \"Downlink\"\n",
    "\n",
    "throughput_test_df = get_measured_throughput(DATASET_PATH, LINK, single_path=False)\n",
    "throughput_test_df[\"UAV_Speed\"] = 12\n",
    "\n",
    "# Find crit distance and filter DF\n",
    "test_horizontal_dist = np.linspace(0, 1200, 121, endpoint=True)\n",
    "test_height = throughput_test_df[\"Height\"].values[0]\n",
    "stop = 0\n",
    "for h_dist in test_horizontal_dist:\n",
    "    if stop == 0:\n",
    "        m, s = sinr_lognormal_approx(h_dist, test_height)\n",
    "        m = 2*(10*math.log10(m)-min_mean_sinr)/(max_mean_sinr-min_mean_sinr) - 1\n",
    "        s = 2*(10*math.log10(s)-min_std_dev_sinr)/(max_std_dev_sinr-min_std_dev_sinr) - 1\n",
    "        predicted_reliability = dl_model.predict([[m, s, uav_send_int_norm[uav_send_int], norm_MCS(mcs_index)]])[0][0]\n",
    "        if predicted_reliability < reliability_th:\n",
    "            stop = 1\n",
    "            crit_dist = h_dist\n",
    "throughput_test_df = throughput_test_df.loc[(throughput_test_df[\"Height\"]==test_height) & (throughput_test_df[\"Horizontal_Distance\"]<=crit_dist)]\n",
    "\n",
    "throughput_test_df[['Mean_SINR',\"Std_Dev_SINR\"]]= throughput_test_df.parallel_apply(lambda row: sinr_lognormal_approx(row['Horizontal_Distance'],row['Height']),axis=1,result_type='expand')\n",
    "throughput_test_df_norm = normalize_data(throughput_test_df, columns=[\"Horizontal_Distance\", \"Mean_SINR\", \"Std_Dev_SINR\", \"UAV_Sending_Interval\", \"MCS_Index\", \"UAV_Speed\", \"Throughput\"], link=LINK)              \n",
    "# Get only inputs  for model\n",
    "X_test = throughput_test_df_norm[[\"Mean_SINR\", \"Std_Dev_SINR\", \"UAV_Sending_Interval\", \"MCS_Index\", \"UAV_Speed\", \"Throughput\"]].values\n",
    "\n",
    "# Get the anomaly predictions and LOF scores\n",
    "y_pred = model.predict(X_test)\n",
    "lof_scores = lof_model.score_samples(X_test)\n",
    "colors = np.array([\"#377eb8\", \"#ff7f00\"])\n",
    "plt.scatter(throughput_test_df[\"Horizontal_Distance\"].values, -lof_scores, s=10, color=colors[(y_pred + 1) // 2], label=\"_nolegend_\")\n",
    "plt.xlabel(\"Horizontal_Distance\")\n",
    "plt.ylabel(\"Local Outlier Factor\")\n"
   ]
  },
  {
   "cell_type": "markdown",
   "metadata": {},
   "source": [
    "# Waypoint Control Mode"
   ]
  },
  {
   "cell_type": "markdown",
   "metadata": {},
   "source": [
    "## Load Training Data"
   ]
  },
  {
   "cell_type": "code",
   "execution_count": 133,
   "metadata": {},
   "outputs": [
    {
     "name": "stdout",
     "output_type": "stream",
     "text": [
      "INFO: Pandarallel will run on 20 workers.\n",
      "INFO: Pandarallel will use Memory file system to transfer data between the main process and workers.\n"
     ]
    },
    {
     "name": "stderr",
     "output_type": "stream",
     "text": [
      "100%|██████████| 1/1 [00:00<00:00, 40.83it/s]\n"
     ]
    }
   ],
   "source": [
    "pandarallel.initialize(progress_bar=False)\n",
    "# FOR SINGLE SCENARIO\n",
    "DATASET_PATH = \"/media/research-student/One Touch/FANET Datasets/DJISpark_Measured_Throughput_10000Samples/temp_plot/UAVSpeed-6_BitRate-6.5_Height-270_Distance-1200_Modulation-BPSK_UAVSendingInterval-1000/\" \n",
    "LINK = \"Uplink\"\n",
    "throughput_df = get_measured_throughput(DATASET_PATH, LINK, single_path=True)\n",
    "\n",
    "\"\"\"Filter scenario\"\"\"\n",
    "reliability_threshold = 0.99\n",
    "throughput_df = throughput_df.loc[(throughput_df[\"Measured_Reliability\"]>=reliability_threshold)]\n",
    "\n",
    "# Get SNR and normalize data\n",
    "throughput_df[['Mean_SINR',\"Std_Dev_SINR\"]] = throughput_df.parallel_apply(lambda row: sinr_lognormal_approx(row['Horizontal_Distance'],row['Height']),axis=1,result_type='expand')\n",
    "throughput_df = normalize_data(throughput_df, columns=[\"Mean_SINR\", \"Std_Dev_SINR\"], link=LINK)              \n",
    "throughput_scaler = RobustScaler().fit(throughput_df[\"Throughput\"].to_numpy().reshape(-1, 1))\n",
    "throughput_df[\"Throughput_Norm\"] = throughput_scaler.transform(throughput_df[\"Throughput\"].to_numpy().reshape(-1, 1))\n",
    "\n",
    "# Get only inputs  for model\n",
    "X_train = throughput_df[[\"Mean_SINR\", \"Std_Dev_SINR\", \"Throughput_Norm\"]].values\n"
   ]
  },
  {
   "cell_type": "markdown",
   "metadata": {},
   "source": [
    "## Train One Class SVM"
   ]
  },
  {
   "cell_type": "code",
   "execution_count": 121,
   "metadata": {},
   "outputs": [
    {
     "data": {
      "text/html": [
       "<style>#sk-container-id-32 {color: black;}#sk-container-id-32 pre{padding: 0;}#sk-container-id-32 div.sk-toggleable {background-color: white;}#sk-container-id-32 label.sk-toggleable__label {cursor: pointer;display: block;width: 100%;margin-bottom: 0;padding: 0.3em;box-sizing: border-box;text-align: center;}#sk-container-id-32 label.sk-toggleable__label-arrow:before {content: \"▸\";float: left;margin-right: 0.25em;color: #696969;}#sk-container-id-32 label.sk-toggleable__label-arrow:hover:before {color: black;}#sk-container-id-32 div.sk-estimator:hover label.sk-toggleable__label-arrow:before {color: black;}#sk-container-id-32 div.sk-toggleable__content {max-height: 0;max-width: 0;overflow: hidden;text-align: left;background-color: #f0f8ff;}#sk-container-id-32 div.sk-toggleable__content pre {margin: 0.2em;color: black;border-radius: 0.25em;background-color: #f0f8ff;}#sk-container-id-32 input.sk-toggleable__control:checked~div.sk-toggleable__content {max-height: 200px;max-width: 100%;overflow: auto;}#sk-container-id-32 input.sk-toggleable__control:checked~label.sk-toggleable__label-arrow:before {content: \"▾\";}#sk-container-id-32 div.sk-estimator input.sk-toggleable__control:checked~label.sk-toggleable__label {background-color: #d4ebff;}#sk-container-id-32 div.sk-label input.sk-toggleable__control:checked~label.sk-toggleable__label {background-color: #d4ebff;}#sk-container-id-32 input.sk-hidden--visually {border: 0;clip: rect(1px 1px 1px 1px);clip: rect(1px, 1px, 1px, 1px);height: 1px;margin: -1px;overflow: hidden;padding: 0;position: absolute;width: 1px;}#sk-container-id-32 div.sk-estimator {font-family: monospace;background-color: #f0f8ff;border: 1px dotted black;border-radius: 0.25em;box-sizing: border-box;margin-bottom: 0.5em;}#sk-container-id-32 div.sk-estimator:hover {background-color: #d4ebff;}#sk-container-id-32 div.sk-parallel-item::after {content: \"\";width: 100%;border-bottom: 1px solid gray;flex-grow: 1;}#sk-container-id-32 div.sk-label:hover label.sk-toggleable__label {background-color: #d4ebff;}#sk-container-id-32 div.sk-serial::before {content: \"\";position: absolute;border-left: 1px solid gray;box-sizing: border-box;top: 0;bottom: 0;left: 50%;z-index: 0;}#sk-container-id-32 div.sk-serial {display: flex;flex-direction: column;align-items: center;background-color: white;padding-right: 0.2em;padding-left: 0.2em;position: relative;}#sk-container-id-32 div.sk-item {position: relative;z-index: 1;}#sk-container-id-32 div.sk-parallel {display: flex;align-items: stretch;justify-content: center;background-color: white;position: relative;}#sk-container-id-32 div.sk-item::before, #sk-container-id-32 div.sk-parallel-item::before {content: \"\";position: absolute;border-left: 1px solid gray;box-sizing: border-box;top: 0;bottom: 0;left: 50%;z-index: -1;}#sk-container-id-32 div.sk-parallel-item {display: flex;flex-direction: column;z-index: 1;position: relative;background-color: white;}#sk-container-id-32 div.sk-parallel-item:first-child::after {align-self: flex-end;width: 50%;}#sk-container-id-32 div.sk-parallel-item:last-child::after {align-self: flex-start;width: 50%;}#sk-container-id-32 div.sk-parallel-item:only-child::after {width: 0;}#sk-container-id-32 div.sk-dashed-wrapped {border: 1px dashed gray;margin: 0 0.4em 0.5em 0.4em;box-sizing: border-box;padding-bottom: 0.4em;background-color: white;}#sk-container-id-32 div.sk-label label {font-family: monospace;font-weight: bold;display: inline-block;line-height: 1.2em;}#sk-container-id-32 div.sk-label-container {text-align: center;}#sk-container-id-32 div.sk-container {/* jupyter's `normalize.less` sets `[hidden] { display: none; }` but bootstrap.min.css set `[hidden] { display: none !important; }` so we also need the `!important` here to be able to override the default hidden behavior on the sphinx rendered scikit-learn.org. See: https://github.com/scikit-learn/scikit-learn/issues/21755 */display: inline-block !important;position: relative;}#sk-container-id-32 div.sk-text-repr-fallback {display: none;}</style><div id=\"sk-container-id-32\" class=\"sk-top-container\"><div class=\"sk-text-repr-fallback\"><pre>OneClassSVM(gamma=5, nu=0.001)</pre><b>In a Jupyter environment, please rerun this cell to show the HTML representation or trust the notebook. <br />On GitHub, the HTML representation is unable to render, please try loading this page with nbviewer.org.</b></div><div class=\"sk-container\" hidden><div class=\"sk-item\"><div class=\"sk-estimator sk-toggleable\"><input class=\"sk-toggleable__control sk-hidden--visually\" id=\"sk-estimator-id-32\" type=\"checkbox\" checked><label for=\"sk-estimator-id-32\" class=\"sk-toggleable__label sk-toggleable__label-arrow\">OneClassSVM</label><div class=\"sk-toggleable__content\"><pre>OneClassSVM(gamma=5, nu=0.001)</pre></div></div></div></div></div>"
      ],
      "text/plain": [
       "OneClassSVM(gamma=5, nu=0.001)"
      ]
     },
     "execution_count": 121,
     "metadata": {},
     "output_type": "execute_result"
    }
   ],
   "source": [
    "from sklearn.svm import OneClassSVM\n",
    "\n",
    "model = OneClassSVM(kernel='rbf', nu=1e-3, gamma=5)\n",
    "\n",
    "model.fit(X_train)"
   ]
  },
  {
   "cell_type": "markdown",
   "metadata": {},
   "source": [
    "## Plot learnt boundary"
   ]
  },
  {
   "cell_type": "code",
   "execution_count": 122,
   "metadata": {},
   "outputs": [
    {
     "data": {
      "text/plain": [
       "<matplotlib.collections.PathCollection at 0x7f951ebd56d0>"
      ]
     },
     "execution_count": 122,
     "metadata": {},
     "output_type": "execute_result"
    },
    {
     "data": {
      "image/png": "[encoded data removed]",
      "text/plain": [
       "<Figure size 640x480 with 1 Axes>"
      ]
     },
     "metadata": {},
     "output_type": "display_data"
    }
   ],
   "source": [
    "'''Plotting contour of model'''\n",
    "# Using mean and std dev of SINR\n",
    "max_mean_sinr = 10*math.log10(1123) # The max mean SINR calculated at (0,60) is 1122.743643457063 (linear)\n",
    "max_std_dev_sinr = 10*math.log10(466) # The max std dev SINR calculated at (0,60) is 465.2159856885714 (linear)\n",
    "min_mean_sinr = 10*math.log10(0.2) # The min mean SINR calculated at (1200,60) is 0.2251212887895188 (linear)\n",
    "min_std_dev_sinr = 10*math.log10(0.7) # The min std dev SINR calculated at (1200,300) is 0.7160093126585219 (linear)\n",
    "max_h_dist = 1200\n",
    "min_h_dist = 0\n",
    "max_throughput = throughput_df[\"Throughput\"].max()\n",
    "min_throughput = 0\n",
    "\n",
    "# yy_notnorm = np.linspace(min_throughput, max_throughput, 100)\n",
    "# yy_norm = throughput_scaler.transform(yy_notnorm.reshape(-1,1))\n",
    "xx, yy = np.meshgrid(np.linspace(min_h_dist, max_h_dist, 121), np.linspace(min_throughput, max_throughput, 100))\n",
    "yy_norm = throughput_scaler.transform(yy.reshape(-1,1))\n",
    "mean_sinr = []\n",
    "std_dev_sinr = []\n",
    "height = throughput_df[\"Height\"].values[0]\n",
    "for x in xx.ravel():\n",
    "    m, s = sinr_lognormal_approx(x, height)\n",
    "    m = 2*(10*math.log10(m)-min_mean_sinr)/(max_mean_sinr-min_mean_sinr) - 1\n",
    "    s = 2*(10*math.log10(s)-min_std_dev_sinr)/(max_std_dev_sinr-min_std_dev_sinr) - 1\n",
    "    mean_sinr.append(m)\n",
    "    std_dev_sinr.append(s)\n",
    "# Get contour for model\n",
    "Z1 = model.predict(np.c_[mean_sinr, std_dev_sinr, yy_norm])\n",
    "Z1 = Z1.reshape(xx.shape)\n",
    "plt.contour(xx, yy, Z1, levels=[0], linewidths=2, colors=\"black\")\n",
    "\n",
    "plt.scatter(throughput_df[\"Horizontal_Distance\"], throughput_df[\"Throughput\"], color=\"tab:orange\")"
   ]
  },
  {
   "cell_type": "markdown",
   "metadata": {},
   "source": [
    "# For Miscellaneous Plotting Purposes - 05/01/2024"
   ]
  },
  {
   "cell_type": "code",
   "execution_count": 135,
   "metadata": {},
   "outputs": [
    {
     "name": "stdout",
     "output_type": "stream",
     "text": [
      "INFO: Pandarallel will run on 20 workers.\n",
      "INFO: Pandarallel will use Memory file system to transfer data between the main process and workers.\n"
     ]
    },
    {
     "name": "stderr",
     "output_type": "stream",
     "text": [
      "100%|██████████| 1/1 [00:00<00:00, 80.68it/s]\n"
     ]
    }
   ],
   "source": [
    "pandarallel.initialize(progress_bar=False)\n",
    "# FOR SINGLE SCENARIO\n",
    "DATASET_PATH = \"/media/research-student/One Touch/FANET Datasets/DJISpark_Measured_Throughput_10000Samples/temp_plot_2/UAVSpeed-6_BitRate-13_Height-270_Distance-1200_Modulation-QPSK_UAVSendingInterval-100/\" \n",
    "LINK = \"Uplink\"\n",
    "throughput_df_2 = get_measured_throughput(DATASET_PATH, LINK, single_path=True)\n",
    "\n",
    "\"\"\"Filter scenario\"\"\"\n",
    "reliability_threshold = 0.99\n",
    "throughput_df_2 = throughput_df_2.loc[(throughput_df_2[\"Measured_Reliability\"]>=reliability_threshold)]\n",
    "\n",
    "# Get SNR and normalize data\n",
    "throughput_df_2[['Mean_SINR',\"Std_Dev_SINR\"]] = throughput_df_2.parallel_apply(lambda row: sinr_lognormal_approx(row['Horizontal_Distance'],row['Height']),axis=1,result_type='expand')\n",
    "throughput_df_2 = normalize_data(throughput_df_2, columns=[\"Mean_SINR\", \"Std_Dev_SINR\"], link=LINK)              \n",
    "throughput_scaler_2 = RobustScaler().fit(throughput_df_2[\"Throughput\"].to_numpy().reshape(-1, 1))\n",
    "throughput_df_2[\"Throughput_Norm\"] = throughput_scaler_2.transform(throughput_df_2[\"Throughput\"].to_numpy().reshape(-1, 1))\n",
    "\n",
    "# Get only inputs  for model\n",
    "X_train_2 = throughput_df_2[[\"Mean_SINR\", \"Std_Dev_SINR\", \"Throughput_Norm\"]].values"
   ]
  },
  {
   "cell_type": "code",
   "execution_count": 114,
   "metadata": {},
   "outputs": [
    {
     "data": {
      "text/html": [
       "<style>#sk-container-id-31 {color: black;}#sk-container-id-31 pre{padding: 0;}#sk-container-id-31 div.sk-toggleable {background-color: white;}#sk-container-id-31 label.sk-toggleable__label {cursor: pointer;display: block;width: 100%;margin-bottom: 0;padding: 0.3em;box-sizing: border-box;text-align: center;}#sk-container-id-31 label.sk-toggleable__label-arrow:before {content: \"▸\";float: left;margin-right: 0.25em;color: #696969;}#sk-container-id-31 label.sk-toggleable__label-arrow:hover:before {color: black;}#sk-container-id-31 div.sk-estimator:hover label.sk-toggleable__label-arrow:before {color: black;}#sk-container-id-31 div.sk-toggleable__content {max-height: 0;max-width: 0;overflow: hidden;text-align: left;background-color: #f0f8ff;}#sk-container-id-31 div.sk-toggleable__content pre {margin: 0.2em;color: black;border-radius: 0.25em;background-color: #f0f8ff;}#sk-container-id-31 input.sk-toggleable__control:checked~div.sk-toggleable__content {max-height: 200px;max-width: 100%;overflow: auto;}#sk-container-id-31 input.sk-toggleable__control:checked~label.sk-toggleable__label-arrow:before {content: \"▾\";}#sk-container-id-31 div.sk-estimator input.sk-toggleable__control:checked~label.sk-toggleable__label {background-color: #d4ebff;}#sk-container-id-31 div.sk-label input.sk-toggleable__control:checked~label.sk-toggleable__label {background-color: #d4ebff;}#sk-container-id-31 input.sk-hidden--visually {border: 0;clip: rect(1px 1px 1px 1px);clip: rect(1px, 1px, 1px, 1px);height: 1px;margin: -1px;overflow: hidden;padding: 0;position: absolute;width: 1px;}#sk-container-id-31 div.sk-estimator {font-family: monospace;background-color: #f0f8ff;border: 1px dotted black;border-radius: 0.25em;box-sizing: border-box;margin-bottom: 0.5em;}#sk-container-id-31 div.sk-estimator:hover {background-color: #d4ebff;}#sk-container-id-31 div.sk-parallel-item::after {content: \"\";width: 100%;border-bottom: 1px solid gray;flex-grow: 1;}#sk-container-id-31 div.sk-label:hover label.sk-toggleable__label {background-color: #d4ebff;}#sk-container-id-31 div.sk-serial::before {content: \"\";position: absolute;border-left: 1px solid gray;box-sizing: border-box;top: 0;bottom: 0;left: 50%;z-index: 0;}#sk-container-id-31 div.sk-serial {display: flex;flex-direction: column;align-items: center;background-color: white;padding-right: 0.2em;padding-left: 0.2em;position: relative;}#sk-container-id-31 div.sk-item {position: relative;z-index: 1;}#sk-container-id-31 div.sk-parallel {display: flex;align-items: stretch;justify-content: center;background-color: white;position: relative;}#sk-container-id-31 div.sk-item::before, #sk-container-id-31 div.sk-parallel-item::before {content: \"\";position: absolute;border-left: 1px solid gray;box-sizing: border-box;top: 0;bottom: 0;left: 50%;z-index: -1;}#sk-container-id-31 div.sk-parallel-item {display: flex;flex-direction: column;z-index: 1;position: relative;background-color: white;}#sk-container-id-31 div.sk-parallel-item:first-child::after {align-self: flex-end;width: 50%;}#sk-container-id-31 div.sk-parallel-item:last-child::after {align-self: flex-start;width: 50%;}#sk-container-id-31 div.sk-parallel-item:only-child::after {width: 0;}#sk-container-id-31 div.sk-dashed-wrapped {border: 1px dashed gray;margin: 0 0.4em 0.5em 0.4em;box-sizing: border-box;padding-bottom: 0.4em;background-color: white;}#sk-container-id-31 div.sk-label label {font-family: monospace;font-weight: bold;display: inline-block;line-height: 1.2em;}#sk-container-id-31 div.sk-label-container {text-align: center;}#sk-container-id-31 div.sk-container {/* jupyter's `normalize.less` sets `[hidden] { display: none; }` but bootstrap.min.css set `[hidden] { display: none !important; }` so we also need the `!important` here to be able to override the default hidden behavior on the sphinx rendered scikit-learn.org. See: https://github.com/scikit-learn/scikit-learn/issues/21755 */display: inline-block !important;position: relative;}#sk-container-id-31 div.sk-text-repr-fallback {display: none;}</style><div id=\"sk-container-id-31\" class=\"sk-top-container\"><div class=\"sk-text-repr-fallback\"><pre>OneClassSVM(gamma=3, nu=0.001)</pre><b>In a Jupyter environment, please rerun this cell to show the HTML representation or trust the notebook. <br />On GitHub, the HTML representation is unable to render, please try loading this page with nbviewer.org.</b></div><div class=\"sk-container\" hidden><div class=\"sk-item\"><div class=\"sk-estimator sk-toggleable\"><input class=\"sk-toggleable__control sk-hidden--visually\" id=\"sk-estimator-id-31\" type=\"checkbox\" checked><label for=\"sk-estimator-id-31\" class=\"sk-toggleable__label sk-toggleable__label-arrow\">OneClassSVM</label><div class=\"sk-toggleable__content\"><pre>OneClassSVM(gamma=3, nu=0.001)</pre></div></div></div></div></div>"
      ],
      "text/plain": [
       "OneClassSVM(gamma=3, nu=0.001)"
      ]
     },
     "execution_count": 114,
     "metadata": {},
     "output_type": "execute_result"
    }
   ],
   "source": [
    "model_2 = OneClassSVM(kernel='rbf', nu=1e-3, gamma=3)\n",
    "\n",
    "model_2.fit(X_train_2)"
   ]
  },
  {
   "cell_type": "code",
   "execution_count": 145,
   "metadata": {},
   "outputs": [
    {
     "data": {
      "text/plain": [
       "Text(0, 0.5, 'Throughput (bytes/sec)')"
      ]
     },
     "execution_count": 145,
     "metadata": {},
     "output_type": "execute_result"
    },
    {
     "data": {
      "image/png": "[encoded data removed]",
      "text/plain": [
       "<Figure size 640x480 with 1 Axes>"
      ]
     },
     "metadata": {},
     "output_type": "display_data"
    }
   ],
   "source": [
    "'''Plotting contour of model'''\n",
    "# Using mean and std dev of SINR\n",
    "max_mean_sinr = 10*math.log10(1123) # The max mean SINR calculated at (0,60) is 1122.743643457063 (linear)\n",
    "max_std_dev_sinr = 10*math.log10(466) # The max std dev SINR calculated at (0,60) is 465.2159856885714 (linear)\n",
    "min_mean_sinr = 10*math.log10(0.2) # The min mean SINR calculated at (1200,60) is 0.2251212887895188 (linear)\n",
    "min_std_dev_sinr = 10*math.log10(0.7) # The min std dev SINR calculated at (1200,300) is 0.7160093126585219 (linear)\n",
    "max_h_dist = 1200\n",
    "min_h_dist = 0\n",
    "max_throughput = throughput_df[\"Throughput\"].max()\n",
    "min_throughput = 0\n",
    "\n",
    "# yy_notnorm = np.linspace(min_throughput, max_throughput, 100)\n",
    "# yy_norm = throughput_scaler.transform(yy_notnorm.reshape(-1,1))\n",
    "xx, yy = np.meshgrid(np.linspace(min_h_dist, max_h_dist, 121), np.linspace(min_throughput, max_throughput, 100))\n",
    "yy_norm = throughput_scaler.transform(yy.reshape(-1,1))\n",
    "mean_sinr = []\n",
    "std_dev_sinr = []\n",
    "height = throughput_df[\"Height\"].values[0]\n",
    "for x in xx.ravel():\n",
    "    m, s = sinr_lognormal_approx(x, height)\n",
    "    m = 2*(10*math.log10(m)-min_mean_sinr)/(max_mean_sinr-min_mean_sinr) - 1\n",
    "    s = 2*(10*math.log10(s)-min_std_dev_sinr)/(max_std_dev_sinr-min_std_dev_sinr) - 1\n",
    "    mean_sinr.append(m)\n",
    "    std_dev_sinr.append(s)\n",
    "# Get contour for model\n",
    "Z1 = model.predict(np.c_[mean_sinr, std_dev_sinr, yy_norm])\n",
    "Z1 = Z1.reshape(xx.shape)\n",
    "plt.contour(xx, yy, Z1, levels=[0], linewidths=2, colors=\"black\")\n",
    "\n",
    "max_throughput = throughput_df_2[\"Throughput\"].max()\n",
    "xx, yy = np.meshgrid(np.linspace(min_h_dist, max_h_dist, 121), np.linspace(min_throughput, max_throughput, 100))\n",
    "yy_norm = throughput_scaler_2.transform(yy.reshape(-1,1))\n",
    "mean_sinr = []\n",
    "std_dev_sinr = []\n",
    "height = throughput_df_2[\"Height\"].values[0]\n",
    "for x in xx.ravel():\n",
    "    m, s = sinr_lognormal_approx(x, height)\n",
    "    m = 2*(10*math.log10(m)-min_mean_sinr)/(max_mean_sinr-min_mean_sinr) - 1\n",
    "    s = 2*(10*math.log10(s)-min_std_dev_sinr)/(max_std_dev_sinr-min_std_dev_sinr) - 1\n",
    "    mean_sinr.append(m)\n",
    "    std_dev_sinr.append(s)\n",
    "# Get contour for model\n",
    "Z2 = model_2.predict(np.c_[mean_sinr, std_dev_sinr, yy_norm])\n",
    "Z2 = Z2.reshape(xx.shape)\n",
    "plt.contour(xx, yy, Z2, levels=[0], linewidths=2, colors=\"blue\")\n",
    "\n",
    "# DATASET_PATH = \"/media/research-student/One Touch/FANET Datasets/DJISpark_Measured_Throughput_10000Samples/temp_plot/UAVSpeed-6_BitRate-6.5_Height-270_Distance-1200_Modulation-BPSK_UAVSendingInterval-1000/\" \n",
    "# throughput_df = get_measured_throughput(DATASET_PATH, LINK, single_path=True)\n",
    "# DATASET_PATH = \"/media/research-student/One Touch/FANET Datasets/DJISpark_Measured_Throughput_10000Samples/temp_plot_2/UAVSpeed-6_BitRate-13_Height-270_Distance-1200_Modulation-QPSK_UAVSendingInterval-100/\" \n",
    "# throughput_df_2 = get_measured_throughput(DATASET_PATH, LINK, single_path=True)\n",
    "# temp_df = throughput_df[(throughput_df[\"Horizontal_Distance\"]>=450) & (throughput_df[\"Measured_Reliability\"]>=reliability_threshold)]\n",
    "# temp_df_2 = throughput_df_2[throughput_df_2[\"Horizontal_Distance\"]<=550]\n",
    "\n",
    "movingAvgThroughput = 4593.15 # In bytes/sec\n",
    "plt.plot([0], [1], color='blue')\n",
    "plt.plot([0], [1], color='black')\n",
    "plt.scatter(throughput_df[\"Horizontal_Distance\"], throughput_df[\"Throughput\"], color=\"tab:brown\", alpha=0.6)\n",
    "plt.scatter(throughput_df_2[\"Horizontal_Distance\"], throughput_df_2[\"Throughput\"], color=\"tab:orange\", alpha=0.6)\n",
    "plt.plot([0, throughput_df[\"Horizontal_Distance\"].max()], [movingAvgThroughput, movingAvgThroughput], '--g', linewidth=2)\n",
    "plt.ylim(100, 1000000)\n",
    "plt.yscale('log')\n",
    "plt.legend([\"SVM Boundary - Manual Control\", \"SVM Boundary - Waypoint Control\", \"Measured Throughput - Manual Control\", \n",
    "            \"Measured Throughput - Waypoint Control\", \"Throughput Baseline, $τ_{R}$\"], loc='upper right', fontsize='small')\n",
    "plt.xlabel(\"Horizontal Distance (m)\")\n",
    "plt.ylabel(\"Throughput (bytes/sec)\")"
   ]
  },
  {
   "cell_type": "code",
   "execution_count": 150,
   "metadata": {},
   "outputs": [
    {
     "name": "stderr",
     "output_type": "stream",
     "text": [
      "100%|██████████| 1/1 [00:00<00:00, 39.75it/s]\n"
     ]
    },
    {
     "data": {
      "image/png": "[encoded data removed]",
      "text/plain": [
       "<Figure size 640x480 with 1 Axes>"
      ]
     },
     "metadata": {},
     "output_type": "display_data"
    }
   ],
   "source": [
    "DATASET_PATH = \"/media/research-student/One Touch/FANET Datasets/DJISpark_Measured_Throughput_10000Samples/temp_plot/UAVSpeed-6_BitRate-6.5_Height-270_Distance-1200_Modulation-BPSK_UAVSendingInterval-1000/\" \n",
    "throughput_df = get_measured_throughput(DATASET_PATH, LINK, single_path=True)\n",
    "throughput_df = throughput_df.loc[throughput_df[\"Throughput\"] < 2000]\n",
    "plt.scatter(throughput_df[\"Horizontal_Distance\"], throughput_df[\"Throughput\"], color=\"tab:brown\", alpha=0.6)\n",
    "plt.ylim(100, 1000000)\n",
    "plt.yscale('log')"
   ]
  }
 ],
 "metadata": {
  "kernelspec": {
   "display_name": "tf_venv",
   "language": "python",
   "name": "python3"
  },
  "language_info": {
   "codemirror_mode": {
    "name": "ipython",
    "version": 3
   },
   "file_extension": ".py",
   "mimetype": "text/x-python",
   "name": "python",
   "nbconvert_exporter": "python",
   "pygments_lexer": "ipython3",
   "version": "3.8.10"
  }
 },
 "nbformat": 4,
 "nbformat_minor": 2
}
