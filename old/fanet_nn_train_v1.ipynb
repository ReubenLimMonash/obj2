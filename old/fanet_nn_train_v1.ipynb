{
 "cells": [
  {
   "attachments": {},
   "cell_type": "markdown",
   "metadata": {},
   "source": [
    "# Keras Train NN Classifier for FANET Reliability\n",
    "Date: 03/03/2023\n",
    "Desc: To train a NN classifier to predict FANET reliability and failure modes"
   ]
  },
  {
   "attachments": {},
   "cell_type": "markdown",
   "metadata": {},
   "source": [
    "## Import libs"
   ]
  },
  {
   "cell_type": "code",
   "execution_count": 1,
   "metadata": {},
   "outputs": [
    {
     "ename": "ModuleNotFoundError",
     "evalue": "No module named 'tensorflow'",
     "output_type": "error",
     "traceback": [
      "\u001b[0;31m---------------------------------------------------------------------------\u001b[0m",
      "\u001b[0;31mModuleNotFoundError\u001b[0m                       Traceback (most recent call last)",
      "\u001b[1;32m/home/research-student/omnet-fanet/data-processing-scripts/fanet_nn_train_v1.ipynb Cell 3\u001b[0m in \u001b[0;36m<cell line: 12>\u001b[0;34m()\u001b[0m\n\u001b[1;32m      <a href='vscode-notebook-cell://tunnel%2Bmmen4-0049-re/home/research-student/omnet-fanet/data-processing-scripts/fanet_nn_train_v1.ipynb#W2sdnNjb2RlLXJlbW90ZQ%3D%3D?line=8'>9</a>\u001b[0m \u001b[39mfrom\u001b[39;00m \u001b[39mmath\u001b[39;00m \u001b[39mimport\u001b[39;00m sqrt\n\u001b[1;32m     <a href='vscode-notebook-cell://tunnel%2Bmmen4-0049-re/home/research-student/omnet-fanet/data-processing-scripts/fanet_nn_train_v1.ipynb#W2sdnNjb2RlLXJlbW90ZQ%3D%3D?line=10'>11</a>\u001b[0m \u001b[39m# Keras specific\u001b[39;00m\n\u001b[0;32m---> <a href='vscode-notebook-cell://tunnel%2Bmmen4-0049-re/home/research-student/omnet-fanet/data-processing-scripts/fanet_nn_train_v1.ipynb#W2sdnNjb2RlLXJlbW90ZQ%3D%3D?line=11'>12</a>\u001b[0m \u001b[39mimport\u001b[39;00m \u001b[39mkeras\u001b[39;00m\n\u001b[1;32m     <a href='vscode-notebook-cell://tunnel%2Bmmen4-0049-re/home/research-student/omnet-fanet/data-processing-scripts/fanet_nn_train_v1.ipynb#W2sdnNjb2RlLXJlbW90ZQ%3D%3D?line=12'>13</a>\u001b[0m \u001b[39mfrom\u001b[39;00m \u001b[39mkeras\u001b[39;00m\u001b[39m.\u001b[39;00m\u001b[39mmodels\u001b[39;00m \u001b[39mimport\u001b[39;00m Model\n\u001b[1;32m     <a href='vscode-notebook-cell://tunnel%2Bmmen4-0049-re/home/research-student/omnet-fanet/data-processing-scripts/fanet_nn_train_v1.ipynb#W2sdnNjb2RlLXJlbW90ZQ%3D%3D?line=13'>14</a>\u001b[0m \u001b[39mfrom\u001b[39;00m \u001b[39mkeras\u001b[39;00m\u001b[39m.\u001b[39;00m\u001b[39mlayers\u001b[39;00m \u001b[39mimport\u001b[39;00m Dense, Input\n",
      "File \u001b[0;32m~/.local/lib/python3.8/site-packages/keras/__init__.py:20\u001b[0m, in \u001b[0;36m<module>\u001b[0;34m\u001b[0m\n\u001b[1;32m      1\u001b[0m \u001b[39m# Copyright 2015 The TensorFlow Authors. All Rights Reserved.\u001b[39;00m\n\u001b[1;32m      2\u001b[0m \u001b[39m#\u001b[39;00m\n\u001b[1;32m      3\u001b[0m \u001b[39m# Licensed under the Apache License, Version 2.0 (the \"License\");\u001b[39;00m\n\u001b[0;32m   (...)\u001b[0m\n\u001b[1;32m     13\u001b[0m \u001b[39m# limitations under the License.\u001b[39;00m\n\u001b[1;32m     14\u001b[0m \u001b[39m# ==============================================================================\u001b[39;00m\n\u001b[1;32m     15\u001b[0m \u001b[39m\"\"\"Implementation of the Keras API, the high-level API of TensorFlow.\u001b[39;00m\n\u001b[1;32m     16\u001b[0m \n\u001b[1;32m     17\u001b[0m \u001b[39mDetailed documentation and user guides are available at\u001b[39;00m\n\u001b[1;32m     18\u001b[0m \u001b[39m[keras.io](https://keras.io).\u001b[39;00m\n\u001b[1;32m     19\u001b[0m \u001b[39m\"\"\"\u001b[39;00m\n\u001b[0;32m---> 20\u001b[0m \u001b[39mfrom\u001b[39;00m \u001b[39mkeras\u001b[39;00m \u001b[39mimport\u001b[39;00m distribute\n\u001b[1;32m     21\u001b[0m \u001b[39mfrom\u001b[39;00m \u001b[39mkeras\u001b[39;00m \u001b[39mimport\u001b[39;00m models\n\u001b[1;32m     22\u001b[0m \u001b[39mfrom\u001b[39;00m \u001b[39mkeras\u001b[39;00m\u001b[39m.\u001b[39;00m\u001b[39mengine\u001b[39;00m\u001b[39m.\u001b[39;00m\u001b[39minput_layer\u001b[39;00m \u001b[39mimport\u001b[39;00m Input\n",
      "File \u001b[0;32m~/.local/lib/python3.8/site-packages/keras/distribute/__init__.py:18\u001b[0m, in \u001b[0;36m<module>\u001b[0;34m\u001b[0m\n\u001b[1;32m      1\u001b[0m \u001b[39m# Copyright 2019 The TensorFlow Authors. All Rights Reserved.\u001b[39;00m\n\u001b[1;32m      2\u001b[0m \u001b[39m#\u001b[39;00m\n\u001b[1;32m      3\u001b[0m \u001b[39m# Licensed under the Apache License, Version 2.0 (the \"License\");\u001b[39;00m\n\u001b[0;32m   (...)\u001b[0m\n\u001b[1;32m     13\u001b[0m \u001b[39m# limitations under the License.\u001b[39;00m\n\u001b[1;32m     14\u001b[0m \u001b[39m# ==============================================================================\u001b[39;00m\n\u001b[1;32m     15\u001b[0m \u001b[39m\"\"\"Keras' Distribution Strategy library.\"\"\"\u001b[39;00m\n\u001b[0;32m---> 18\u001b[0m \u001b[39mfrom\u001b[39;00m \u001b[39mkeras\u001b[39;00m\u001b[39m.\u001b[39;00m\u001b[39mdistribute\u001b[39;00m \u001b[39mimport\u001b[39;00m sidecar_evaluator\n",
      "File \u001b[0;32m~/.local/lib/python3.8/site-packages/keras/distribute/sidecar_evaluator.py:17\u001b[0m, in \u001b[0;36m<module>\u001b[0;34m\u001b[0m\n\u001b[1;32m      1\u001b[0m \u001b[39m# Copyright 2020 The TensorFlow Authors. All Rights Reserved.\u001b[39;00m\n\u001b[1;32m      2\u001b[0m \u001b[39m#\u001b[39;00m\n\u001b[1;32m      3\u001b[0m \u001b[39m# Licensed under the Apache License, Version 2.0 (the \"License\");\u001b[39;00m\n\u001b[0;32m   (...)\u001b[0m\n\u001b[1;32m     13\u001b[0m \u001b[39m# limitations under the License.\u001b[39;00m\n\u001b[1;32m     14\u001b[0m \u001b[39m# ==============================================================================\u001b[39;00m\n\u001b[1;32m     15\u001b[0m \u001b[39m\"\"\"Python module for evaluation loop.\"\"\"\u001b[39;00m\n\u001b[0;32m---> 17\u001b[0m \u001b[39mimport\u001b[39;00m \u001b[39mtensorflow\u001b[39;00m\u001b[39m.\u001b[39;00m\u001b[39mcompat\u001b[39;00m\u001b[39m.\u001b[39;00m\u001b[39mv2\u001b[39;00m \u001b[39mas\u001b[39;00m \u001b[39mtf\u001b[39;00m\n\u001b[1;32m     19\u001b[0m \u001b[39m# isort: off\u001b[39;00m\n\u001b[1;32m     20\u001b[0m \u001b[39mfrom\u001b[39;00m \u001b[39mtensorflow\u001b[39;00m\u001b[39m.\u001b[39;00m\u001b[39mpython\u001b[39;00m\u001b[39m.\u001b[39;00m\u001b[39mplatform\u001b[39;00m \u001b[39mimport\u001b[39;00m tf_logging \u001b[39mas\u001b[39;00m logging\n",
      "\u001b[0;31mModuleNotFoundError\u001b[0m: No module named 'tensorflow'"
     ]
    }
   ],
   "source": [
    "import pandas as pd\n",
    "import numpy as np \n",
    "import matplotlib.pyplot as plt\n",
    "import sklearn\n",
    "\n",
    "# Import necessary modules\n",
    "from sklearn.model_selection import train_test_split\n",
    "from sklearn.metrics import mean_squared_error\n",
    "from math import sqrt\n",
    "\n",
    "# Keras specific\n",
    "import keras\n",
    "from keras.models import Model\n",
    "from keras.layers import Dense, Input\n",
    "from keras.utils import to_categorical \n",
    "import pickle, os\n"
   ]
  },
  {
   "attachments": {},
   "cell_type": "markdown",
   "metadata": {},
   "source": [
    "## Set params and Load Dataset"
   ]
  },
  {
   "cell_type": "code",
   "execution_count": 10,
   "metadata": {},
   "outputs": [],
   "source": [
    "# Training params\n",
    "EPOCHS = 10\n",
    "TEST_SPLIT = 0.10 # Test split percentage\n",
    "checkpoint_filepath = '/home/research-student/omnet-fanet/nn_checkpoints/nn_v2_hovering_novideo_sinr'\n",
    "delay_threshold = 0.04 # NOTE: REMEMBER TO SET DELAY THRESHOLD\n",
    "\n",
    "# Compile all data\n",
    "# dl_df_8uav = pd.read_hdf(\"/home/rlim0005/FANET_Dataset/Dataset_NP10000_BPSK_6-5Mbps/Dataset_NP10000_BPSK_6-5Mbps_8UAVs_processed_downlink.h5\", '8_UAVs')\n",
    "# dl_df_16uav = pd.read_hdf(\"/home/rlim0005/FANET_Dataset/Dataset_NP10000_BPSK_6-5Mbps/Dataset_NP10000_BPSK_6-5Mbps_16UAVs_processed_downlink.h5\", '16_UAVs')\n",
    "# dl_df_24uav = pd.read_hdf(\"/home/rlim0005/FANET_Dataset/Dataset_NP10000_BPSK_6-5Mbps/Dataset_NP10000_BPSK_6-5Mbps_24UAVs_processed_downlink.h5\", '24_UAVs')\n",
    "# dl_df_32uav = pd.read_hdf(\"/home/rlim0005/FANET_Dataset/Dataset_NP10000_BPSK_6-5Mbps/Dataset_NP10000_BPSK_6-5Mbps_32UAVs_processed_downlink.h5\", '32_UAVs')\n",
    "# dl_df_40uav = pd.read_hdf(\"/home/rlim0005/FANET_Dataset/Dataset_NP10000_BPSK_6-5Mbps/Dataset_NP10000_BPSK_6-5Mbps_40UAVs_processed_downlink.h5\", '40_UAVs')\n",
    "# dl_df = pd.concat([dl_df_8uav, dl_df_16uav, dl_df_24uav, dl_df_32uav, dl_df_40uav], ignore_index=True)\n",
    "\n",
    "dl_df = pd.read_csv(\"/media/research-student/One Touch/FANET Datasets/Dataset_NP10000_64QAM_65Mbps_Hovering_NoVideo/8UAVs_Exp1_processed_downlink.csv\")\n",
    "\n",
    "dl_df.sort_values(by = \"U2G_H_Dist\")\n",
    "\n",
    "data_df = dl_df[[\"Mean_SINR\", \"Std_Dev_SINR\", \"Num_Members\", \"Bytes\", \"UAV_Sending_Interval\", \"Incorrectly_Received\", \"Queue_Overflow\"]].copy()\n",
    "data_df[\"Reliable\"] = np.where(dl_df['Packet_State'] == \"Reliable\" , 1, 0)\n",
    "data_df[\"Delay_Exceeded\"] = np.where(dl_df['Delay'] > delay_threshold, 1, 0)"
   ]
  },
  {
   "attachments": {},
   "cell_type": "markdown",
   "metadata": {},
   "source": [
    "## Load and pre-process data"
   ]
  },
  {
   "cell_type": "code",
   "execution_count": 11,
   "metadata": {},
   "outputs": [],
   "source": [
    "# Normalize data\n",
    "max_mean_sinr = 521 # The max mean SINR calculated at (50,60) is 520.2907250903191\n",
    "max_std_dev_sinr = 252 # The max std dev SINR calculated at (50,60) is 251.44889082897834\n",
    "max_num_members = 39\n",
    "max_bytes = 1500 # Max Ethernet MTU\n",
    "# NOTE: Sending interval is already between 0 and 1 in the data\n",
    "data_df[\"Mean_SINR\"] = data_df[\"Mean_SINR\"].div(max_mean_sinr)\n",
    "data_df[\"Std_Dev_SINR\"] = data_df[\"Std_Dev_SINR\"].div(max_std_dev_sinr)\n",
    "data_df[\"Num_Members\"] = data_df[\"Num_Members\"].div(max_num_members)\n",
    "data_df[\"Bytes\"] = data_df[\"Bytes\"].div(max_bytes)\n",
    "\n",
    "# Split to train and test\n",
    "data_df_train, data_df_test = train_test_split(data_df, test_size=TEST_SPLIT, random_state=40, shuffle=False)\n",
    "X_train = data_df_train[[\"Mean_SINR\", \"Std_Dev_SINR\", \"Num_Members\", \"Bytes\", \"UAV_Sending_Interval\"]].values\n",
    "X_test = data_df_test[[\"Mean_SINR\", \"Std_Dev_SINR\", \"Num_Members\", \"Bytes\", \"UAV_Sending_Interval\"]].values\n",
    "X_train_all = data_df[[\"Mean_SINR\", \"Std_Dev_SINR\", \"Num_Members\", \"Bytes\", \"UAV_Sending_Interval\"]].values\n",
    "reliability_train = data_df_train[\"Reliable\"].values\n",
    "reliability_test = data_df_test[\"Reliable\"].values\n",
    "reliability_train_all = data_df[\"Reliable\"].values\n",
    "incr_rcvd_train = data_df_train[\"Incorrectly_Received\"].values\n",
    "incr_rcvd_test = data_df_test[\"Incorrectly_Received\"].values\n",
    "incr_rcvd_train_all = data_df[\"Incorrectly_Received\"].values\n",
    "delay_excd_train = data_df_train[\"Delay_Exceeded\"].values\n",
    "delay_excd_test = data_df_test[\"Delay_Exceeded\"].values\n",
    "delay_excd_train_all = data_df[\"Delay_Exceeded\"].values\n",
    "queue_overflow_train = data_df_train[\"Queue_Overflow\"].values\n",
    "queue_overflow_test = data_df_test[\"Queue_Overflow\"].values\n",
    "queue_overflow_train_all = data_df[\"Queue_Overflow\"].values\n",
    "\n",
    "reliability_train = to_categorical(reliability_train) \n",
    "reliability_test = to_categorical(reliability_test)\n",
    "reliability_train_all = to_categorical(reliability_train_all) \n",
    "incr_rcvd_train = to_categorical(incr_rcvd_train) \n",
    "incr_rcvd_test = to_categorical(incr_rcvd_test)\n",
    "incr_rcvd_train_all = to_categorical(incr_rcvd_train_all) \n",
    "delay_excd_train = to_categorical(delay_excd_train) \n",
    "delay_excd_test = to_categorical(delay_excd_test)\n",
    "delay_excd_train_all = to_categorical(delay_excd_train_all)\n",
    "queue_overflow_train = to_categorical(queue_overflow_train) \n",
    "queue_overflow_test = to_categorical(queue_overflow_test)\n",
    "queue_overflow_train_all = to_categorical(queue_overflow_train_all)"
   ]
  },
  {
   "attachments": {},
   "cell_type": "markdown",
   "metadata": {},
   "source": [
    "## Train the model"
   ]
  },
  {
   "cell_type": "code",
   "execution_count": 12,
   "metadata": {},
   "outputs": [
    {
     "name": "stdout",
     "output_type": "stream",
     "text": [
      "Epoch 1/10\n",
      "6765/6765 [==============================] - 28s 4ms/step - loss: 0.9760 - reliability_loss: 0.0809 - incorrectly_received_loss: 0.4087 - delay_exceeded_loss: 0.2577 - queue_overflow_loss: 0.2287 - reliability_accuracy: 0.9680 - incorrectly_received_accuracy: 0.9039 - delay_exceeded_accuracy: 0.9117 - queue_overflow_accuracy: 0.9215 - val_loss: 0.5808 - val_reliability_loss: 0.0015 - val_incorrectly_received_loss: 0.2181 - val_delay_exceeded_loss: 0.1811 - val_queue_overflow_loss: 0.1801 - val_reliability_accuracy: 0.9999 - val_incorrectly_received_accuracy: 0.9563 - val_delay_exceeded_accuracy: 0.9563 - val_queue_overflow_accuracy: 0.9563\n",
      "Epoch 2/10\n",
      "6765/6765 [==============================] - 26s 4ms/step - loss: 0.8835 - reliability_loss: 0.0504 - incorrectly_received_loss: 0.3828 - delay_exceeded_loss: 0.2433 - queue_overflow_loss: 0.2071 - reliability_accuracy: 0.9801 - incorrectly_received_accuracy: 0.9068 - delay_exceeded_accuracy: 0.9204 - queue_overflow_accuracy: 0.9361 - val_loss: 0.5756 - val_reliability_loss: 0.0014 - val_incorrectly_received_loss: 0.2147 - val_delay_exceeded_loss: 0.1797 - val_queue_overflow_loss: 0.1798 - val_reliability_accuracy: 0.9999 - val_incorrectly_received_accuracy: 0.9563 - val_delay_exceeded_accuracy: 0.9563 - val_queue_overflow_accuracy: 0.9563\n",
      "Epoch 3/10\n",
      "6765/6765 [==============================] - 26s 4ms/step - loss: 0.8818 - reliability_loss: 0.0503 - incorrectly_received_loss: 0.3828 - delay_exceeded_loss: 0.2423 - queue_overflow_loss: 0.2064 - reliability_accuracy: 0.9806 - incorrectly_received_accuracy: 0.9068 - delay_exceeded_accuracy: 0.9216 - queue_overflow_accuracy: 0.9369 - val_loss: 0.5769 - val_reliability_loss: 0.0014 - val_incorrectly_received_loss: 0.2161 - val_delay_exceeded_loss: 0.1796 - val_queue_overflow_loss: 0.1798 - val_reliability_accuracy: 0.9999 - val_incorrectly_received_accuracy: 0.9563 - val_delay_exceeded_accuracy: 0.9563 - val_queue_overflow_accuracy: 0.9563\n",
      "Epoch 4/10\n",
      "6765/6765 [==============================] - 26s 4ms/step - loss: 0.8794 - reliability_loss: 0.0497 - incorrectly_received_loss: 0.3822 - delay_exceeded_loss: 0.2415 - queue_overflow_loss: 0.2061 - reliability_accuracy: 0.9810 - incorrectly_received_accuracy: 0.9068 - delay_exceeded_accuracy: 0.9224 - queue_overflow_accuracy: 0.9374 - val_loss: 0.5844 - val_reliability_loss: 0.0014 - val_incorrectly_received_loss: 0.2188 - val_delay_exceeded_loss: 0.1821 - val_queue_overflow_loss: 0.1822 - val_reliability_accuracy: 0.9999 - val_incorrectly_received_accuracy: 0.9563 - val_delay_exceeded_accuracy: 0.9563 - val_queue_overflow_accuracy: 0.9563\n",
      "Epoch 5/10\n",
      "6765/6765 [==============================] - 26s 4ms/step - loss: 0.8779 - reliability_loss: 0.0495 - incorrectly_received_loss: 0.3819 - delay_exceeded_loss: 0.2408 - queue_overflow_loss: 0.2057 - reliability_accuracy: 0.9813 - incorrectly_received_accuracy: 0.9068 - delay_exceeded_accuracy: 0.9227 - queue_overflow_accuracy: 0.9373 - val_loss: 0.5788 - val_reliability_loss: 0.0015 - val_incorrectly_received_loss: 0.2178 - val_delay_exceeded_loss: 0.1797 - val_queue_overflow_loss: 0.1798 - val_reliability_accuracy: 0.9999 - val_incorrectly_received_accuracy: 0.9563 - val_delay_exceeded_accuracy: 0.9563 - val_queue_overflow_accuracy: 0.9563\n",
      "Epoch 6/10\n",
      "6765/6765 [==============================] - 26s 4ms/step - loss: 0.8759 - reliability_loss: 0.0489 - incorrectly_received_loss: 0.3814 - delay_exceeded_loss: 0.2405 - queue_overflow_loss: 0.2050 - reliability_accuracy: 0.9817 - incorrectly_received_accuracy: 0.9068 - delay_exceeded_accuracy: 0.9227 - queue_overflow_accuracy: 0.9375 - val_loss: 0.5795 - val_reliability_loss: 0.0014 - val_incorrectly_received_loss: 0.2154 - val_delay_exceeded_loss: 0.1816 - val_queue_overflow_loss: 0.1811 - val_reliability_accuracy: 0.9999 - val_incorrectly_received_accuracy: 0.9563 - val_delay_exceeded_accuracy: 0.9563 - val_queue_overflow_accuracy: 0.9563\n",
      "Epoch 7/10\n",
      "6765/6765 [==============================] - 26s 4ms/step - loss: 0.8722 - reliability_loss: 0.0471 - incorrectly_received_loss: 0.3811 - delay_exceeded_loss: 0.2399 - queue_overflow_loss: 0.2041 - reliability_accuracy: 0.9828 - incorrectly_received_accuracy: 0.9068 - delay_exceeded_accuracy: 0.9234 - queue_overflow_accuracy: 0.9382 - val_loss: 0.5752 - val_reliability_loss: 0.0014 - val_incorrectly_received_loss: 0.2143 - val_delay_exceeded_loss: 0.1796 - val_queue_overflow_loss: 0.1798 - val_reliability_accuracy: 0.9999 - val_incorrectly_received_accuracy: 0.9563 - val_delay_exceeded_accuracy: 0.9563 - val_queue_overflow_accuracy: 0.9563\n",
      "Epoch 8/10\n",
      "6765/6765 [==============================] - 26s 4ms/step - loss: 0.8648 - reliability_loss: 0.0421 - incorrectly_received_loss: 0.3808 - delay_exceeded_loss: 0.2390 - queue_overflow_loss: 0.2029 - reliability_accuracy: 0.9837 - incorrectly_received_accuracy: 0.9068 - delay_exceeded_accuracy: 0.9240 - queue_overflow_accuracy: 0.9384 - val_loss: 0.5790 - val_reliability_loss: 0.0015 - val_incorrectly_received_loss: 0.2182 - val_delay_exceeded_loss: 0.1796 - val_queue_overflow_loss: 0.1797 - val_reliability_accuracy: 0.9999 - val_incorrectly_received_accuracy: 0.9563 - val_delay_exceeded_accuracy: 0.9563 - val_queue_overflow_accuracy: 0.9563\n",
      "Epoch 9/10\n",
      "6765/6765 [==============================] - 27s 4ms/step - loss: 0.8578 - reliability_loss: 0.0383 - incorrectly_received_loss: 0.3801 - delay_exceeded_loss: 0.2383 - queue_overflow_loss: 0.2011 - reliability_accuracy: 0.9860 - incorrectly_received_accuracy: 0.9068 - delay_exceeded_accuracy: 0.9245 - queue_overflow_accuracy: 0.9386 - val_loss: 0.5750 - val_reliability_loss: 0.0014 - val_incorrectly_received_loss: 0.2142 - val_delay_exceeded_loss: 0.1796 - val_queue_overflow_loss: 0.1797 - val_reliability_accuracy: 0.9999 - val_incorrectly_received_accuracy: 0.9563 - val_delay_exceeded_accuracy: 0.9563 - val_queue_overflow_accuracy: 0.9563\n",
      "Epoch 10/10\n",
      "6765/6765 [==============================] - 26s 4ms/step - loss: 0.8524 - reliability_loss: 0.0367 - incorrectly_received_loss: 0.3789 - delay_exceeded_loss: 0.2376 - queue_overflow_loss: 0.1991 - reliability_accuracy: 0.9873 - incorrectly_received_accuracy: 0.9068 - delay_exceeded_accuracy: 0.9247 - queue_overflow_accuracy: 0.9420 - val_loss: 0.5754 - val_reliability_loss: 0.0016 - val_incorrectly_received_loss: 0.2137 - val_delay_exceeded_loss: 0.1800 - val_queue_overflow_loss: 0.1801 - val_reliability_accuracy: 0.9999 - val_incorrectly_received_accuracy: 0.9563 - val_delay_exceeded_accuracy: 0.9563 - val_queue_overflow_accuracy: 0.9563\n"
     ]
    }
   ],
   "source": [
    "# For multiple output model\n",
    "# Version 2: Add an additional hidden layer for each output layer (not shared among outputs)\n",
    "inputs = Input(shape=(5,))\n",
    "base = Dense(50, activation='relu')(inputs)\n",
    "base = Dense(25, activation='relu')(base)\n",
    "base = Dense(10, activation='relu')(base)\n",
    "reliability_hl = Dense(10, activation='relu')(base)\n",
    "incr_rcvd_out_hl = Dense(10, activation='relu')(base)\n",
    "delay_excd_hl = Dense(10, activation='relu')(base)\n",
    "queue_overflow_hl = Dense(10, activation='relu')(base)\n",
    "reliability_out = Dense(2, activation='softmax', name='reliability')(reliability_hl)\n",
    "incr_rcvd_out = Dense(8, activation='softmax', name='incorrectly_received')(incr_rcvd_out_hl)\n",
    "delay_excd_out = Dense(2, activation='softmax', name='delay_exceeded')(delay_excd_hl)\n",
    "queue_overflow_out = Dense(2, activation='softmax', name='queue_overflow')(queue_overflow_hl)\n",
    "model = Model(inputs=inputs, outputs = [reliability_out, incr_rcvd_out, delay_excd_out, queue_overflow_out])\n",
    "\n",
    "# Load pre-trained model for finetuning\n",
    "# model = tf.keras.models.load_model(os.path.join(checkpoint_filepath, \"model.010-2.0158.h5\"), compile=False)\n",
    "\n",
    "# Compile the model\n",
    "model.compile(optimizer='adam', \n",
    "              loss={'reliability': 'binary_crossentropy',\n",
    "                    'incorrectly_received': 'categorical_crossentropy',\n",
    "                    'delay_exceeded': 'binary_crossentropy',\n",
    "                    'queue_overflow': 'binary_crossentropy'},\n",
    "              metrics={'reliability': 'accuracy',\n",
    "                    'incorrectly_received': 'accuracy',\n",
    "                    'delay_exceeded': 'accuracy',\n",
    "                    'queue_overflow': 'accuracy'},)\n",
    "\n",
    "model_checkpoint_callback = keras.callbacks.ModelCheckpoint(\n",
    "    filepath=os.path.join(checkpoint_filepath,\"model.{epoch:03d}-{val_loss:.4f}.h5\"),\n",
    "    save_weights_only=False,\n",
    "    monitor='val_loss',\n",
    "    mode='auto',\n",
    "    save_freq='epoch')\n",
    "\n",
    "# Y_train = [reliability_train, incr_rcvd_train, delay_excd_train, queue_overflow_train]\n",
    "Y_train_all = [reliability_train_all, incr_rcvd_train_all, delay_excd_train_all, queue_overflow_train_all]\n",
    "Y_test = [reliability_test, incr_rcvd_test, delay_excd_test, queue_overflow_test]\n",
    "history = model.fit(X_train_all, Y_train_all, epochs=EPOCHS, callbacks=[model_checkpoint_callback], validation_data=(X_test, Y_test))\n",
    "with open(os.path.join(checkpoint_filepath, 'trainHistoryDict_18042023'), 'wb') as file_pi:\n",
    "    pickle.dump(history.history, file_pi)\n",
    "\n",
    "# Save final model\n",
    "model.save(os.path.join(checkpoint_filepath,\"final_model.h5\"))"
   ]
  },
  {
   "cell_type": "code",
   "execution_count": 5,
   "metadata": {},
   "outputs": [],
   "source": [
    "import pickle\n",
    "\n",
    "with (open(\"/home/research-student/omnet-fanet/nn_checkpoints/trainHistoryDict\", \"rb\")) as file:\n",
    "    history = pickle.load(file)"
   ]
  },
  {
   "cell_type": "code",
   "execution_count": 2,
   "metadata": {},
   "outputs": [
    {
     "data": {
      "text/plain": [
       "3777499685"
      ]
     },
     "execution_count": 2,
     "metadata": {},
     "output_type": "execute_result"
    }
   ],
   "source": [
    "import pandas as pd\n",
    "import sys\n",
    "dl_df_8uav = pd.read_hdf(\"/media/research-student/One Touch/FANET Datasets/Dataset_NP10000_BPSK_6-5Mbps/Dataset_NP10000_BPSK_6-5Mbps_8UAVs_processed_downlink.h5\", '8_UAVs')\n",
    "dl_df_16uav = pd.read_hdf(\"/media/research-student/One Touch/FANET Datasets/Dataset_NP10000_BPSK_6-5Mbps/Dataset_NP10000_BPSK_6-5Mbps_16UAVs_processed_downlink.h5\", '16_UAVs')\n",
    "dl_df_24uav = pd.read_hdf(\"/media/research-student/One Touch/FANET Datasets/Dataset_NP10000_BPSK_6-5Mbps/Dataset_NP10000_BPSK_6-5Mbps_24UAVs_processed_downlink.h5\", '24_UAVs')\n",
    "dl_df_32uav = pd.read_hdf(\"/media/research-student/One Touch/FANET Datasets/Dataset_NP10000_BPSK_6-5Mbps/Dataset_NP10000_BPSK_6-5Mbps_32UAVs_processed_downlink.h5\", '32_UAVs')\n",
    "dl_df_40uav = pd.read_hdf(\"/media/research-student/One Touch/FANET Datasets/Dataset_NP10000_BPSK_6-5Mbps/Dataset_NP10000_BPSK_6-5Mbps_40UAVs_processed_downlink.h5\", '40_UAVs')\n",
    "dl_df = pd.concat([dl_df_8uav, dl_df_16uav, dl_df_24uav, dl_df_32uav, dl_df_40uav], ignore_index=True)\n",
    "sys.getsizeof(dl_df)"
   ]
  },
  {
   "attachments": {},
   "cell_type": "markdown",
   "metadata": {},
   "source": [
    "# Plot Training Progress"
   ]
  },
  {
   "cell_type": "code",
   "execution_count": 5,
   "metadata": {},
   "outputs": [
    {
     "data": {
      "text/plain": [
       "Text(0.5, 1.0, 'Training Progress for NN V4 with SINR Input')"
      ]
     },
     "execution_count": 5,
     "metadata": {},
     "output_type": "execute_result"
    },
    {
     "data": {
      "image/png": "[encoded data removed]",
      "text/plain": [
       "<Figure size 691.2x518.4 with 1 Axes>"
      ]
     },
     "metadata": {
      "needs_background": "light"
     },
     "output_type": "display_data"
    }
   ],
   "source": [
    "import pickle\n",
    "import numpy as np\n",
    "import matplotlib.pyplot as plt\n",
    "\n",
    "with (open(\"/home/research-student/omnet-fanet/nn_checkpoints/nn_v3_hovering_sinr/trainHistoryDict_04042023\", \"rb\")) as file:\n",
    "    history1 = pickle.load(file)\n",
    "\n",
    "with (open(\"/home/research-student/omnet-fanet/nn_checkpoints/nn_v2-2_21032023/trainHistoryDict_21032023\", \"rb\")) as file:\n",
    "    history2 = pickle.load(file)\n",
    "\n",
    "loss1 = history1[\"loss\"]\n",
    "epoch1 = np.linspace(1,len(loss1), len(loss1), dtype=\"int16\")\n",
    "loss2 = history2[\"loss\"]\n",
    "epoch2 = np.linspace(1,len(loss2), len(loss2), dtype=\"int16\")\n",
    "\n",
    "fig = plt.figure(figsize=(9.6, 7.2))\n",
    "ax_loss = fig.subplots()\n",
    "plt.plot(epoch1, loss1)\n",
    "# plt.plot(epoch2, loss2)\n",
    "plt.xlabel(\"Epoch No.\")\n",
    "plt.ylabel(\"Training Loss\")\n",
    "# plt.title(\"Plot of Training Loss vs Epoch for NN\")\n",
    "plt.title(\"Training Progress for NN V4 with SINR Input\")\n",
    "# plt.legend((\"V2\", \"V3\"))"
   ]
  }
 ],
 "metadata": {
  "kernelspec": {
   "display_name": "Python 3",
   "language": "python",
   "name": "python3"
  },
  "language_info": {
   "codemirror_mode": {
    "name": "ipython",
    "version": 3
   },
   "file_extension": ".py",
   "mimetype": "text/x-python",
   "name": "python",
   "nbconvert_exporter": "python",
   "pygments_lexer": "ipython3",
   "version": "3.8.10"
  },
  "orig_nbformat": 4,
  "vscode": {
   "interpreter": {
    "hash": "916dbcbb3f70747c44a77c7bcd40155683ae19c65e1c03b4aa3499c5328201f1"
   }
  }
 },
 "nbformat": 4,
 "nbformat_minor": 2
}
