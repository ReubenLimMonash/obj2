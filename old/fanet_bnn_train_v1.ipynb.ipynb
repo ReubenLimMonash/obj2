{
 "cells": [
  {
   "attachments": {},
   "cell_type": "markdown",
   "metadata": {},
   "source": [
    "# Keras Train BNN Classifier for FANET Reliability\n",
    "Date: 18/04/2023\n",
    "Desc: To train a BNN classifier to predict FANET reliability and failure modes"
   ]
  },
  {
   "attachments": {},
   "cell_type": "markdown",
   "metadata": {},
   "source": [
    "## Imports"
   ]
  },
  {
   "cell_type": "code",
   "execution_count": 1,
   "metadata": {},
   "outputs": [
    {
     "name": "stderr",
     "output_type": "stream",
     "text": [
      "2023-04-19 10:36:52.415587: I tensorflow/core/platform/cpu_feature_guard.cc:193] This TensorFlow binary is optimized with oneAPI Deep Neural Network Library (oneDNN) to use the following CPU instructions in performance-critical operations:  AVX2 AVX512F AVX512_VNNI FMA\n",
      "To enable them in other operations, rebuild TensorFlow with the appropriate compiler flags.\n",
      "2023-04-19 10:36:52.527683: I tensorflow/core/util/util.cc:169] oneDNN custom operations are on. You may see slightly different numerical results due to floating-point round-off errors from different computation orders. To turn them off, set the environment variable `TF_ENABLE_ONEDNN_OPTS=0`.\n",
      "2023-04-19 10:36:52.532306: W tensorflow/stream_executor/platform/default/dso_loader.cc:64] Could not load dynamic library 'libcudart.so.11.0'; dlerror: libcudart.so.11.0: cannot open shared object file: No such file or directory\n",
      "2023-04-19 10:36:52.532320: I tensorflow/stream_executor/cuda/cudart_stub.cc:29] Ignore above cudart dlerror if you do not have a GPU set up on your machine.\n",
      "2023-04-19 10:36:52.555693: E tensorflow/stream_executor/cuda/cuda_blas.cc:2981] Unable to register cuBLAS factory: Attempting to register factory for plugin cuBLAS when one has already been registered\n",
      "2023-04-19 10:36:53.077797: W tensorflow/stream_executor/platform/default/dso_loader.cc:64] Could not load dynamic library 'libnvinfer.so.7'; dlerror: libnvinfer.so.7: cannot open shared object file: No such file or directory\n",
      "2023-04-19 10:36:53.077849: W tensorflow/stream_executor/platform/default/dso_loader.cc:64] Could not load dynamic library 'libnvinfer_plugin.so.7'; dlerror: libnvinfer_plugin.so.7: cannot open shared object file: No such file or directory\n",
      "2023-04-19 10:36:53.077866: W tensorflow/compiler/tf2tensorrt/utils/py_utils.cc:38] TF-TRT Warning: Cannot dlopen some TensorRT libraries. If you would like to use Nvidia GPU with TensorRT, please make sure the missing libraries mentioned above are installed properly.\n"
     ]
    }
   ],
   "source": [
    "import pandas as pd\n",
    "import numpy as np \n",
    "import sklearn\n",
    "import os\n",
    "\n",
    "# Import necessary modules\n",
    "from sklearn.model_selection import train_test_split\n",
    "\n",
    "# Keras specific\n",
    "import tensorflow as tf\n",
    "import tensorflow_probability as tfp\n",
    "import keras\n",
    "from keras.models import Sequential\n",
    "from keras.models import Model\n",
    "from keras.layers import Dense, Input\n",
    "from keras.utils import to_categorical \n",
    "import pickle"
   ]
  },
  {
   "attachments": {},
   "cell_type": "markdown",
   "metadata": {},
   "source": [
    "## Set Params and Load Dataset"
   ]
  },
  {
   "cell_type": "code",
   "execution_count": 7,
   "metadata": {},
   "outputs": [],
   "source": [
    "# Training params\n",
    "EPOCHS = 30\n",
    "TEST_SPLIT = 0.10 # Test split percentage\n",
    "checkpoint_filepath = '/home/research-student/omnet-fanet/nn_checkpoints/bnn_v2_hovering_novideo_sinr'\n",
    "delay_threshold = 1 # NOTE: REMEMBER TO SET DELAY THRESHOLD\n",
    "# checkpoint_filepath = \"/home/research-student/omnet-fanet/nn_checkpoints\"\n",
    "\n",
    "# Compile all data\n",
    "# dl_df_8uav = pd.read_hdf(\"/home/rlim0005/FANET_Dataset/Dataset_NP10000_BPSK_6-5Mbps/Dataset_NP10000_BPSK_6-5Mbps_8UAVs_processed_downlink.h5\", '8_UAVs')\n",
    "# dl_df_16uav = pd.read_hdf(\"/home/rlim0005/FANET_Dataset/Dataset_NP10000_BPSK_6-5Mbps/Dataset_NP10000_BPSK_6-5Mbps_16UAVs_processed_downlink.h5\", '16_UAVs')\n",
    "# dl_df_24uav = pd.read_hdf(\"/home/rlim0005/FANET_Dataset/Dataset_NP10000_BPSK_6-5Mbps/Dataset_NP10000_BPSK_6-5Mbps_24UAVs_processed_downlink.h5\", '24_UAVs')\n",
    "# dl_df_32uav = pd.read_hdf(\"/home/rlim0005/FANET_Dataset/Dataset_NP10000_BPSK_6-5Mbps/Dataset_NP10000_BPSK_6-5Mbps_32UAVs_processed_downlink.h5\", '32_UAVs')\n",
    "# dl_df_40uav = pd.read_hdf(\"/home/rlim0005/FANET_Dataset/Dataset_NP10000_BPSK_6-5Mbps/Dataset_NP10000_BPSK_6-5Mbps_40UAVs_processed_downlink.h5\", '40_UAVs')\n",
    "# dl_df = pd.concat([dl_df_8uav, dl_df_16uav, dl_df_24uav, dl_df_32uav, dl_df_40uav], ignore_index=True)\n",
    "\n",
    "dl_df = pd.read_csv(\"/media/research-student/One Touch/FANET Datasets/Dataset_NP10000_64QAM_65Mbps_Hovering_NoVideo/8UAVs_Exp1_processed_downlink.csv\")\n",
    "\n",
    "dl_df.sort_values(by = \"U2G_H_Dist\")\n",
    "\n",
    "data_df = dl_df[[\"Mean_SINR\", \"Std_Dev_SINR\", \"Num_Members\", \"Bytes\", \"UAV_Sending_Interval\", \"Incorrectly_Received\", \"Queue_Overflow\"]].copy()\n",
    "data_df[\"Reliable\"] = np.where(dl_df['Packet_State'] == \"Reliable\" , 1, 0)\n",
    "data_df[\"Delay_Exceeded\"] = np.where(dl_df['Delay'] > delay_threshold, 1, 0)"
   ]
  },
  {
   "attachments": {},
   "cell_type": "markdown",
   "metadata": {},
   "source": [
    "## Preprocess Data"
   ]
  },
  {
   "cell_type": "code",
   "execution_count": 8,
   "metadata": {},
   "outputs": [],
   "source": [
    "# Normalize data\n",
    "max_mean_sinr = 521 # The max mean SINR calculated at (50,60) is 520.2907250903191\n",
    "max_std_dev_sinr = 252 # The max std dev SINR calculated at (50,60) is 251.44889082897834\n",
    "max_num_members = 39\n",
    "max_bytes = 1500 # Max Ethernet MTU\n",
    "max_uav_send_int = 1000\n",
    "data_df[\"Mean_SINR\"] = data_df[\"Mean_SINR\"].div(max_mean_sinr)\n",
    "data_df[\"Std_Dev_SINR\"] = data_df[\"Std_Dev_SINR\"].div(max_std_dev_sinr)\n",
    "data_df[\"Num_Members\"] = data_df[\"Num_Members\"].div(max_num_members)\n",
    "data_df[\"Bytes\"] = data_df[\"Bytes\"].div(max_bytes)\n",
    "data_df[\"UAV_Sending_Interval\"] = data_df[\"UAV_Sending_Interval\"].div(max_uav_send_int)\n",
    "\n",
    "# Split to train and test\n",
    "data_df_train, data_df_test = train_test_split(data_df, test_size=TEST_SPLIT, random_state=40, shuffle=False)\n",
    "X_train = data_df_train[[\"Mean_SINR\", \"Std_Dev_SINR\", \"Num_Members\", \"Bytes\", \"UAV_Sending_Interval\"]].values\n",
    "X_test = data_df_test[[\"Mean_SINR\", \"Std_Dev_SINR\", \"Num_Members\", \"Bytes\", \"UAV_Sending_Interval\"]].values\n",
    "X_train_all = data_df[[\"Mean_SINR\", \"Std_Dev_SINR\", \"Num_Members\", \"Bytes\", \"UAV_Sending_Interval\"]].values\n",
    "reliability_train = data_df_train[\"Reliable\"].values\n",
    "reliability_test = data_df_test[\"Reliable\"].values\n",
    "reliability_train_all = data_df[\"Reliable\"].values\n",
    "incr_rcvd_train = data_df_train[\"Incorrectly_Received\"].values\n",
    "incr_rcvd_test = data_df_test[\"Incorrectly_Received\"].values\n",
    "incr_rcvd_train_all = data_df[\"Incorrectly_Received\"].values\n",
    "delay_excd_train = data_df_train[\"Delay_Exceeded\"].values\n",
    "delay_excd_test = data_df_test[\"Delay_Exceeded\"].values\n",
    "delay_excd_train_all = data_df[\"Delay_Exceeded\"].values\n",
    "queue_overflow_train = data_df_train[\"Queue_Overflow\"].values\n",
    "queue_overflow_test = data_df_test[\"Queue_Overflow\"].values\n",
    "queue_overflow_train_all = data_df[\"Queue_Overflow\"].values\n",
    "\n",
    "reliability_train = to_categorical(reliability_train) \n",
    "reliability_test = to_categorical(reliability_test)\n",
    "reliability_train_all = to_categorical(reliability_train_all) \n",
    "incr_rcvd_train = to_categorical(incr_rcvd_train) \n",
    "incr_rcvd_test = to_categorical(incr_rcvd_test)\n",
    "incr_rcvd_train_all = to_categorical(incr_rcvd_train_all) \n",
    "delay_excd_train = to_categorical(delay_excd_train) \n",
    "delay_excd_test = to_categorical(delay_excd_test)\n",
    "delay_excd_train_all = to_categorical(delay_excd_train_all)\n",
    "queue_overflow_train = to_categorical(queue_overflow_train) \n",
    "queue_overflow_test = to_categorical(queue_overflow_test)\n",
    "queue_overflow_train_all = to_categorical(queue_overflow_train_all)"
   ]
  },
  {
   "cell_type": "code",
   "execution_count": 9,
   "metadata": {},
   "outputs": [
    {
     "data": {
      "text/plain": [
       "216456"
      ]
     },
     "execution_count": 9,
     "metadata": {},
     "output_type": "execute_result"
    }
   ],
   "source": [
    "len(X_train_all)"
   ]
  },
  {
   "attachments": {},
   "cell_type": "markdown",
   "metadata": {},
   "source": [
    "## Train BNN Model"
   ]
  },
  {
   "cell_type": "code",
   "execution_count": 10,
   "metadata": {},
   "outputs": [
    {
     "name": "stderr",
     "output_type": "stream",
     "text": [
      "/home/research-student/.local/lib/python3.8/site-packages/tensorflow_probability/python/layers/util.py:95: UserWarning: `layer.add_variable` is deprecated and will be removed in a future version. Please use the `layer.add_weight()` method instead.\n",
      "  loc = add_variable_fn(\n",
      "/home/research-student/.local/lib/python3.8/site-packages/tensorflow_probability/python/layers/util.py:105: UserWarning: `layer.add_variable` is deprecated and will be removed in a future version. Please use the `layer.add_weight()` method instead.\n",
      "  untransformed_scale = add_variable_fn(\n"
     ]
    },
    {
     "name": "stdout",
     "output_type": "stream",
     "text": [
      "Epoch 1/30\n",
      "6765/6765 [==============================] - 51s 7ms/step - loss: 0.9198 - reliability_loss: 0.0725 - incorrectly_received_loss: 0.4144 - delay_exceeded_loss: 0.1824 - queue_overflow_loss: 0.2265 - reliability_accuracy: 0.9703 - incorrectly_received_accuracy: 0.9065 - delay_exceeded_accuracy: 0.9545 - queue_overflow_accuracy: 0.9245 - val_loss: 0.6039 - val_reliability_loss: 0.0017 - val_incorrectly_received_loss: 0.2184 - val_delay_exceeded_loss: 0.1797 - val_queue_overflow_loss: 0.1808 - val_reliability_accuracy: 0.9999 - val_incorrectly_received_accuracy: 0.9563 - val_delay_exceeded_accuracy: 0.9568 - val_queue_overflow_accuracy: 0.9563\n",
      "Epoch 2/30\n",
      "6765/6765 [==============================] - 46s 7ms/step - loss: 0.8356 - reliability_loss: 0.0472 - incorrectly_received_loss: 0.3853 - delay_exceeded_loss: 0.1746 - queue_overflow_loss: 0.2058 - reliability_accuracy: 0.9828 - incorrectly_received_accuracy: 0.9068 - delay_exceeded_accuracy: 0.9545 - queue_overflow_accuracy: 0.9375 - val_loss: 0.6025 - val_reliability_loss: 0.0014 - val_incorrectly_received_loss: 0.2193 - val_delay_exceeded_loss: 0.1793 - val_queue_overflow_loss: 0.1806 - val_reliability_accuracy: 0.9999 - val_incorrectly_received_accuracy: 0.9563 - val_delay_exceeded_accuracy: 0.9568 - val_queue_overflow_accuracy: 0.9563\n",
      "Epoch 3/30\n",
      "6765/6765 [==============================] - 46s 7ms/step - loss: 0.8255 - reliability_loss: 0.0432 - incorrectly_received_loss: 0.3832 - delay_exceeded_loss: 0.1743 - queue_overflow_loss: 0.2038 - reliability_accuracy: 0.9833 - incorrectly_received_accuracy: 0.9068 - delay_exceeded_accuracy: 0.9545 - queue_overflow_accuracy: 0.9380 - val_loss: 0.5964 - val_reliability_loss: 0.0015 - val_incorrectly_received_loss: 0.2161 - val_delay_exceeded_loss: 0.1788 - val_queue_overflow_loss: 0.1801 - val_reliability_accuracy: 0.9999 - val_incorrectly_received_accuracy: 0.9563 - val_delay_exceeded_accuracy: 0.9568 - val_queue_overflow_accuracy: 0.9563\n",
      "Epoch 4/30\n",
      "6765/6765 [==============================] - 46s 7ms/step - loss: 0.8125 - reliability_loss: 0.0385 - incorrectly_received_loss: 0.3804 - delay_exceeded_loss: 0.1741 - queue_overflow_loss: 0.2001 - reliability_accuracy: 0.9858 - incorrectly_received_accuracy: 0.9068 - delay_exceeded_accuracy: 0.9545 - queue_overflow_accuracy: 0.9397 - val_loss: 0.5959 - val_reliability_loss: 0.0016 - val_incorrectly_received_loss: 0.2172 - val_delay_exceeded_loss: 0.1783 - val_queue_overflow_loss: 0.1801 - val_reliability_accuracy: 0.9999 - val_incorrectly_received_accuracy: 0.9563 - val_delay_exceeded_accuracy: 0.9568 - val_queue_overflow_accuracy: 0.9563\n",
      "Epoch 5/30\n",
      "6765/6765 [==============================] - 46s 7ms/step - loss: 0.8014 - reliability_loss: 0.0361 - incorrectly_received_loss: 0.3773 - delay_exceeded_loss: 0.1740 - queue_overflow_loss: 0.1954 - reliability_accuracy: 0.9876 - incorrectly_received_accuracy: 0.9068 - delay_exceeded_accuracy: 0.9545 - queue_overflow_accuracy: 0.9454 - val_loss: 0.5948 - val_reliability_loss: 0.0014 - val_incorrectly_received_loss: 0.2163 - val_delay_exceeded_loss: 0.1786 - val_queue_overflow_loss: 0.1803 - val_reliability_accuracy: 0.9999 - val_incorrectly_received_accuracy: 0.9563 - val_delay_exceeded_accuracy: 0.9568 - val_queue_overflow_accuracy: 0.9563\n",
      "Epoch 6/30\n",
      "6765/6765 [==============================] - 47s 7ms/step - loss: 0.7937 - reliability_loss: 0.0349 - incorrectly_received_loss: 0.3741 - delay_exceeded_loss: 0.1740 - queue_overflow_loss: 0.1928 - reliability_accuracy: 0.9885 - incorrectly_received_accuracy: 0.9068 - delay_exceeded_accuracy: 0.9545 - queue_overflow_accuracy: 0.9464 - val_loss: 0.5904 - val_reliability_loss: 0.0015 - val_incorrectly_received_loss: 0.2125 - val_delay_exceeded_loss: 0.1786 - val_queue_overflow_loss: 0.1802 - val_reliability_accuracy: 0.9999 - val_incorrectly_received_accuracy: 0.9563 - val_delay_exceeded_accuracy: 0.9568 - val_queue_overflow_accuracy: 0.9563\n",
      "Epoch 7/30\n",
      "6765/6765 [==============================] - 46s 7ms/step - loss: 0.7888 - reliability_loss: 0.0344 - incorrectly_received_loss: 0.3717 - delay_exceeded_loss: 0.1740 - queue_overflow_loss: 0.1914 - reliability_accuracy: 0.9887 - incorrectly_received_accuracy: 0.9068 - delay_exceeded_accuracy: 0.9545 - queue_overflow_accuracy: 0.9469 - val_loss: 0.5913 - val_reliability_loss: 0.0015 - val_incorrectly_received_loss: 0.2135 - val_delay_exceeded_loss: 0.1789 - val_queue_overflow_loss: 0.1805 - val_reliability_accuracy: 0.9999 - val_incorrectly_received_accuracy: 0.9563 - val_delay_exceeded_accuracy: 0.9568 - val_queue_overflow_accuracy: 0.9563\n",
      "Epoch 8/30\n",
      "6765/6765 [==============================] - 46s 7ms/step - loss: 0.7853 - reliability_loss: 0.0339 - incorrectly_received_loss: 0.3704 - delay_exceeded_loss: 0.1739 - queue_overflow_loss: 0.1905 - reliability_accuracy: 0.9890 - incorrectly_received_accuracy: 0.9068 - delay_exceeded_accuracy: 0.9545 - queue_overflow_accuracy: 0.9472 - val_loss: 0.5897 - val_reliability_loss: 0.0014 - val_incorrectly_received_loss: 0.2136 - val_delay_exceeded_loss: 0.1785 - val_queue_overflow_loss: 0.1799 - val_reliability_accuracy: 0.9999 - val_incorrectly_received_accuracy: 0.9563 - val_delay_exceeded_accuracy: 0.9568 - val_queue_overflow_accuracy: 0.9563\n",
      "Epoch 9/30\n",
      "6765/6765 [==============================] - 46s 7ms/step - loss: 0.7829 - reliability_loss: 0.0337 - incorrectly_received_loss: 0.3693 - delay_exceeded_loss: 0.1738 - queue_overflow_loss: 0.1901 - reliability_accuracy: 0.9891 - incorrectly_received_accuracy: 0.9068 - delay_exceeded_accuracy: 0.9545 - queue_overflow_accuracy: 0.9473 - val_loss: 0.5901 - val_reliability_loss: 0.0015 - val_incorrectly_received_loss: 0.2124 - val_delay_exceeded_loss: 0.1796 - val_queue_overflow_loss: 0.1809 - val_reliability_accuracy: 0.9999 - val_incorrectly_received_accuracy: 0.9563 - val_delay_exceeded_accuracy: 0.9568 - val_queue_overflow_accuracy: 0.9563\n",
      "Epoch 10/30\n",
      "6765/6765 [==============================] - 46s 7ms/step - loss: 0.7811 - reliability_loss: 0.0337 - incorrectly_received_loss: 0.3686 - delay_exceeded_loss: 0.1736 - queue_overflow_loss: 0.1896 - reliability_accuracy: 0.9891 - incorrectly_received_accuracy: 0.9068 - delay_exceeded_accuracy: 0.9545 - queue_overflow_accuracy: 0.9474 - val_loss: 0.5861 - val_reliability_loss: 0.0014 - val_incorrectly_received_loss: 0.2114 - val_delay_exceeded_loss: 0.1783 - val_queue_overflow_loss: 0.1799 - val_reliability_accuracy: 0.9999 - val_incorrectly_received_accuracy: 0.9563 - val_delay_exceeded_accuracy: 0.9568 - val_queue_overflow_accuracy: 0.9563\n",
      "Epoch 11/30\n",
      "6765/6765 [==============================] - 46s 7ms/step - loss: 0.7793 - reliability_loss: 0.0334 - incorrectly_received_loss: 0.3683 - delay_exceeded_loss: 0.1735 - queue_overflow_loss: 0.1892 - reliability_accuracy: 0.9891 - incorrectly_received_accuracy: 0.9068 - delay_exceeded_accuracy: 0.9545 - queue_overflow_accuracy: 0.9475 - val_loss: 0.5874 - val_reliability_loss: 0.0019 - val_incorrectly_received_loss: 0.2121 - val_delay_exceeded_loss: 0.1788 - val_queue_overflow_loss: 0.1801 - val_reliability_accuracy: 0.9999 - val_incorrectly_received_accuracy: 0.9563 - val_delay_exceeded_accuracy: 0.9568 - val_queue_overflow_accuracy: 0.9563\n",
      "Epoch 12/30\n",
      "6765/6765 [==============================] - 46s 7ms/step - loss: 0.7786 - reliability_loss: 0.0333 - incorrectly_received_loss: 0.3682 - delay_exceeded_loss: 0.1736 - queue_overflow_loss: 0.1892 - reliability_accuracy: 0.9892 - incorrectly_received_accuracy: 0.9068 - delay_exceeded_accuracy: 0.9545 - queue_overflow_accuracy: 0.9477 - val_loss: 0.5849 - val_reliability_loss: 0.0014 - val_incorrectly_received_loss: 0.2112 - val_delay_exceeded_loss: 0.1785 - val_queue_overflow_loss: 0.1798 - val_reliability_accuracy: 0.9999 - val_incorrectly_received_accuracy: 0.9563 - val_delay_exceeded_accuracy: 0.9568 - val_queue_overflow_accuracy: 0.9563\n",
      "Epoch 13/30\n",
      "6765/6765 [==============================] - 46s 7ms/step - loss: 0.7764 - reliability_loss: 0.0329 - incorrectly_received_loss: 0.3675 - delay_exceeded_loss: 0.1735 - queue_overflow_loss: 0.1885 - reliability_accuracy: 0.9895 - incorrectly_received_accuracy: 0.9068 - delay_exceeded_accuracy: 0.9545 - queue_overflow_accuracy: 0.9480 - val_loss: 0.5891 - val_reliability_loss: 0.0016 - val_incorrectly_received_loss: 0.2124 - val_delay_exceeded_loss: 0.1797 - val_queue_overflow_loss: 0.1815 - val_reliability_accuracy: 0.9999 - val_incorrectly_received_accuracy: 0.9563 - val_delay_exceeded_accuracy: 0.9568 - val_queue_overflow_accuracy: 0.9563\n",
      "Epoch 14/30\n",
      "6765/6765 [==============================] - 46s 7ms/step - loss: 0.7756 - reliability_loss: 0.0330 - incorrectly_received_loss: 0.3671 - delay_exceeded_loss: 0.1733 - queue_overflow_loss: 0.1886 - reliability_accuracy: 0.9894 - incorrectly_received_accuracy: 0.9068 - delay_exceeded_accuracy: 0.9545 - queue_overflow_accuracy: 0.9480 - val_loss: 0.5849 - val_reliability_loss: 0.0014 - val_incorrectly_received_loss: 0.2117 - val_delay_exceeded_loss: 0.1784 - val_queue_overflow_loss: 0.1799 - val_reliability_accuracy: 0.9999 - val_incorrectly_received_accuracy: 0.9563 - val_delay_exceeded_accuracy: 0.9568 - val_queue_overflow_accuracy: 0.9563\n",
      "Epoch 15/30\n",
      "6765/6765 [==============================] - 46s 7ms/step - loss: 0.7735 - reliability_loss: 0.0325 - incorrectly_received_loss: 0.3666 - delay_exceeded_loss: 0.1732 - queue_overflow_loss: 0.1878 - reliability_accuracy: 0.9897 - incorrectly_received_accuracy: 0.9068 - delay_exceeded_accuracy: 0.9545 - queue_overflow_accuracy: 0.9483 - val_loss: 0.5861 - val_reliability_loss: 0.0015 - val_incorrectly_received_loss: 0.2116 - val_delay_exceeded_loss: 0.1794 - val_queue_overflow_loss: 0.1805 - val_reliability_accuracy: 0.9999 - val_incorrectly_received_accuracy: 0.9563 - val_delay_exceeded_accuracy: 0.9568 - val_queue_overflow_accuracy: 0.9563\n",
      "Epoch 16/30\n",
      "6765/6765 [==============================] - 46s 7ms/step - loss: 0.7737 - reliability_loss: 0.0326 - incorrectly_received_loss: 0.3670 - delay_exceeded_loss: 0.1730 - queue_overflow_loss: 0.1881 - reliability_accuracy: 0.9896 - incorrectly_received_accuracy: 0.9068 - delay_exceeded_accuracy: 0.9545 - queue_overflow_accuracy: 0.9481 - val_loss: 0.5852 - val_reliability_loss: 0.0013 - val_incorrectly_received_loss: 0.2117 - val_delay_exceeded_loss: 0.1789 - val_queue_overflow_loss: 0.1803 - val_reliability_accuracy: 0.9999 - val_incorrectly_received_accuracy: 0.9563 - val_delay_exceeded_accuracy: 0.9568 - val_queue_overflow_accuracy: 0.9563\n",
      "Epoch 17/30\n",
      "6765/6765 [==============================] - 46s 7ms/step - loss: 0.7726 - reliability_loss: 0.0326 - incorrectly_received_loss: 0.3666 - delay_exceeded_loss: 0.1727 - queue_overflow_loss: 0.1878 - reliability_accuracy: 0.9899 - incorrectly_received_accuracy: 0.9068 - delay_exceeded_accuracy: 0.9545 - queue_overflow_accuracy: 0.9482 - val_loss: 0.5840 - val_reliability_loss: 0.0015 - val_incorrectly_received_loss: 0.2112 - val_delay_exceeded_loss: 0.1786 - val_queue_overflow_loss: 0.1799 - val_reliability_accuracy: 0.9999 - val_incorrectly_received_accuracy: 0.9563 - val_delay_exceeded_accuracy: 0.9568 - val_queue_overflow_accuracy: 0.9563\n",
      "Epoch 18/30\n",
      "6765/6765 [==============================] - 46s 7ms/step - loss: 0.7712 - reliability_loss: 0.0323 - incorrectly_received_loss: 0.3663 - delay_exceeded_loss: 0.1725 - queue_overflow_loss: 0.1875 - reliability_accuracy: 0.9899 - incorrectly_received_accuracy: 0.9068 - delay_exceeded_accuracy: 0.9545 - queue_overflow_accuracy: 0.9485 - val_loss: 0.5849 - val_reliability_loss: 0.0015 - val_incorrectly_received_loss: 0.2116 - val_delay_exceeded_loss: 0.1789 - val_queue_overflow_loss: 0.1804 - val_reliability_accuracy: 0.9999 - val_incorrectly_received_accuracy: 0.9563 - val_delay_exceeded_accuracy: 0.9568 - val_queue_overflow_accuracy: 0.9563\n",
      "Epoch 19/30\n",
      "6765/6765 [==============================] - 46s 7ms/step - loss: 0.7739 - reliability_loss: 0.0334 - incorrectly_received_loss: 0.3669 - delay_exceeded_loss: 0.1723 - queue_overflow_loss: 0.1889 - reliability_accuracy: 0.9895 - incorrectly_received_accuracy: 0.9068 - delay_exceeded_accuracy: 0.9545 - queue_overflow_accuracy: 0.9479 - val_loss: 0.5838 - val_reliability_loss: 0.0014 - val_incorrectly_received_loss: 0.2116 - val_delay_exceeded_loss: 0.1785 - val_queue_overflow_loss: 0.1802 - val_reliability_accuracy: 0.9999 - val_incorrectly_received_accuracy: 0.9563 - val_delay_exceeded_accuracy: 0.9568 - val_queue_overflow_accuracy: 0.9563\n",
      "Epoch 20/30\n",
      "6765/6765 [==============================] - 46s 7ms/step - loss: 0.7705 - reliability_loss: 0.0326 - incorrectly_received_loss: 0.3664 - delay_exceeded_loss: 0.1720 - queue_overflow_loss: 0.1876 - reliability_accuracy: 0.9897 - incorrectly_received_accuracy: 0.9068 - delay_exceeded_accuracy: 0.9545 - queue_overflow_accuracy: 0.9484 - val_loss: 0.5853 - val_reliability_loss: 0.0019 - val_incorrectly_received_loss: 0.2120 - val_delay_exceeded_loss: 0.1788 - val_queue_overflow_loss: 0.1808 - val_reliability_accuracy: 0.9999 - val_incorrectly_received_accuracy: 0.9563 - val_delay_exceeded_accuracy: 0.9568 - val_queue_overflow_accuracy: 0.9563\n",
      "Epoch 21/30\n",
      "6765/6765 [==============================] - 46s 7ms/step - loss: 0.7697 - reliability_loss: 0.0327 - incorrectly_received_loss: 0.3662 - delay_exceeded_loss: 0.1719 - queue_overflow_loss: 0.1874 - reliability_accuracy: 0.9897 - incorrectly_received_accuracy: 0.9068 - delay_exceeded_accuracy: 0.9545 - queue_overflow_accuracy: 0.9484 - val_loss: 0.5829 - val_reliability_loss: 0.0015 - val_incorrectly_received_loss: 0.2113 - val_delay_exceeded_loss: 0.1787 - val_queue_overflow_loss: 0.1800 - val_reliability_accuracy: 0.9999 - val_incorrectly_received_accuracy: 0.9564 - val_delay_exceeded_accuracy: 0.9568 - val_queue_overflow_accuracy: 0.9563\n",
      "Epoch 22/30\n",
      "6765/6765 [==============================] - 46s 7ms/step - loss: 0.7680 - reliability_loss: 0.0323 - incorrectly_received_loss: 0.3658 - delay_exceeded_loss: 0.1716 - queue_overflow_loss: 0.1869 - reliability_accuracy: 0.9899 - incorrectly_received_accuracy: 0.9068 - delay_exceeded_accuracy: 0.9545 - queue_overflow_accuracy: 0.9485 - val_loss: 0.5840 - val_reliability_loss: 0.0014 - val_incorrectly_received_loss: 0.2122 - val_delay_exceeded_loss: 0.1789 - val_queue_overflow_loss: 0.1803 - val_reliability_accuracy: 0.9999 - val_incorrectly_received_accuracy: 0.9563 - val_delay_exceeded_accuracy: 0.9568 - val_queue_overflow_accuracy: 0.9563\n",
      "Epoch 23/30\n",
      "6765/6765 [==============================] - 46s 7ms/step - loss: 0.7667 - reliability_loss: 0.0322 - incorrectly_received_loss: 0.3654 - delay_exceeded_loss: 0.1715 - queue_overflow_loss: 0.1864 - reliability_accuracy: 0.9899 - incorrectly_received_accuracy: 0.9068 - delay_exceeded_accuracy: 0.9545 - queue_overflow_accuracy: 0.9487 - val_loss: 0.5834 - val_reliability_loss: 0.0015 - val_incorrectly_received_loss: 0.2117 - val_delay_exceeded_loss: 0.1789 - val_queue_overflow_loss: 0.1803 - val_reliability_accuracy: 0.9999 - val_incorrectly_received_accuracy: 0.9563 - val_delay_exceeded_accuracy: 0.9568 - val_queue_overflow_accuracy: 0.9563\n",
      "Epoch 24/30\n",
      "6765/6765 [==============================] - 46s 7ms/step - loss: 0.7636 - reliability_loss: 0.0322 - incorrectly_received_loss: 0.3640 - delay_exceeded_loss: 0.1710 - queue_overflow_loss: 0.1855 - reliability_accuracy: 0.9900 - incorrectly_received_accuracy: 0.9068 - delay_exceeded_accuracy: 0.9545 - queue_overflow_accuracy: 0.9488 - val_loss: 0.5826 - val_reliability_loss: 0.0020 - val_incorrectly_received_loss: 0.2114 - val_delay_exceeded_loss: 0.1784 - val_queue_overflow_loss: 0.1799 - val_reliability_accuracy: 0.9999 - val_incorrectly_received_accuracy: 0.9563 - val_delay_exceeded_accuracy: 0.9568 - val_queue_overflow_accuracy: 0.9563\n",
      "Epoch 25/30\n",
      "6765/6765 [==============================] - 47s 7ms/step - loss: 0.7572 - reliability_loss: 0.0317 - incorrectly_received_loss: 0.3619 - delay_exceeded_loss: 0.1696 - queue_overflow_loss: 0.1831 - reliability_accuracy: 0.9904 - incorrectly_received_accuracy: 0.9068 - delay_exceeded_accuracy: 0.9545 - queue_overflow_accuracy: 0.9493 - val_loss: 0.5834 - val_reliability_loss: 0.0018 - val_incorrectly_received_loss: 0.2124 - val_delay_exceeded_loss: 0.1782 - val_queue_overflow_loss: 0.1801 - val_reliability_accuracy: 0.9999 - val_incorrectly_received_accuracy: 0.9563 - val_delay_exceeded_accuracy: 0.9568 - val_queue_overflow_accuracy: 0.9563\n",
      "Epoch 26/30\n",
      "6765/6765 [==============================] - 46s 7ms/step - loss: 0.7545 - reliability_loss: 0.0315 - incorrectly_received_loss: 0.3612 - delay_exceeded_loss: 0.1687 - queue_overflow_loss: 0.1823 - reliability_accuracy: 0.9904 - incorrectly_received_accuracy: 0.9068 - delay_exceeded_accuracy: 0.9545 - queue_overflow_accuracy: 0.9494 - val_loss: 0.5857 - val_reliability_loss: 0.0017 - val_incorrectly_received_loss: 0.2126 - val_delay_exceeded_loss: 0.1795 - val_queue_overflow_loss: 0.1812 - val_reliability_accuracy: 0.9999 - val_incorrectly_received_accuracy: 0.9563 - val_delay_exceeded_accuracy: 0.9568 - val_queue_overflow_accuracy: 0.9563\n",
      "Epoch 27/30\n",
      "6765/6765 [==============================] - 46s 7ms/step - loss: 0.7521 - reliability_loss: 0.0314 - incorrectly_received_loss: 0.3604 - delay_exceeded_loss: 0.1681 - queue_overflow_loss: 0.1815 - reliability_accuracy: 0.9904 - incorrectly_received_accuracy: 0.9068 - delay_exceeded_accuracy: 0.9545 - queue_overflow_accuracy: 0.9493 - val_loss: 0.5817 - val_reliability_loss: 0.0016 - val_incorrectly_received_loss: 0.2110 - val_delay_exceeded_loss: 0.1783 - val_queue_overflow_loss: 0.1801 - val_reliability_accuracy: 0.9999 - val_incorrectly_received_accuracy: 0.9563 - val_delay_exceeded_accuracy: 0.9568 - val_queue_overflow_accuracy: 0.9563\n",
      "Epoch 28/30\n",
      "6765/6765 [==============================] - 46s 7ms/step - loss: 0.7507 - reliability_loss: 0.0313 - incorrectly_received_loss: 0.3602 - delay_exceeded_loss: 0.1676 - queue_overflow_loss: 0.1811 - reliability_accuracy: 0.9905 - incorrectly_received_accuracy: 0.9068 - delay_exceeded_accuracy: 0.9547 - queue_overflow_accuracy: 0.9499 - val_loss: 0.5812 - val_reliability_loss: 0.0016 - val_incorrectly_received_loss: 0.2109 - val_delay_exceeded_loss: 0.1783 - val_queue_overflow_loss: 0.1798 - val_reliability_accuracy: 0.9999 - val_incorrectly_received_accuracy: 0.9563 - val_delay_exceeded_accuracy: 0.9568 - val_queue_overflow_accuracy: 0.9563\n",
      "Epoch 29/30\n",
      "6765/6765 [==============================] - 46s 7ms/step - loss: 0.7502 - reliability_loss: 0.0313 - incorrectly_received_loss: 0.3605 - delay_exceeded_loss: 0.1671 - queue_overflow_loss: 0.1808 - reliability_accuracy: 0.9904 - incorrectly_received_accuracy: 0.9068 - delay_exceeded_accuracy: 0.9565 - queue_overflow_accuracy: 0.9521 - val_loss: 0.5805 - val_reliability_loss: 0.0013 - val_incorrectly_received_loss: 0.2108 - val_delay_exceeded_loss: 0.1782 - val_queue_overflow_loss: 0.1797 - val_reliability_accuracy: 0.9999 - val_incorrectly_received_accuracy: 0.9563 - val_delay_exceeded_accuracy: 0.9568 - val_queue_overflow_accuracy: 0.9563\n",
      "Epoch 30/30\n",
      "6765/6765 [==============================] - 46s 7ms/step - loss: 0.7490 - reliability_loss: 0.0313 - incorrectly_received_loss: 0.3603 - delay_exceeded_loss: 0.1665 - queue_overflow_loss: 0.1804 - reliability_accuracy: 0.9905 - incorrectly_received_accuracy: 0.9068 - delay_exceeded_accuracy: 0.9573 - queue_overflow_accuracy: 0.9524 - val_loss: 0.5846 - val_reliability_loss: 0.0014 - val_incorrectly_received_loss: 0.2117 - val_delay_exceeded_loss: 0.1811 - val_queue_overflow_loss: 0.1799 - val_reliability_accuracy: 0.9999 - val_incorrectly_received_accuracy: 0.9563 - val_delay_exceeded_accuracy: 0.9568 - val_queue_overflow_accuracy: 0.9563\n"
     ]
    }
   ],
   "source": [
    "# KL Divergence loss function\n",
    "# Ref: https://colab.research.google.com/github/tensorchiefs/dl_book/blob/master/chapter_08/nb_ch08_03.ipynb#scrollTo=if4YhGgNzqnv\n",
    "# Ref: https://github.com/tensorflow/probability/blob/main/tensorflow_probability/examples/bayesian_neural_network.py\n",
    "kernel_divergence_fn=lambda q, p, _: tfp.distributions.kl_divergence(q, p) / (len(X_train_all))\n",
    "bias_divergence_fn=lambda q, p, _: tfp.distributions.kl_divergence(q, p) / (len(X_train_all))\n",
    "\n",
    "inputs = Input(shape=(5,))\n",
    "base = tfp.layers.DenseFlipout(50, kernel_divergence_fn=kernel_divergence_fn, bias_divergence_fn=bias_divergence_fn, activation='relu')(inputs)\n",
    "base = tfp.layers.DenseFlipout(25, kernel_divergence_fn=kernel_divergence_fn, bias_divergence_fn=bias_divergence_fn, activation='relu')(base)\n",
    "base = tfp.layers.DenseFlipout(10, kernel_divergence_fn=kernel_divergence_fn, bias_divergence_fn=bias_divergence_fn, activation='relu')(base)\n",
    "reliability_hl = tfp.layers.DenseFlipout(10, kernel_divergence_fn=kernel_divergence_fn, bias_divergence_fn=bias_divergence_fn, activation='relu')(base)\n",
    "incr_rcvd_out_hl = tfp.layers.DenseFlipout(10, kernel_divergence_fn=kernel_divergence_fn, bias_divergence_fn=bias_divergence_fn, activation='relu')(base)\n",
    "delay_excd_hl = tfp.layers.DenseFlipout(10, kernel_divergence_fn=kernel_divergence_fn, bias_divergence_fn=bias_divergence_fn, activation='relu')(base)\n",
    "queue_overflow_hl = tfp.layers.DenseFlipout(10, kernel_divergence_fn=kernel_divergence_fn, bias_divergence_fn=bias_divergence_fn, activation='relu')(base)\n",
    "reliability_out = tfp.layers.DenseFlipout(2, kernel_divergence_fn=kernel_divergence_fn, bias_divergence_fn=bias_divergence_fn, activation='softmax', name='reliability')(reliability_hl)\n",
    "incr_rcvd_out = tfp.layers.DenseFlipout(8, kernel_divergence_fn=kernel_divergence_fn, bias_divergence_fn=bias_divergence_fn, activation='softmax', name='incorrectly_received')(incr_rcvd_out_hl)\n",
    "delay_excd_out = tfp.layers.DenseFlipout(2, kernel_divergence_fn=kernel_divergence_fn, bias_divergence_fn=bias_divergence_fn, activation='softmax', name='delay_exceeded')(delay_excd_hl)\n",
    "queue_overflow_out = tfp.layers.DenseFlipout(2, kernel_divergence_fn=kernel_divergence_fn, bias_divergence_fn=bias_divergence_fn, activation='softmax', name='queue_overflow')(queue_overflow_hl)\n",
    "model = Model(inputs=inputs, outputs = [reliability_out, incr_rcvd_out, delay_excd_out, queue_overflow_out])\n",
    "\n",
    "# Compile the model\n",
    "'''\n",
    "The loss functions are crossentropy, for classification. \n",
    "The Keras API will then automatically add the Kullback-Leibler divergence (contained on the individual layers of\n",
    "the model), to the cross entropy loss, effectively calcuating the (negated) Evidence Lower Bound Loss (ELBO).\n",
    "Ref: https://github.com/tensorflow/probability/blob/main/tensorflow_probability/examples/bayesian_neural_network.py\n",
    "'''\n",
    "model.compile(optimizer='adam', \n",
    "              loss={'reliability': 'binary_crossentropy',\n",
    "                    'incorrectly_received': 'categorical_crossentropy',\n",
    "                    'delay_exceeded': 'binary_crossentropy',\n",
    "                    'queue_overflow': 'binary_crossentropy'},\n",
    "              metrics={'reliability': 'accuracy',\n",
    "                    'incorrectly_received': 'accuracy',\n",
    "                    'delay_exceeded': 'accuracy',\n",
    "                    'queue_overflow': 'accuracy'},)\n",
    "\n",
    "model_checkpoint_callback = keras.callbacks.ModelCheckpoint(\n",
    "    filepath=os.path.join(checkpoint_filepath,\"model.{epoch:03d}-{val_loss:.4f}.h5\"),\n",
    "    save_weights_only=True,\n",
    "    monitor='val_loss',\n",
    "    mode='auto',\n",
    "    save_freq='epoch')\n",
    "\n",
    "# Y_train = [reliability_train, incr_rcvd_train, delay_excd_train, queue_overflow_train]\n",
    "Y_train_all = [reliability_train_all, incr_rcvd_train_all, delay_excd_train_all, queue_overflow_train_all]\n",
    "Y_test = [reliability_test, incr_rcvd_test, delay_excd_test, queue_overflow_test]\n",
    "history = model.fit(X_train_all, Y_train_all, epochs=EPOCHS, callbacks=[model_checkpoint_callback], validation_data=(X_test, Y_test))\n",
    "with open(os.path.join(checkpoint_filepath, 'trainHistoryDict_19042023'), 'wb') as file_pi:\n",
    "    pickle.dump(history.history, file_pi)\n",
    "\n",
    "# Save final model\n",
    "model.save(os.path.join(checkpoint_filepath,\"final_model.h5\"))"
   ]
  }
 ],
 "metadata": {
  "kernelspec": {
   "display_name": "Python 3",
   "language": "python",
   "name": "python3"
  },
  "language_info": {
   "codemirror_mode": {
    "name": "ipython",
    "version": 3
   },
   "file_extension": ".py",
   "mimetype": "text/x-python",
   "name": "python",
   "nbconvert_exporter": "python",
   "pygments_lexer": "ipython3",
   "version": "3.8.10"
  },
  "orig_nbformat": 4
 },
 "nbformat": 4,
 "nbformat_minor": 2
}
