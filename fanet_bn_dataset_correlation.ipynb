{
 "cells": [
  {
   "attachments": {},
   "cell_type": "markdown",
   "metadata": {},
   "source": [
    "# Compute correlation between variables\n",
    "Date: 28/02/2023"
   ]
  },
  {
   "cell_type": "code",
   "execution_count": 14,
   "metadata": {},
   "outputs": [],
   "source": [
    "import pandas as pd # for data manipulation \n",
    "import numpy as np\n",
    "import os, sys, glob, math, pickle\n",
    "import scipy.stats as stats\n",
    "from sklearn.feature_selection import mutual_info_classif, mutual_info_regression\n",
    "from sklearn import preprocessing\n",
    "\n",
    "# This function helps to calculate probability distribution, which goes into BBN (note, can handle up to 2 parents)\n",
    "def cpt_probs(df, child, parents):\n",
    "    try:\n",
    "        # dependencies_arr = [pd.Categorical(df[parent],categories=df[parent].cat.categories.tolist()) for parent in parents]\n",
    "        dependencies_arr = [df[parent] for parent in parents]\n",
    "        # cpt = pd.crosstab(dependencies_arr, df[child], rownames=parents, colnames=[child], margins=False, normalize='index', dropna=False).sort_index().to_numpy().reshape(-1).tolist()\n",
    "        cpt = pd.crosstab(dependencies_arr, df[child], rownames=parents, colnames=[child], margins=False, normalize='index', dropna=False).sort_index()\n",
    "        return cpt\n",
    "    except Exception as err:\n",
    "        print(err)\n",
    "        return None \n",
    "\n",
    "def cpt_probs_freq(df, child, parents):\n",
    "    try:\n",
    "        # dependencies_arr = [pd.Categorical(df[parent],categories=df[parent].cat.categories.tolist()) for parent in parents]\n",
    "        dependencies_arr = [df[parent] for parent in parents]\n",
    "        # cpt = pd.crosstab(dependencies_arr, df[child], rownames=parents, colnames=[child], margins=False, normalize='index', dropna=False).sort_index().to_numpy().reshape(-1).tolist()\n",
    "        cpt = pd.crosstab(dependencies_arr, df[child], rownames=parents, colnames=[child], margins=False, dropna=False).sort_index()\n",
    "        return cpt\n",
    "    except Exception as err:\n",
    "        print(err)\n",
    "        return None \n",
    "\n",
    "# Load classes_df for later parts (if previous part not run)\n",
    "classes_df = pd.read_hdf(\"/media/research-student/One Touch/FANET Datasets/Dataset_NP10000_BPSK_6-5Mbps/classes_df_downlink.h5\", 'Downlink')"
   ]
  },
  {
   "cell_type": "code",
   "execution_count": 2,
   "metadata": {},
   "outputs": [],
   "source": [
    "df = pd.read_hdf(\"/home/research-student/omnetpp_sim_results/Test_Dataset_BPSK_6-5Mbps/Taguchi_Test_Cases_downlink.h5\", \"Downlink\")\n",
    "sinr_bins = np.load(\"/home/research-student/omnet-fanet/cpt/Downlink/sinr_bins_dl.npy\")\n",
    "ber_bins = np.load(\"/home/research-student/omnet-fanet/cpt/Downlink/ber_bins_dl.npy\")\n",
    "delay_bins = np.load(\"/home/research-student/omnet-fanet/cpt/Downlink/delay_bins_dl.npy\")\n",
    "queueing_time_bins = np.load(\"/home/research-student/omnet-fanet/cpt/Downlink/queueing_time_bins_dl.npy\")\n",
    "throughput_bins = np.load(\"/home/research-student/omnet-fanet/cpt/Downlink/throughput_bins_dl.npy\")\n",
    "jitter_bins = np.load(\"/home/research-student/omnet-fanet/cpt/Downlink/jitter_bins_dl.npy\")\n",
    "delay_threshold = 0.04\n",
    "\n",
    "df = df[df['U2G_SINR'].notna()] # Filter out rows with missing crucial information\n",
    "classes_df = pd.DataFrame() # Created an empty df to store classes data to reduce size of df that need to work with\n",
    "# First, discretise the values to classes\n",
    "h_dist_labels = ['vs','s','m','l','vl']\n",
    "height_labels = ['vs','s','m','l','vl']\n",
    "num_members_labels = ['vs','s','m','l','vl']\n",
    "sending_interval_labels = ['vs','s','m','l','vl']\n",
    "pkt_size_labels = ['vs','s','m','l','vl']\n",
    "sinr_labels = ['vs','s','m','l','vl']\n",
    "delay_labels = ['vs','s','m','l','vl']\n",
    "throughput_labels = ['s','m','l']\n",
    "queueing_labels = ['s','m','l']\n",
    "ber_labels = ['vs','s','m','l','vl']\n",
    "jitter_labels = ['s','m','l']\n",
    "\n",
    "# Independent vars\n",
    "classes_df[\"H_Dist_Class\"] = pd.cut(df.U2G_H_Dist, [0,100,200,300,400,501], right=False, include_lowest=True, labels=h_dist_labels)\n",
    "classes_df[\"Height_Class\"] = pd.cut(df.Height, [1,25,49,73,97,121], right=False, include_lowest=True, labels=height_labels)\n",
    "classes_df[\"Num_Members_Class\"] = pd.cut(df.Num_Members, [2,8,16,24,32,40], right=False, include_lowest=True, labels=num_members_labels)\n",
    "classes_df[\"Sending_Interval_Class\"] = pd.cut(df.Mean_Sending_Interval, [40,232,424,616,808,1000], right=False, include_lowest=True, labels=sending_interval_labels)\n",
    "classes_df[\"Packet_Size_Class\"] = pd.cut(df.Bytes, [24,248,472,696,920,1144], right=False, include_lowest=True, labels=pkt_size_labels)\n",
    "# Second layer\n",
    "classes_df[\"SINR_Class\"] = pd.cut(df.U2G_SINR, sinr_bins, right=False, include_lowest=True, labels=sinr_labels)\n",
    "classes_df[\"Delay_Class\"] = pd.cut(df.Delay, delay_bins, right=False, include_lowest=True, labels=delay_labels)\n",
    "classes_df[\"Throughput_Class\"] = pd.cut(df.Throughput, throughput_bins, right=False, include_lowest=True, labels=throughput_labels)\n",
    "classes_df[\"Queueing_Time_Class\"] = pd.cut(df.Queueing_Time, queueing_time_bins, right=False, include_lowest=True, labels=queueing_labels)\n",
    "classes_df[\"BER_Class\"] = pd.cut(df.U2G_BER, ber_bins, right=False, include_lowest=True, labels=ber_labels)\n",
    "classes_df[\"Jitter_Class\"] = pd.cut(df.Jitter, jitter_bins, right=False, include_lowest=True, labels=jitter_labels)\n",
    "# Output vars\n",
    "classes_df[\"Reliable\"] = (df[\"Packet_State\"] == \"Reliable\")\n",
    "classes_df[\"Delay_Exceeded\"] = (df[\"Delay\"] >= delay_threshold)\n",
    "classes_df[\"Incorrectly_Received\"] = df[\"Incorrectly_Received\"]\n",
    "classes_df[\"Queue_Overflow\"] = df[\"Queue_Overflow\"]"
   ]
  },
  {
   "attachments": {},
   "cell_type": "markdown",
   "metadata": {},
   "source": [
    "## Numeric Label Encoding"
   ]
  },
  {
   "cell_type": "code",
   "execution_count": 15,
   "metadata": {},
   "outputs": [],
   "source": [
    "label_encoder = preprocessing.LabelEncoder()\n",
    "\n",
    "sinr_label = label_encoder.fit_transform(classes_df[\"SINR_Class\"])\n",
    "h_dist_label = label_encoder.fit_transform(classes_df[\"H_Dist_Class\"])\n",
    "height_label = label_encoder.fit_transform(classes_df[\"Height_Class\"])\n",
    "num_members_label = label_encoder.fit_transform(classes_df[\"Num_Members_Class\"])\n",
    "sending_interval_label = label_encoder.fit_transform(classes_df[\"Sending_Interval_Class\"])\n",
    "packet_size_label = label_encoder.fit_transform(classes_df[\"Packet_Size_Class\"])\n",
    "ber_label = label_encoder.fit_transform(classes_df[\"BER_Class\"])\n",
    "delay_label = label_encoder.fit_transform(classes_df[\"Delay_Class\"])\n",
    "incr_rcvd_label = label_encoder.fit_transform(classes_df[\"Incorrectly_Received\"])\n",
    "delay_excd_label = label_encoder.fit_transform(classes_df[\"Delay_Exceeded\"])\n",
    "q_overflow_label = label_encoder.fit_transform(classes_df[\"Queue_Overflow\"])\n",
    "reliability_label = label_encoder.fit_transform(classes_df[\"Reliable\"])"
   ]
  },
  {
   "attachments": {},
   "cell_type": "markdown",
   "metadata": {},
   "source": [
    "## SINR Parents Correlation"
   ]
  },
  {
   "cell_type": "code",
   "execution_count": 4,
   "metadata": {},
   "outputs": [
    {
     "name": "stderr",
     "output_type": "stream",
     "text": [
      "/home/research-student/.local/lib/python3.8/site-packages/sklearn/utils/validation.py:1143: DataConversionWarning: A column-vector y was passed when a 1d array was expected. Please change the shape of y to (n_samples, ), for example using ravel().\n",
      "  y = column_or_1d(y, warn=True)\n"
     ]
    },
    {
     "name": "stdout",
     "output_type": "stream",
     "text": [
      "H_Dist - MI: [0.18276803], Spearman: SpearmanrResult(correlation=0.13268623971959298, pvalue=0.0)\n"
     ]
    },
    {
     "name": "stderr",
     "output_type": "stream",
     "text": [
      "/home/research-student/.local/lib/python3.8/site-packages/sklearn/utils/validation.py:1143: DataConversionWarning: A column-vector y was passed when a 1d array was expected. Please change the shape of y to (n_samples, ), for example using ravel().\n",
      "  y = column_or_1d(y, warn=True)\n"
     ]
    },
    {
     "name": "stdout",
     "output_type": "stream",
     "text": [
      "Height - MI: [0.03522527], Spearman: SpearmanrResult(correlation=-0.008745487945455052, pvalue=2.083896190466109e-25)\n"
     ]
    },
    {
     "name": "stderr",
     "output_type": "stream",
     "text": [
      "/home/research-student/.local/lib/python3.8/site-packages/sklearn/utils/validation.py:1143: DataConversionWarning: A column-vector y was passed when a 1d array was expected. Please change the shape of y to (n_samples, ), for example using ravel().\n",
      "  y = column_or_1d(y, warn=True)\n"
     ]
    },
    {
     "name": "stdout",
     "output_type": "stream",
     "text": [
      "num_members - MI: [0.02762724], Spearman: SpearmanrResult(correlation=-0.013280269195818253, pvalue=2.3302788492987965e-56)\n"
     ]
    },
    {
     "name": "stderr",
     "output_type": "stream",
     "text": [
      "/home/research-student/.local/lib/python3.8/site-packages/sklearn/utils/validation.py:1143: DataConversionWarning: A column-vector y was passed when a 1d array was expected. Please change the shape of y to (n_samples, ), for example using ravel().\n",
      "  y = column_or_1d(y, warn=True)\n"
     ]
    },
    {
     "name": "stdout",
     "output_type": "stream",
     "text": [
      "sending_interval - MI: [0.02764631], Spearman: SpearmanrResult(correlation=0.009657167547077418, pvalue=1.2819112752507408e-30)\n"
     ]
    },
    {
     "name": "stderr",
     "output_type": "stream",
     "text": [
      "/home/research-student/.local/lib/python3.8/site-packages/sklearn/utils/validation.py:1143: DataConversionWarning: A column-vector y was passed when a 1d array was expected. Please change the shape of y to (n_samples, ), for example using ravel().\n",
      "  y = column_or_1d(y, warn=True)\n"
     ]
    },
    {
     "name": "stdout",
     "output_type": "stream",
     "text": [
      "packet_size - MI: [0.02765075], Spearman: SpearmanrResult(correlation=-0.0008612132801843746, pvalue=0.30500882502533744)\n"
     ]
    },
    {
     "name": "stderr",
     "output_type": "stream",
     "text": [
      "/home/research-student/.local/lib/python3.8/site-packages/sklearn/utils/validation.py:1143: DataConversionWarning: A column-vector y was passed when a 1d array was expected. Please change the shape of y to (n_samples, ), for example using ravel().\n",
      "  y = column_or_1d(y, warn=True)\n"
     ]
    },
    {
     "name": "stdout",
     "output_type": "stream",
     "text": [
      "packet_size - MI: [0.66961138], Spearman: SpearmanrResult(correlation=0.11642402538876358, pvalue=0.0)\n"
     ]
    }
   ],
   "source": [
    "mi_hdist_sinr = mutual_info_classif(h_dist_label.reshape(-1,1), sinr_label.reshape(-1,1))\n",
    "rho_hdist_sinr = stats.spearmanr(h_dist_label, sinr_label)\n",
    "print(\"H_Dist to SINR - MI: {}, Spearman: {}\".format(mi_hdist_sinr, rho_hdist_sinr))\n",
    "mi_height_sinr = mutual_info_classif(height_label.reshape(-1,1), sinr_label.reshape(-1,1))\n",
    "rho_height_sinr = stats.spearmanr(height_label, sinr_label)\n",
    "print(\"Height to SINR - MI: {}, Spearman: {}\".format(mi_height_sinr, rho_height_sinr))\n",
    "mi_num_members_sinr = mutual_info_classif(num_members_label.reshape(-1,1), sinr_label.reshape(-1,1))\n",
    "rho_num_members_sinr = stats.spearmanr(num_members_label, sinr_label)\n",
    "print(\"num_members to SINR - MI: {}, Spearman: {}\".format(mi_num_members_sinr, rho_num_members_sinr))\n",
    "mi_sending_interval_sinr = mutual_info_classif(sending_interval_label.reshape(-1,1), sinr_label.reshape(-1,1))\n",
    "rho_sending_interval_sinr = stats.spearmanr(sending_interval_label, sinr_label)\n",
    "print(\"sending_interval to SINR - MI: {}, Spearman: {}\".format(mi_sending_interval_sinr, rho_sending_interval_sinr))\n",
    "mi_packet_size_sinr = mutual_info_classif(packet_size_label.reshape(-1,1), sinr_label.reshape(-1,1))\n",
    "rho_packet_size_sinr = stats.spearmanr(packet_size_label, sinr_label)\n",
    "print(\"packet_size to SINR - MI: {}, Spearman: {}\".format(mi_packet_size_sinr, rho_packet_size_sinr))"
   ]
  },
  {
   "attachments": {},
   "cell_type": "markdown",
   "metadata": {},
   "source": [
    "## BER Parents Correlation"
   ]
  },
  {
   "cell_type": "code",
   "execution_count": 9,
   "metadata": {},
   "outputs": [
    {
     "name": "stderr",
     "output_type": "stream",
     "text": [
      "/home/research-student/.local/lib/python3.8/site-packages/sklearn/utils/validation.py:1143: DataConversionWarning: A column-vector y was passed when a 1d array was expected. Please change the shape of y to (n_samples, ), for example using ravel().\n",
      "  y = column_or_1d(y, warn=True)\n"
     ]
    },
    {
     "name": "stdout",
     "output_type": "stream",
     "text": [
      "BER to SINR - MI: [0.46439216], Spearman: SpearmanrResult(correlation=0.11642402538876358, pvalue=0.0)\n"
     ]
    }
   ],
   "source": [
    "mi_sinr_ber = mutual_info_classif(sinr_label.reshape(-1,1), ber_label.reshape(-1,1))\n",
    "rho_sinr_ber = stats.spearmanr(sinr_label, ber_label)\n",
    "print(\"SINR to BER - MI: {}, Spearman: {}\".format(mi_sinr_ber, rho_sinr_ber))"
   ]
  },
  {
   "attachments": {},
   "cell_type": "markdown",
   "metadata": {},
   "source": [
    "## Delay Parents Correlation"
   ]
  },
  {
   "cell_type": "code",
   "execution_count": 13,
   "metadata": {},
   "outputs": [
    {
     "name": "stderr",
     "output_type": "stream",
     "text": [
      "/home/research-student/.local/lib/python3.8/site-packages/sklearn/utils/validation.py:1143: DataConversionWarning: A column-vector y was passed when a 1d array was expected. Please change the shape of y to (n_samples, ), for example using ravel().\n",
      "  y = column_or_1d(y, warn=True)\n"
     ]
    },
    {
     "name": "stdout",
     "output_type": "stream",
     "text": [
      "SINR to Delay - MI: [0.09227339], Spearman: SpearmanrResult(correlation=-0.31017654001589723, pvalue=0.0)\n"
     ]
    },
    {
     "name": "stderr",
     "output_type": "stream",
     "text": [
      "/home/research-student/.local/lib/python3.8/site-packages/sklearn/utils/validation.py:1143: DataConversionWarning: A column-vector y was passed when a 1d array was expected. Please change the shape of y to (n_samples, ), for example using ravel().\n",
      "  y = column_or_1d(y, warn=True)\n"
     ]
    },
    {
     "name": "stdout",
     "output_type": "stream",
     "text": [
      "No. UAVs to Delay - MI: [0.03464009], Spearman: SpearmanrResult(correlation=-0.035806616387445554, pvalue=0.0)\n"
     ]
    },
    {
     "name": "stderr",
     "output_type": "stream",
     "text": [
      "/home/research-student/.local/lib/python3.8/site-packages/sklearn/utils/validation.py:1143: DataConversionWarning: A column-vector y was passed when a 1d array was expected. Please change the shape of y to (n_samples, ), for example using ravel().\n",
      "  y = column_or_1d(y, warn=True)\n"
     ]
    },
    {
     "name": "stdout",
     "output_type": "stream",
     "text": [
      "Packet Size to Delay - MI: [0.04769863], Spearman: SpearmanrResult(correlation=0.047114495826077726, pvalue=0.0)\n"
     ]
    },
    {
     "name": "stderr",
     "output_type": "stream",
     "text": [
      "/home/research-student/.local/lib/python3.8/site-packages/sklearn/utils/validation.py:1143: DataConversionWarning: A column-vector y was passed when a 1d array was expected. Please change the shape of y to (n_samples, ), for example using ravel().\n",
      "  y = column_or_1d(y, warn=True)\n"
     ]
    },
    {
     "name": "stdout",
     "output_type": "stream",
     "text": [
      "Sending Interval to Delay - MI: [0.03313827], Spearman: SpearmanrResult(correlation=0.0027678860846986984, pvalue=0.0009782556900898795)\n"
     ]
    }
   ],
   "source": [
    "mi_ber_delay = mutual_info_classif(ber_label.reshape(-1,1), delay_label.reshape(-1,1))\n",
    "rho_ber_delay = stats.spearmanr(ber_label, delay_label)\n",
    "print(\"BER to Delay - MI: {}, Spearman: {}\".format(mi_ber_delay, rho_ber_delay))\n",
    "mi_num_members_delay = mutual_info_classif(num_members_label.reshape(-1,1), delay_label.reshape(-1,1))\n",
    "rho_num_members_delay = stats.spearmanr(num_members_label, delay_label)\n",
    "print(\"No. UAVs to Delay - MI: {}, Spearman: {}\".format(mi_num_members_delay, rho_num_members_delay))\n",
    "mi_packet_size_delay = mutual_info_classif(packet_size_label.reshape(-1,1), delay_label.reshape(-1,1))\n",
    "rho_packet_size_delay = stats.spearmanr(packet_size_label, delay_label)\n",
    "print(\"Packet Size to Delay - MI: {}, Spearman: {}\".format(mi_packet_size_delay, rho_packet_size_delay))\n",
    "mi_sending_interval_delay = mutual_info_classif(sending_interval_label.reshape(-1,1), delay_label.reshape(-1,1))\n",
    "rho_sending_interval_delay = stats.spearmanr(sending_interval_label, delay_label)\n",
    "print(\"Sending Interval to Delay - MI: {}, Spearman: {}\".format(mi_sending_interval_delay, rho_sending_interval_delay))"
   ]
  },
  {
   "attachments": {},
   "cell_type": "markdown",
   "metadata": {},
   "source": [
    "## Incorrect Rcvd Parents Correlation"
   ]
  },
  {
   "cell_type": "code",
   "execution_count": null,
   "metadata": {},
   "outputs": [],
   "source": [
    "mi_ber_incr_rcvd = mutual_info_classif(ber_label.reshape(-1,1), incr_rcvd_label.reshape(-1,1))\n",
    "rho_ber_incr_rcvd = stats.spearmanr(ber_label, incr_rcvd_label)\n",
    "print(\"BER to Incorrect Rcvd - MI: {}, Spearman: {}\".format(mi_ber_incr_rcvd, rho_ber_incr_rcvd))\n",
    "mi_delay_incr_rcvd = mutual_info_classif(delay_label.reshape(-1,1), incr_rcvd_label.reshape(-1,1))\n",
    "rho_delay_incr_rcvd = stats.spearmanr(delay_label, incr_rcvd_label)\n",
    "print(\"Delay to Incorrect Rcvd - MI: {}, Spearman: {}\".format(mi_delay_incr_rcvd, rho_delay_incr_rcvd))"
   ]
  },
  {
   "attachments": {},
   "cell_type": "markdown",
   "metadata": {},
   "source": [
    "## Delay Exceeded Parents Correlation"
   ]
  },
  {
   "cell_type": "code",
   "execution_count": null,
   "metadata": {},
   "outputs": [],
   "source": [
    "mi_ber_delay_excd = mutual_info_classif(ber_label.reshape(-1,1), delay_excd_label.reshape(-1,1))\n",
    "rho_ber_delay_excd = stats.spearmanr(ber_label, delay_excd_label)\n",
    "print(\"BER to Delay Excd - MI: {}, Spearman: {}\".format(mi_ber_delay_excd, rho_ber_delay_excd))\n",
    "mi_delay_delay_excd = mutual_info_classif(delay_label.reshape(-1,1), delay_excd_label.reshape(-1,1))\n",
    "rho_delay_delay_excd = stats.spearmanr(delay_label, delay_excd_label)\n",
    "print(\"Delay to Delay Excd - MI: {}, Spearman: {}\".format(mi_delay_delay_excd, rho_delay_delay_excd))"
   ]
  },
  {
   "attachments": {},
   "cell_type": "markdown",
   "metadata": {},
   "source": [
    "## Queue Overflow Parents Correlation"
   ]
  },
  {
   "cell_type": "code",
   "execution_count": null,
   "metadata": {},
   "outputs": [],
   "source": [
    "mi_ber_q_overflow = mutual_info_classif(ber_label.reshape(-1,1), q_overflow_label.reshape(-1,1))\n",
    "rho_ber_q_overflow = stats.spearmanr(ber_label, q_overflow_label)\n",
    "print(\"BER to Q Overflow - MI: {}, Spearman: {}\".format(mi_ber_q_overflow, rho_ber_q_overflow))\n",
    "mi_delay_q_overflow = mutual_info_classif(delay_label.reshape(-1,1), q_overflow_label.reshape(-1,1))\n",
    "rho_delay_q_overflow = stats.spearmanr(delay_label, q_overflow_label)\n",
    "print(\"Delay to Q Overflow - MI: {}, Spearman: {}\".format(mi_delay_q_overflow, rho_delay_q_overflow))\n",
    "mi_num_members_q_overflow = mutual_info_classif(num_members_label.reshape(-1,1), q_overflow_label.reshape(-1,1))\n",
    "rho_num_members_q_overflow = stats.spearmanr(num_members_label, q_overflow_label)\n",
    "print(\"No. UAVs to Q Overflow - MI: {}, Spearman: {}\".format(mi_num_members_q_overflow, rho_num_members_q_overflow))\n",
    "mi_packet_size_q_overflow = mutual_info_classif(packet_size_label.reshape(-1,1), q_overflow_label.reshape(-1,1))\n",
    "rho_packet_size_q_overflow = stats.spearmanr(packet_size_label, q_overflow_label)\n",
    "print(\"Packet Size to Q Overflow - MI: {}, Spearman: {}\".format(mi_packet_size_q_overflow, rho_packet_size_q_overflow))\n",
    "mi_sending_interval_q_overflow = mutual_info_classif(sending_interval_label.reshape(-1,1), q_overflow_label.reshape(-1,1))\n",
    "rho_sending_interval_q_overflow = stats.spearmanr(sending_interval_label, q_overflow_label)\n",
    "print(\"Sending Interval to Q Overflow - MI: {}, Spearman: {}\".format(mi_sending_interval_q_overflow, rho_sending_interval_q_overflow))"
   ]
  },
  {
   "attachments": {},
   "cell_type": "markdown",
   "metadata": {},
   "source": [
    "## Extras"
   ]
  },
  {
   "cell_type": "code",
   "execution_count": null,
   "metadata": {},
   "outputs": [],
   "source": [
    "print(mutual_info_regression(df.U2G_H_Dist.values.reshape(-1,1), df.U2G_SINR.values.reshape(-1,1)))"
   ]
  },
  {
   "cell_type": "code",
   "execution_count": null,
   "metadata": {},
   "outputs": [],
   "source": [
    "stats.chi2_contingency(pd.crosstab(classes_df[\"Sending_Interval_Class\"], classes_df[\"SINR_Class\"]))"
   ]
  }
 ],
 "metadata": {
  "kernelspec": {
   "display_name": "rapids-22.12",
   "language": "python",
   "name": "python3"
  },
  "language_info": {
   "codemirror_mode": {
    "name": "ipython",
    "version": 3
   },
   "file_extension": ".py",
   "mimetype": "text/x-python",
   "name": "python",
   "nbconvert_exporter": "python",
   "pygments_lexer": "ipython3",
   "version": "3.8.15"
  },
  "orig_nbformat": 4,
  "vscode": {
   "interpreter": {
    "hash": "6b91d162001b74e2486487353b6410b0f764056372f730fbe993a2ad06d40082"
   }
  }
 },
 "nbformat": 4,
 "nbformat_minor": 2
}
