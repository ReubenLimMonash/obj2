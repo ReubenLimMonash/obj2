{
 "cells": [
  {
   "cell_type": "markdown",
   "metadata": {},
   "source": [
    "# Calculate test metric from results of test dataset"
   ]
  },
  {
   "cell_type": "markdown",
   "metadata": {},
   "source": [
    "## Calculate R2 score for throughput prediction"
   ]
  },
  {
   "cell_type": "code",
   "execution_count": 3,
   "metadata": {},
   "outputs": [
    {
     "name": "stdout",
     "output_type": "stream",
     "text": [
      "0.9986319843399973\n"
     ]
    }
   ],
   "source": [
    "import pandas as pd\n",
    "import numpy as np\n",
    "from sklearn.metrics import r2_score\n",
    "\n",
    "results_df = pd.read_csv(\"/media/research-student/One Touch/FANET Datasets/Video_Multi_Modulation_Test_Cases_1_Downlink_Throughput_NN_RESULTS.csv\")\n",
    "\n",
    "# Calculate the R squared score for each test cases\n",
    "# test_cases = results_df[['Modulation','UAV_Sending_Interval']].drop_duplicates()\n",
    "# r2 = []\n",
    "# for row in test_cases.itertuples():\n",
    "#     test_case_df = results_df.loc[(results_df[\"Modulation\"] == row.Modulation) & (results_df[\"UAV_Sending_Interval\"] == row.UAV_Sending_Interval)]\n",
    "#     simulated = test_case_df[\"Throughput\"].values\n",
    "#     predicted = test_case_df[\"Predicted_Throughput\"].values\n",
    "#     r2.append(r2_score(simulated, predicted))\n",
    "# print(np.mean(r2))\n",
    "\n",
    "# Calculate overall R squared score (better approach)\n",
    "simulated = results_df[\"Throughput\"].values\n",
    "predicted = results_df[\"Predicted_Throughput\"].values\n",
    "print(r2_score(simulated, predicted))"
   ]
  }
 ],
 "metadata": {
  "kernelspec": {
   "display_name": "Python 3",
   "language": "python",
   "name": "python3"
  },
  "language_info": {
   "codemirror_mode": {
    "name": "ipython",
    "version": 3
   },
   "file_extension": ".py",
   "mimetype": "text/x-python",
   "name": "python",
   "nbconvert_exporter": "python",
   "pygments_lexer": "ipython3",
   "version": "3.8.10"
  },
  "orig_nbformat": 4
 },
 "nbformat": 4,
 "nbformat_minor": 2
}
